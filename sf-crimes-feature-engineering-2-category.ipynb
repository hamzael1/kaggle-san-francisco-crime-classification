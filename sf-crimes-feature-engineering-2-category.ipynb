{
 "cells": [
  {
   "cell_type": "code",
   "execution_count": 3,
   "metadata": {
    "ExecuteTime": {
     "end_time": "2019-02-12T12:30:20.227133Z",
     "start_time": "2019-02-12T12:30:17.660417Z"
    },
    "collapsed": true
   },
   "outputs": [],
   "source": [
    "import numpy as np\n",
    "import pandas as pd\n",
    "%matplotlib inline"
   ]
  },
  {
   "cell_type": "code",
   "execution_count": 5,
   "metadata": {
    "ExecuteTime": {
     "end_time": "2019-02-12T12:35:04.309281Z",
     "start_time": "2019-02-12T12:35:01.419860Z"
    }
   },
   "outputs": [
    {
     "data": {
      "text/html": [
       "<div>\n",
       "<style>\n",
       "    .dataframe thead tr:only-child th {\n",
       "        text-align: right;\n",
       "    }\n",
       "\n",
       "    .dataframe thead th {\n",
       "        text-align: left;\n",
       "    }\n",
       "\n",
       "    .dataframe tbody tr th {\n",
       "        vertical-align: top;\n",
       "    }\n",
       "</style>\n",
       "<table border=\"1\" class=\"dataframe\">\n",
       "  <thead>\n",
       "    <tr style=\"text-align: right;\">\n",
       "      <th></th>\n",
       "      <th>DateTime</th>\n",
       "      <th>Category</th>\n",
       "      <th>Descript</th>\n",
       "      <th>DayOfWeek</th>\n",
       "      <th>PdDistrict</th>\n",
       "      <th>Resolution</th>\n",
       "      <th>Address</th>\n",
       "      <th>X</th>\n",
       "      <th>Y</th>\n",
       "      <th>Year</th>\n",
       "      <th>Month</th>\n",
       "      <th>Hour</th>\n",
       "    </tr>\n",
       "  </thead>\n",
       "  <tbody>\n",
       "    <tr>\n",
       "      <th>419784</th>\n",
       "      <td>2009-06-22 00:25:00</td>\n",
       "      <td>DRUG/NARCOTIC</td>\n",
       "      <td>POSSESSION OF MARIJUANA</td>\n",
       "      <td>Monday</td>\n",
       "      <td>INGLESIDE</td>\n",
       "      <td>ARREST, CITED</td>\n",
       "      <td>3300 Block of MISSION ST</td>\n",
       "      <td>-122.421644</td>\n",
       "      <td>37.742997</td>\n",
       "      <td>2009</td>\n",
       "      <td>6</td>\n",
       "      <td>0</td>\n",
       "    </tr>\n",
       "    <tr>\n",
       "      <th>650378</th>\n",
       "      <td>2006-02-22 10:15:00</td>\n",
       "      <td>ASSAULT</td>\n",
       "      <td>AGGRAVATED ASSAULT WITH BODILY FORCE</td>\n",
       "      <td>Wednesday</td>\n",
       "      <td>NORTHERN</td>\n",
       "      <td>NONE</td>\n",
       "      <td>GOUGH ST / EDDY ST</td>\n",
       "      <td>-122.424109</td>\n",
       "      <td>37.782476</td>\n",
       "      <td>2006</td>\n",
       "      <td>2</td>\n",
       "      <td>10</td>\n",
       "    </tr>\n",
       "    <tr>\n",
       "      <th>104099</th>\n",
       "      <td>2013-12-24 11:00:00</td>\n",
       "      <td>VEHICLE THEFT</td>\n",
       "      <td>STOLEN AUTOMOBILE</td>\n",
       "      <td>Tuesday</td>\n",
       "      <td>TARAVAL</td>\n",
       "      <td>NONE</td>\n",
       "      <td>900 Block of JUNIPERO SERRA BL</td>\n",
       "      <td>-122.472592</td>\n",
       "      <td>37.720087</td>\n",
       "      <td>2013</td>\n",
       "      <td>12</td>\n",
       "      <td>11</td>\n",
       "    </tr>\n",
       "  </tbody>\n",
       "</table>\n",
       "</div>"
      ],
      "text/plain": [
       "                   DateTime       Category  \\\n",
       "419784  2009-06-22 00:25:00  DRUG/NARCOTIC   \n",
       "650378  2006-02-22 10:15:00        ASSAULT   \n",
       "104099  2013-12-24 11:00:00  VEHICLE THEFT   \n",
       "\n",
       "                                    Descript  DayOfWeek PdDistrict  \\\n",
       "419784               POSSESSION OF MARIJUANA     Monday  INGLESIDE   \n",
       "650378  AGGRAVATED ASSAULT WITH BODILY FORCE  Wednesday   NORTHERN   \n",
       "104099                     STOLEN AUTOMOBILE    Tuesday    TARAVAL   \n",
       "\n",
       "           Resolution                         Address           X          Y  \\\n",
       "419784  ARREST, CITED        3300 Block of MISSION ST -122.421644  37.742997   \n",
       "650378           NONE              GOUGH ST / EDDY ST -122.424109  37.782476   \n",
       "104099           NONE  900 Block of JUNIPERO SERRA BL -122.472592  37.720087   \n",
       "\n",
       "        Year  Month  Hour  \n",
       "419784  2009      6     0  \n",
       "650378  2006      2    10  \n",
       "104099  2013     12    11  "
      ]
     },
     "execution_count": 5,
     "metadata": {},
     "output_type": "execute_result"
    }
   ],
   "source": [
    "train_df = pd.read_csv('data/train_clean_1.csv')\n",
    "train_df.sample(3)"
   ]
  },
  {
   "cell_type": "markdown",
   "metadata": {},
   "source": [
    "## The 'Category' column"
   ]
  },
  {
   "cell_type": "markdown",
   "metadata": {},
   "source": [
    "#### It describes the Category of the crime commited. Let's check all the values it can take"
   ]
  },
  {
   "cell_type": "code",
   "execution_count": 6,
   "metadata": {
    "ExecuteTime": {
     "end_time": "2019-02-12T12:35:15.466066Z",
     "start_time": "2019-02-12T12:35:15.413695Z"
    }
   },
   "outputs": [
    {
     "data": {
      "text/plain": [
       "(array(['WARRANTS', 'OTHER OFFENSES', 'LARCENY/THEFT', 'VEHICLE THEFT',\n",
       "        'VANDALISM', 'NON-CRIMINAL', 'ROBBERY', 'ASSAULT', 'WEAPON LAWS',\n",
       "        'BURGLARY', 'SUSPICIOUS OCC', 'DRUNKENNESS',\n",
       "        'FORGERY/COUNTERFEITING', 'DRUG/NARCOTIC', 'STOLEN PROPERTY',\n",
       "        'SECONDARY CODES', 'TRESPASS', 'MISSING PERSON', 'FRAUD',\n",
       "        'KIDNAPPING', 'RUNAWAY', 'DRIVING UNDER THE INFLUENCE',\n",
       "        'SEX OFFENSES FORCIBLE', 'PROSTITUTION', 'DISORDERLY CONDUCT',\n",
       "        'ARSON', 'FAMILY OFFENSES', 'LIQUOR LAWS', 'BRIBERY',\n",
       "        'EMBEZZLEMENT', 'SUICIDE', 'LOITERING',\n",
       "        'SEX OFFENSES NON FORCIBLE', 'EXTORTION', 'GAMBLING', 'BAD CHECKS',\n",
       "        'TREA', 'RECOVERED VEHICLE', 'PORNOGRAPHY/OBSCENE MAT'],\n",
       "       dtype=object), 39)"
      ]
     },
     "execution_count": 6,
     "metadata": {},
     "output_type": "execute_result"
    }
   ],
   "source": [
    "all_cats = train_df.Category.unique()\n",
    "all_cats, len(all_cats)"
   ]
  },
  {
   "cell_type": "markdown",
   "metadata": {},
   "source": [
    "- We can see that there are in total **39 unique values** this column can take\n",
    "- Let's see how many crimes there are in each category to get a glimpse of the distribution :"
   ]
  },
  {
   "cell_type": "code",
   "execution_count": 7,
   "metadata": {
    "ExecuteTime": {
     "end_time": "2019-02-12T12:35:17.859195Z",
     "start_time": "2019-02-12T12:35:17.731653Z"
    }
   },
   "outputs": [
    {
     "data": {
      "text/plain": [
       "Category\n",
       "TREA                            0.000683\n",
       "PORNOGRAPHY/OBSCENE MAT         0.002506\n",
       "GAMBLING                        0.016628\n",
       "SEX OFFENSES NON FORCIBLE       0.016856\n",
       "EXTORTION                       0.029156\n",
       "BRIBERY                         0.032914\n",
       "BAD CHECKS                      0.046239\n",
       "FAMILY OFFENSES                 0.055919\n",
       "SUICIDE                         0.057856\n",
       "EMBEZZLEMENT                    0.132794\n",
       "LOITERING                       0.139514\n",
       "ARSON                           0.172314\n",
       "LIQUOR LAWS                     0.216731\n",
       "RUNAWAY                         0.221628\n",
       "DRIVING UNDER THE INFLUENCE     0.258300\n",
       "KIDNAPPING                      0.266614\n",
       "RECOVERED VEHICLE               0.357383\n",
       "DRUNKENNESS                     0.487444\n",
       "DISORDERLY CONDUCT              0.492000\n",
       "SEX OFFENSES FORCIBLE           0.499744\n",
       "STOLEN PROPERTY                 0.517055\n",
       "TRESPASS                        0.834350\n",
       "PROSTITUTION                    0.852344\n",
       "WEAPON LAWS                     0.974319\n",
       "SECONDARY CODES                 1.137180\n",
       "FORGERY/COUNTERFEITING          1.208247\n",
       "FRAUD                           1.899552\n",
       "ROBBERY                         2.619444\n",
       "MISSING PERSON                  2.959858\n",
       "SUSPICIOUS OCC                  3.577705\n",
       "BURGLARY                        4.185985\n",
       "WARRANTS                        4.807704\n",
       "VANDALISM                       5.093679\n",
       "VEHICLE THEFT                   6.125057\n",
       "DRUG/NARCOTIC                   6.146696\n",
       "ASSAULT                         8.755320\n",
       "NON-CRIMINAL                   10.512397\n",
       "OTHER OFFENSES                 14.370724\n",
       "LARCENY/THEFT                  19.919162\n",
       "Name: Descript, dtype: float64"
      ]
     },
     "execution_count": 7,
     "metadata": {},
     "output_type": "execute_result"
    }
   ],
   "source": [
    "gb = (train_df.groupby('Category')['Descript'].count()/len(train_df))*100\n",
    "assert int(gb.sum()) == 100\n",
    "gb.sort_values(inplace=True)\n",
    "gb"
   ]
  },
  {
   "cell_type": "markdown",
   "metadata": {},
   "source": [
    "#### We can clearly see that 15 of the categories account for ~93% of the crimes ! ( whereas the remaining 24 categories account only for ~7% )\n",
    "- Let's make a quick visualization :"
   ]
  },
  {
   "cell_type": "code",
   "execution_count": 8,
   "metadata": {
    "ExecuteTime": {
     "end_time": "2019-02-12T12:35:20.911455Z",
     "start_time": "2019-02-12T12:35:20.046959Z"
    }
   },
   "outputs": [
    {
     "data": {
      "text/plain": [
       "<matplotlib.text.Text at 0x123313da0>"
      ]
     },
     "execution_count": 8,
     "metadata": {},
     "output_type": "execute_result"
    },
    {
     "data": {
      "image/png": "[encoded data removed]",
      "text/plain": [
       "<matplotlib.figure.Figure at 0x12e239240>"
      ]
     },
     "metadata": {},
     "output_type": "display_data"
    }
   ],
   "source": [
    "ax = gb.plot(kind='barh', figsize=(12,12) )\n",
    "ax.set_xlabel('Crime Percentage')"
   ]
  }
 ],
 "metadata": {
  "kernelspec": {
   "display_name": "Python 3",
   "language": "python",
   "name": "python3"
  },
  "language_info": {
   "codemirror_mode": {
    "name": "ipython",
    "version": 3
   },
   "file_extension": ".py",
   "mimetype": "text/x-python",
   "name": "python",
   "nbconvert_exporter": "python",
   "pygments_lexer": "ipython3",
   "version": "3.6.1"
  }
 },
 "nbformat": 4,
 "nbformat_minor": 2
}
