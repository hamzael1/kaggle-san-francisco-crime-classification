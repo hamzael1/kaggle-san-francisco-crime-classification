{
 "cells": [
  {
   "cell_type": "markdown",
   "metadata": {
    "_uuid": "d84cab67ca06188367159432ed68331972b8ed92"
   },
   "source": [
    "# Table of contents\n",
    "1. [Introduction](#introduction)\n",
    "2. [Imports](#imports)\n",
    "3. [Explore Dataset](#explore-dataset)\n",
    "4. [Quick Preprocessing & Feature Engineering](#preprocessing)\n",
    "5. [Feature Selection](#feature-selection)\n",
    "6. [Training with XGBoost (Cross Validation)](#training)"
   ]
  },
  {
   "cell_type": "markdown",
   "metadata": {
    "_uuid": "63cf65e81ea8c794aa07730c5312984fcc013741"
   },
   "source": [
    "# Introduction <a name=\"introduction\"></a>"
   ]
  },
  {
   "cell_type": "markdown",
   "metadata": {
    "_uuid": "914744ad4d84271de47e63eac392fc799a2848fa"
   },
   "source": [
    "This is my solution ( *late submission* ) to the **San Francisco Crime Classification** competition.\n",
    "\n",
    "I found this Dataset to be very interesting for learning to deal with *slightly big* datasets, it contains *Spatial Coordinates*,  a *Datetime* column and *cyclic features*.\n",
    "\n",
    "In this Kernel, I want to share my approach to this problem. I will focus on **Feature Engineering** & **Prediction** using **XGBoost**\n",
    "\n",
    "( **I wont' be going through the visualizations** ( you can check [my Github Repo](https://github.com/hamzael1/kaggle-san-francisco-crime-classification) )"
   ]
  },
  {
   "cell_type": "markdown",
   "metadata": {
    "_uuid": "911459d3dba57ecc0b3dd3bca6dadf8dbd8d6389"
   },
   "source": [
    "# Imports <a name=\"imports\"></a>"
   ]
  },
  {
   "cell_type": "code",
   "execution_count": 1,
   "metadata": {
    "_cell_guid": "b1076dfc-b9ad-4769-8c92-a6c4dae69d19",
    "_uuid": "8f2839f25d086af736a60e9eeb907d3b93b6e0e5"
   },
   "outputs": [],
   "source": [
    "%matplotlib inline\n",
    "import numpy as np # linear algebra\n",
    "import pandas as pd # data processing, CSV file I/O (e.g. pd.read_csv)"
   ]
  },
  {
   "cell_type": "markdown",
   "metadata": {
    "_uuid": "189ee9f7b5d2eb6a0e76f07c50ef5b8177172cf0"
   },
   "source": [
    "# Explore Dataset <a name=\"explore-dataset\"></a>"
   ]
  },
  {
   "cell_type": "code",
   "execution_count": 2,
   "metadata": {
    "_cell_guid": "79c7e3d0-c299-4dcb-8224-4455121ee9b0",
    "_uuid": "d629ff2d2480ee46fbb7e2d37f6b5fab8052498a"
   },
   "outputs": [],
   "source": [
    "train_df = pd.read_csv('../input/train.csv')\n",
    "test_df = pd.read_csv('../input/test.csv')"
   ]
  },
  {
   "cell_type": "markdown",
   "metadata": {
    "_uuid": "df553bbc276ce45a068b5479f6a5237a37454720"
   },
   "source": [
    "## Show Random rows:"
   ]
  },
  {
   "cell_type": "code",
   "execution_count": 3,
   "metadata": {
    "_uuid": "5123e8441b7a351ea691abf5b917edf63d679135"
   },
   "outputs": [
    {
     "data": {
      "text/html": [
       "<div>\n",
       "<style scoped>\n",
       "    .dataframe tbody tr th:only-of-type {\n",
       "        vertical-align: middle;\n",
       "    }\n",
       "\n",
       "    .dataframe tbody tr th {\n",
       "        vertical-align: top;\n",
       "    }\n",
       "\n",
       "    .dataframe thead th {\n",
       "        text-align: right;\n",
       "    }\n",
       "</style>\n",
       "<table border=\"1\" class=\"dataframe\">\n",
       "  <thead>\n",
       "    <tr style=\"text-align: right;\">\n",
       "      <th></th>\n",
       "      <th>Dates</th>\n",
       "      <th>Category</th>\n",
       "      <th>Descript</th>\n",
       "      <th>DayOfWeek</th>\n",
       "      <th>PdDistrict</th>\n",
       "      <th>Resolution</th>\n",
       "      <th>Address</th>\n",
       "      <th>X</th>\n",
       "      <th>Y</th>\n",
       "    </tr>\n",
       "  </thead>\n",
       "  <tbody>\n",
       "    <tr>\n",
       "      <th>247537</th>\n",
       "      <td>2012-01-13 07:00:00</td>\n",
       "      <td>FORGERY/COUNTERFEITING</td>\n",
       "      <td>CHECKS OR LEGAL INSTRUMENTS, UTTERING FORGED</td>\n",
       "      <td>Friday</td>\n",
       "      <td>TARAVAL</td>\n",
       "      <td>NONE</td>\n",
       "      <td>1200 Block of 44TH AV</td>\n",
       "      <td>-122.503912</td>\n",
       "      <td>37.763305</td>\n",
       "    </tr>\n",
       "    <tr>\n",
       "      <th>731953</th>\n",
       "      <td>2004-12-23 00:01:00</td>\n",
       "      <td>SEX OFFENSES FORCIBLE</td>\n",
       "      <td>SEXUAL BATTERY</td>\n",
       "      <td>Thursday</td>\n",
       "      <td>PARK</td>\n",
       "      <td>UNFOUNDED</td>\n",
       "      <td>0 Block of CASTRO ST</td>\n",
       "      <td>-122.435637</td>\n",
       "      <td>37.768169</td>\n",
       "    </tr>\n",
       "    <tr>\n",
       "      <th>74282</th>\n",
       "      <td>2014-05-17 16:00:00</td>\n",
       "      <td>VEHICLE THEFT</td>\n",
       "      <td>STOLEN AUTOMOBILE</td>\n",
       "      <td>Saturday</td>\n",
       "      <td>RICHMOND</td>\n",
       "      <td>NONE</td>\n",
       "      <td>2200 Block of BALBOA ST</td>\n",
       "      <td>-122.482861</td>\n",
       "      <td>37.776320</td>\n",
       "    </tr>\n",
       "    <tr>\n",
       "      <th>772349</th>\n",
       "      <td>2004-05-28 21:30:00</td>\n",
       "      <td>PROSTITUTION</td>\n",
       "      <td>SOLICITS LEWD ACT</td>\n",
       "      <td>Friday</td>\n",
       "      <td>MISSION</td>\n",
       "      <td>ARREST, CITED</td>\n",
       "      <td>400 Block of HAMPSHIRE ST</td>\n",
       "      <td>-122.408431</td>\n",
       "      <td>37.763758</td>\n",
       "    </tr>\n",
       "    <tr>\n",
       "      <th>380823</th>\n",
       "      <td>2010-01-16 02:10:00</td>\n",
       "      <td>SUSPICIOUS OCC</td>\n",
       "      <td>SUSPICIOUS PERSON</td>\n",
       "      <td>Saturday</td>\n",
       "      <td>INGLESIDE</td>\n",
       "      <td>NONE</td>\n",
       "      <td>WOOL ST / CORTLAND AV</td>\n",
       "      <td>-122.417141</td>\n",
       "      <td>37.739122</td>\n",
       "    </tr>\n",
       "  </tbody>\n",
       "</table>\n",
       "</div>"
      ],
      "text/plain": [
       "                      Dates    ...              Y\n",
       "247537  2012-01-13 07:00:00    ...      37.763305\n",
       "731953  2004-12-23 00:01:00    ...      37.768169\n",
       "74282   2014-05-17 16:00:00    ...      37.776320\n",
       "772349  2004-05-28 21:30:00    ...      37.763758\n",
       "380823  2010-01-16 02:10:00    ...      37.739122\n",
       "\n",
       "[5 rows x 9 columns]"
      ]
     },
     "execution_count": 3,
     "metadata": {},
     "output_type": "execute_result"
    }
   ],
   "source": [
    "# Show 5 random rows from dataset\n",
    "train_df.sample(5)"
   ]
  },
  {
   "cell_type": "code",
   "execution_count": 4,
   "metadata": {
    "_uuid": "a1b2a18a7705799316dbbbff1bd4d1ad53078a94"
   },
   "outputs": [
    {
     "data": {
      "text/html": [
       "<div>\n",
       "<style scoped>\n",
       "    .dataframe tbody tr th:only-of-type {\n",
       "        vertical-align: middle;\n",
       "    }\n",
       "\n",
       "    .dataframe tbody tr th {\n",
       "        vertical-align: top;\n",
       "    }\n",
       "\n",
       "    .dataframe thead th {\n",
       "        text-align: right;\n",
       "    }\n",
       "</style>\n",
       "<table border=\"1\" class=\"dataframe\">\n",
       "  <thead>\n",
       "    <tr style=\"text-align: right;\">\n",
       "      <th></th>\n",
       "      <th>Id</th>\n",
       "      <th>Dates</th>\n",
       "      <th>DayOfWeek</th>\n",
       "      <th>PdDistrict</th>\n",
       "      <th>Address</th>\n",
       "      <th>X</th>\n",
       "      <th>Y</th>\n",
       "    </tr>\n",
       "  </thead>\n",
       "  <tbody>\n",
       "    <tr>\n",
       "      <th>418545</th>\n",
       "      <td>418545</td>\n",
       "      <td>2009-07-03 14:40:00</td>\n",
       "      <td>Friday</td>\n",
       "      <td>TENDERLOIN</td>\n",
       "      <td>400 Block of ELLIS ST</td>\n",
       "      <td>-122.413631</td>\n",
       "      <td>37.784805</td>\n",
       "    </tr>\n",
       "  </tbody>\n",
       "</table>\n",
       "</div>"
      ],
      "text/plain": [
       "            Id                Dates    ...               X          Y\n",
       "418545  418545  2009-07-03 14:40:00    ...     -122.413631  37.784805\n",
       "\n",
       "[1 rows x 7 columns]"
      ]
     },
     "execution_count": 4,
     "metadata": {},
     "output_type": "execute_result"
    }
   ],
   "source": [
    "test_df.sample(1)"
   ]
  },
  {
   "cell_type": "markdown",
   "metadata": {
    "_uuid": "dbec66c4887da615cf2de97ce6ff1892780356d7"
   },
   "source": [
    "## Show useful information (columns, types, number of rows)"
   ]
  },
  {
   "cell_type": "markdown",
   "metadata": {
    "_uuid": "71c52aead02e3e835ee6b7842d3eb091c58093d1"
   },
   "source": [
    "- Few important observations:\n",
    "    - We have 878049 Observations of 9 variables\n",
    "    - We have a 'Dates' column which contains the date and time of the occurence of the crime, but it's a String.\n",
    "    - We have spatial coordinates ( Latitude and Longitude ) of the exact place of the crime.\n",
    "    - The Target column is 'Category', which is a Categorical Column ( 39 categories )\n",
    "    - The 'DayOfWeek' column is also Categorical ( 7 days )\n",
    "    - The 'PdDistrict' column is also Categorical ( 10 districts  )\n",
    "    - The 'Address' column indicates whether the crime location was an intersection of two roads\n",
    "    - The 'Resolution' column will be droped ( It won't help us with prediction )"
   ]
  },
  {
   "cell_type": "code",
   "execution_count": 5,
   "metadata": {
    "_uuid": "1b90be154e5f9b65f80f9188bf1aca2da8bab093"
   },
   "outputs": [
    {
     "name": "stdout",
     "output_type": "stream",
     "text": [
      "Number of Categories:  39\n",
      "Number of PdDistricts:  10\n",
      "Number of DayOfWeeks:  7\n",
      "_________________________________________________\n",
      "<class 'pandas.core.frame.DataFrame'>\n",
      "RangeIndex: 878049 entries, 0 to 878048\n",
      "Data columns (total 9 columns):\n",
      "Dates         878049 non-null object\n",
      "Category      878049 non-null object\n",
      "Descript      878049 non-null object\n",
      "DayOfWeek     878049 non-null object\n",
      "PdDistrict    878049 non-null object\n",
      "Resolution    878049 non-null object\n",
      "Address       878049 non-null object\n",
      "X             878049 non-null float64\n",
      "Y             878049 non-null float64\n",
      "dtypes: float64(2), object(7)\n",
      "memory usage: 60.3+ MB\n"
     ]
    }
   ],
   "source": [
    "print('Number of Categories: ', train_df.Category.nunique())\n",
    "print('Number of PdDistricts: ', train_df.PdDistrict.nunique())\n",
    "print('Number of DayOfWeeks: ', train_df.DayOfWeek.nunique())\n",
    "print('_________________________________________________')\n",
    "# Show some useful Information\n",
    "train_df.info()"
   ]
  },
  {
   "cell_type": "markdown",
   "metadata": {
    "_uuid": "0816a7e7a6bce269674f1a68a4d48ed32169d5ad"
   },
   "source": [
    "# Quick Preprocessing & Feature Engineering <a name=\"preprocessing\"></a>"
   ]
  },
  {
   "cell_type": "markdown",
   "metadata": {
    "_uuid": "bf99fd4307cbb5c382f61dffa00a60105280d710"
   },
   "source": [
    " ## Drop the Resolution Column:"
   ]
  },
  {
   "cell_type": "code",
   "execution_count": 6,
   "metadata": {
    "_uuid": "7021343575458aaa873148075f62d2e6dd148c56"
   },
   "outputs": [
    {
     "data": {
      "text/html": [
       "<div>\n",
       "<style scoped>\n",
       "    .dataframe tbody tr th:only-of-type {\n",
       "        vertical-align: middle;\n",
       "    }\n",
       "\n",
       "    .dataframe tbody tr th {\n",
       "        vertical-align: top;\n",
       "    }\n",
       "\n",
       "    .dataframe thead th {\n",
       "        text-align: right;\n",
       "    }\n",
       "</style>\n",
       "<table border=\"1\" class=\"dataframe\">\n",
       "  <thead>\n",
       "    <tr style=\"text-align: right;\">\n",
       "      <th></th>\n",
       "      <th>Dates</th>\n",
       "      <th>Category</th>\n",
       "      <th>Descript</th>\n",
       "      <th>DayOfWeek</th>\n",
       "      <th>PdDistrict</th>\n",
       "      <th>Address</th>\n",
       "      <th>X</th>\n",
       "      <th>Y</th>\n",
       "    </tr>\n",
       "  </thead>\n",
       "  <tbody>\n",
       "    <tr>\n",
       "      <th>617445</th>\n",
       "      <td>2006-08-10 08:06:00</td>\n",
       "      <td>WARRANTS</td>\n",
       "      <td>WARRANT ARREST</td>\n",
       "      <td>Thursday</td>\n",
       "      <td>MISSION</td>\n",
       "      <td>400 Block of VALENCIA ST</td>\n",
       "      <td>-122.421994</td>\n",
       "      <td>37.765315</td>\n",
       "    </tr>\n",
       "  </tbody>\n",
       "</table>\n",
       "</div>"
      ],
      "text/plain": [
       "                      Dates  Category    ...               X          Y\n",
       "617445  2006-08-10 08:06:00  WARRANTS    ...     -122.421994  37.765315\n",
       "\n",
       "[1 rows x 8 columns]"
      ]
     },
     "execution_count": 6,
     "metadata": {},
     "output_type": "execute_result"
    }
   ],
   "source": [
    "train_df = train_df.drop('Resolution', axis=1)\n",
    "train_df.sample(1)"
   ]
  },
  {
   "cell_type": "markdown",
   "metadata": {
    "_uuid": "ee43099681b88fccb311b8b72855c9e41def91e6"
   },
   "source": [
    "## Parse the 'Dates' Column:"
   ]
  },
  {
   "cell_type": "markdown",
   "metadata": {
    "_uuid": "985f7870c5f9799f145fc8f1aeecb1c2832bb191"
   },
   "source": [
    "### The 'Dates' column type is String. It will be easier to work with by parsing it to Datetime."
   ]
  },
  {
   "cell_type": "code",
   "execution_count": 7,
   "metadata": {
    "_uuid": "2f7763ec086bfa0dd8021dae5498678e4f1cac2d"
   },
   "outputs": [
    {
     "data": {
      "text/plain": [
       "dtype('O')"
      ]
     },
     "execution_count": 7,
     "metadata": {},
     "output_type": "execute_result"
    }
   ],
   "source": [
    "train_df.Dates.dtype"
   ]
  },
  {
   "cell_type": "markdown",
   "metadata": {
    "_uuid": "9c2627a666613faaf54c433d84649511c92b6886"
   },
   "source": [
    "### Check if there are any missing values or typos:"
   ]
  },
  {
   "cell_type": "code",
   "execution_count": 8,
   "metadata": {
    "_uuid": "59fff66423c493f05f4630aa7b6c271d144a0e9e"
   },
   "outputs": [],
   "source": [
    "assert train_df.Dates.isnull().any() == False\n",
    "assert test_df.Dates.isnull().any() == False"
   ]
  },
  {
   "cell_type": "code",
   "execution_count": 9,
   "metadata": {
    "_uuid": "a7908c031af864b09e93e9b90d2bd48020d60c59"
   },
   "outputs": [],
   "source": [
    "assert train_df.Dates.str.match('\\d\\d\\d\\d-\\d\\d-\\d\\d \\d\\d:\\d\\d:\\d\\d').all() == True\n",
    "assert test_df.Dates.str.match('\\d\\d\\d\\d-\\d\\d-\\d\\d \\d\\d:\\d\\d:\\d\\d').all() == True"
   ]
  },
  {
   "cell_type": "markdown",
   "metadata": {
    "_uuid": "bfbe78aad03b556c470d9733c758f9c8a3387233"
   },
   "source": [
    "### Now we proceed to parsing using the function `pandas.to_datetime` :\n",
    "( We will also change the column name to 'Date' singular ) "
   ]
  },
  {
   "cell_type": "code",
   "execution_count": 10,
   "metadata": {
    "_uuid": "94a83f26f4ef8ef8718cb772862168da35886788"
   },
   "outputs": [
    {
     "data": {
      "text/html": [
       "<div>\n",
       "<style scoped>\n",
       "    .dataframe tbody tr th:only-of-type {\n",
       "        vertical-align: middle;\n",
       "    }\n",
       "\n",
       "    .dataframe tbody tr th {\n",
       "        vertical-align: top;\n",
       "    }\n",
       "\n",
       "    .dataframe thead th {\n",
       "        text-align: right;\n",
       "    }\n",
       "</style>\n",
       "<table border=\"1\" class=\"dataframe\">\n",
       "  <thead>\n",
       "    <tr style=\"text-align: right;\">\n",
       "      <th></th>\n",
       "      <th>Category</th>\n",
       "      <th>Descript</th>\n",
       "      <th>DayOfWeek</th>\n",
       "      <th>PdDistrict</th>\n",
       "      <th>Address</th>\n",
       "      <th>X</th>\n",
       "      <th>Y</th>\n",
       "      <th>Date</th>\n",
       "    </tr>\n",
       "  </thead>\n",
       "  <tbody>\n",
       "    <tr>\n",
       "      <th>749404</th>\n",
       "      <td>LARCENY/THEFT</td>\n",
       "      <td>PETTY THEFT FROM A BUILDING</td>\n",
       "      <td>Saturday</td>\n",
       "      <td>SOUTHERN</td>\n",
       "      <td>1300 Block of MARKET ST</td>\n",
       "      <td>-122.416819</td>\n",
       "      <td>37.776936</td>\n",
       "      <td>2004-09-18 17:20:00</td>\n",
       "    </tr>\n",
       "  </tbody>\n",
       "</table>\n",
       "</div>"
      ],
      "text/plain": [
       "             Category         ...                        Date\n",
       "749404  LARCENY/THEFT         ...         2004-09-18 17:20:00\n",
       "\n",
       "[1 rows x 8 columns]"
      ]
     },
     "execution_count": 10,
     "metadata": {},
     "output_type": "execute_result"
    }
   ],
   "source": [
    "train_df['Date'] = pd.to_datetime(train_df.Dates)\n",
    "test_df['Date'] = pd.to_datetime(test_df.Dates)\n",
    "\n",
    "train_df = train_df.drop('Dates', axis=1)\n",
    "test_df = test_df.drop('Dates', axis=1)\n",
    "train_df.sample(1)"
   ]
  },
  {
   "cell_type": "code",
   "execution_count": 11,
   "metadata": {
    "_uuid": "0c5c428ebf6a43bf50665b0a053b68f888d630cd"
   },
   "outputs": [
    {
     "data": {
      "text/plain": [
       "dtype('<M8[ns]')"
      ]
     },
     "execution_count": 11,
     "metadata": {},
     "output_type": "execute_result"
    }
   ],
   "source": [
    "# Confirm that it was parsed to Datetime\n",
    "train_df.Date.dtype"
   ]
  },
  {
   "cell_type": "markdown",
   "metadata": {
    "_uuid": "3f691c2582672025a02424f55474e44287613d6e"
   },
   "source": [
    "## Engineer a feature to indicate whether the crime was commited by day or by night :"
   ]
  },
  {
   "cell_type": "code",
   "execution_count": 12,
   "metadata": {
    "_uuid": "cc73b9f9f88311489ac6b7a6cb5ae46187a0b3c5"
   },
   "outputs": [
    {
     "data": {
      "text/html": [
       "<div>\n",
       "<style scoped>\n",
       "    .dataframe tbody tr th:only-of-type {\n",
       "        vertical-align: middle;\n",
       "    }\n",
       "\n",
       "    .dataframe tbody tr th {\n",
       "        vertical-align: top;\n",
       "    }\n",
       "\n",
       "    .dataframe thead th {\n",
       "        text-align: right;\n",
       "    }\n",
       "</style>\n",
       "<table border=\"1\" class=\"dataframe\">\n",
       "  <thead>\n",
       "    <tr style=\"text-align: right;\">\n",
       "      <th></th>\n",
       "      <th>Category</th>\n",
       "      <th>Descript</th>\n",
       "      <th>DayOfWeek</th>\n",
       "      <th>PdDistrict</th>\n",
       "      <th>Address</th>\n",
       "      <th>X</th>\n",
       "      <th>Y</th>\n",
       "      <th>Date</th>\n",
       "      <th>IsDay</th>\n",
       "    </tr>\n",
       "  </thead>\n",
       "  <tbody>\n",
       "    <tr>\n",
       "      <th>221833</th>\n",
       "      <td>ASSAULT</td>\n",
       "      <td>THREATS AGAINST LIFE</td>\n",
       "      <td>Tuesday</td>\n",
       "      <td>BAYVIEW</td>\n",
       "      <td>0 Block of DUKES CT</td>\n",
       "      <td>-122.386783</td>\n",
       "      <td>37.737003</td>\n",
       "      <td>2012-05-29 11:00:00</td>\n",
       "      <td>1</td>\n",
       "    </tr>\n",
       "    <tr>\n",
       "      <th>790550</th>\n",
       "      <td>DRUG/NARCOTIC</td>\n",
       "      <td>POSSESSION OF HEROIN</td>\n",
       "      <td>Friday</td>\n",
       "      <td>SOUTHERN</td>\n",
       "      <td>0 Block of 6TH ST</td>\n",
       "      <td>-122.409504</td>\n",
       "      <td>37.781526</td>\n",
       "      <td>2004-03-05 12:40:00</td>\n",
       "      <td>1</td>\n",
       "    </tr>\n",
       "    <tr>\n",
       "      <th>354565</th>\n",
       "      <td>BURGLARY</td>\n",
       "      <td>BURGLARY,STORE UNDER CONSTRUCTION, FORCIBLE ENTRY</td>\n",
       "      <td>Monday</td>\n",
       "      <td>MISSION</td>\n",
       "      <td>300 Block of TREAT AV</td>\n",
       "      <td>-122.413446</td>\n",
       "      <td>37.764637</td>\n",
       "      <td>2010-06-14 12:00:00</td>\n",
       "      <td>1</td>\n",
       "    </tr>\n",
       "  </tbody>\n",
       "</table>\n",
       "</div>"
      ],
      "text/plain": [
       "             Category  ...  IsDay\n",
       "221833        ASSAULT  ...      1\n",
       "790550  DRUG/NARCOTIC  ...      1\n",
       "354565       BURGLARY  ...      1\n",
       "\n",
       "[3 rows x 9 columns]"
      ]
     },
     "execution_count": 12,
     "metadata": {},
     "output_type": "execute_result"
    }
   ],
   "source": [
    "train_df['IsDay'] = 0\n",
    "train_df.loc[ (train_df.Date.dt.hour > 6) & (train_df.Date.dt.hour < 20), 'IsDay' ] = 1\n",
    "test_df['IsDay'] = 0\n",
    "test_df.loc[ (test_df.Date.dt.hour > 6) & (test_df.Date.dt.hour < 20), 'IsDay' ] = 1\n",
    "\n",
    "train_df.sample(3)"
   ]
  },
  {
   "cell_type": "markdown",
   "metadata": {
    "_uuid": "dd7430b9e613a6c75f30a18ea5c84d4a0ea80654"
   },
   "source": [
    "## Create 'Month', 'Year' and 'DayOfWeekInt' columns"
   ]
  },
  {
   "cell_type": "markdown",
   "metadata": {
    "_uuid": "0409a43c06a2009811345c3b825866c4abbadc59"
   },
   "source": [
    "### Transform 'DayOfWeek' to Integer:"
   ]
  },
  {
   "cell_type": "code",
   "execution_count": 13,
   "metadata": {
    "_uuid": "127119e5e4657d49bc8925d9b20613a17be2ae21"
   },
   "outputs": [
    {
     "data": {
      "text/plain": [
       "array([3, 2, 1, 7, 6, 5, 4])"
      ]
     },
     "execution_count": 13,
     "metadata": {},
     "output_type": "execute_result"
    }
   ],
   "source": [
    "days_to_int_dic = {\n",
    "        'Monday': 1,\n",
    "        'Tuesday': 2,\n",
    "        'Wednesday': 3,\n",
    "        'Thursday': 4,\n",
    "        'Friday': 5,\n",
    "        'Saturday': 6,\n",
    "        'Sunday': 7,\n",
    "}\n",
    "train_df['DayOfWeek'] = train_df['DayOfWeek'].map(days_to_int_dic)\n",
    "test_df ['DayOfWeek'] = test_df ['DayOfWeek'].map(days_to_int_dic)\n",
    "\n",
    "train_df.DayOfWeek.unique()"
   ]
  },
  {
   "cell_type": "markdown",
   "metadata": {
    "_uuid": "7101d80be4bdd98b2aa50baba998e62ffeefac95"
   },
   "source": [
    "### Create Month & Year Columns: "
   ]
  },
  {
   "cell_type": "code",
   "execution_count": 14,
   "metadata": {
    "_uuid": "d480c06569e8c120d898f9682d669cb8e5fa0cf7"
   },
   "outputs": [
    {
     "data": {
      "text/html": [
       "<div>\n",
       "<style scoped>\n",
       "    .dataframe tbody tr th:only-of-type {\n",
       "        vertical-align: middle;\n",
       "    }\n",
       "\n",
       "    .dataframe tbody tr th {\n",
       "        vertical-align: top;\n",
       "    }\n",
       "\n",
       "    .dataframe thead th {\n",
       "        text-align: right;\n",
       "    }\n",
       "</style>\n",
       "<table border=\"1\" class=\"dataframe\">\n",
       "  <thead>\n",
       "    <tr style=\"text-align: right;\">\n",
       "      <th></th>\n",
       "      <th>Category</th>\n",
       "      <th>Descript</th>\n",
       "      <th>DayOfWeek</th>\n",
       "      <th>PdDistrict</th>\n",
       "      <th>Address</th>\n",
       "      <th>X</th>\n",
       "      <th>Y</th>\n",
       "      <th>Date</th>\n",
       "      <th>IsDay</th>\n",
       "      <th>Month</th>\n",
       "      <th>Year</th>\n",
       "    </tr>\n",
       "  </thead>\n",
       "  <tbody>\n",
       "    <tr>\n",
       "      <th>527122</th>\n",
       "      <td>OTHER OFFENSES</td>\n",
       "      <td>PROBATION VIOLATION</td>\n",
       "      <td>6</td>\n",
       "      <td>SOUTHERN</td>\n",
       "      <td>1000 Block of MARKET ST</td>\n",
       "      <td>-122.411071</td>\n",
       "      <td>37.781751</td>\n",
       "      <td>2007-12-01 13:50:00</td>\n",
       "      <td>1</td>\n",
       "      <td>12</td>\n",
       "      <td>7</td>\n",
       "    </tr>\n",
       "  </tbody>\n",
       "</table>\n",
       "</div>"
      ],
      "text/plain": [
       "              Category             Descript  DayOfWeek  ...  IsDay Month  Year\n",
       "527122  OTHER OFFENSES  PROBATION VIOLATION          6  ...      1    12     7\n",
       "\n",
       "[1 rows x 11 columns]"
      ]
     },
     "execution_count": 14,
     "metadata": {},
     "output_type": "execute_result"
    }
   ],
   "source": [
    "train_df['Month'] = train_df.Date.dt.month\n",
    "train_df['Year'] = train_df.Date.dt.year\n",
    "train_df['Year'] = train_df['Year'] - 2000 # The Algorithm doesn't know the difference. It's just easier to work like that\n",
    "\n",
    "test_df['Month'] = test_df.Date.dt.month\n",
    "test_df['Year'] = test_df.Date.dt.year\n",
    "test_df['Year'] = test_df['Year'] - 2000 # The Algorithm doesn't know the difference. It's just easier to work like that\n",
    "\n",
    "train_df.sample(1)"
   ]
  },
  {
   "cell_type": "markdown",
   "metadata": {
    "_uuid": "0bb5d1420c3dc6adcd9a719307380ab4b97fa3b4"
   },
   "source": [
    "### Deal with the cyclic characteristic of Months and Days of Week:"
   ]
  },
  {
   "cell_type": "code",
   "execution_count": 15,
   "metadata": {
    "_uuid": "73b987093c55bc2718e9d2b25bb605ec0e3b9f6b"
   },
   "outputs": [
    {
     "data": {
      "text/html": [
       "<div>\n",
       "<style scoped>\n",
       "    .dataframe tbody tr th:only-of-type {\n",
       "        vertical-align: middle;\n",
       "    }\n",
       "\n",
       "    .dataframe tbody tr th {\n",
       "        vertical-align: top;\n",
       "    }\n",
       "\n",
       "    .dataframe thead th {\n",
       "        text-align: right;\n",
       "    }\n",
       "</style>\n",
       "<table border=\"1\" class=\"dataframe\">\n",
       "  <thead>\n",
       "    <tr style=\"text-align: right;\">\n",
       "      <th></th>\n",
       "      <th>Category</th>\n",
       "      <th>Descript</th>\n",
       "      <th>DayOfWeek</th>\n",
       "      <th>PdDistrict</th>\n",
       "      <th>Address</th>\n",
       "      <th>X</th>\n",
       "      <th>Y</th>\n",
       "      <th>Date</th>\n",
       "      <th>IsDay</th>\n",
       "      <th>Month</th>\n",
       "      <th>Year</th>\n",
       "      <th>DayOfWeekCos</th>\n",
       "      <th>MonthCos</th>\n",
       "    </tr>\n",
       "  </thead>\n",
       "  <tbody>\n",
       "    <tr>\n",
       "      <th>784574</th>\n",
       "      <td>DRUG/NARCOTIC</td>\n",
       "      <td>MAINTAINING PREMISE WHERE NARCOTICS ARE SOLD/USED</td>\n",
       "      <td>5</td>\n",
       "      <td>SOUTHERN</td>\n",
       "      <td>500 Block of MINNA ST</td>\n",
       "      <td>-122.408674</td>\n",
       "      <td>37.780057</td>\n",
       "      <td>2004-04-02 12:30:00</td>\n",
       "      <td>1</td>\n",
       "      <td>4</td>\n",
       "      <td>4</td>\n",
       "      <td>-0.222521</td>\n",
       "      <td>-0.5</td>\n",
       "    </tr>\n",
       "  </tbody>\n",
       "</table>\n",
       "</div>"
      ],
      "text/plain": [
       "             Category   ...    MonthCos\n",
       "784574  DRUG/NARCOTIC   ...        -0.5\n",
       "\n",
       "[1 rows x 13 columns]"
      ]
     },
     "execution_count": 15,
     "metadata": {},
     "output_type": "execute_result"
    }
   ],
   "source": [
    "train_df['DayOfWeekCos'] = np.cos((train_df['DayOfWeek']*2*np.pi)/7 )\n",
    "train_df['MonthCos'] = np.cos((train_df['Month']*2*np.pi)/12 )\n",
    "\n",
    "test_df['DayOfWeekCos'] = np.cos((test_df['DayOfWeek']*2*np.pi)/7 )\n",
    "test_df['MonthCos'] = np.cos((test_df['Month']*2*np.pi)/12 )\n",
    "\n",
    "train_df.sample(1)"
   ]
  },
  {
   "cell_type": "markdown",
   "metadata": {
    "_uuid": "b6ead9ed216c5af03e7bbaba8533e5f16c68582c"
   },
   "source": [
    "## Dummy Encoding of 'PdDistrict':"
   ]
  },
  {
   "cell_type": "code",
   "execution_count": 16,
   "metadata": {
    "_uuid": "196159c60c4ace69c39488699c811cbe40a408af"
   },
   "outputs": [
    {
     "data": {
      "text/html": [
       "<div>\n",
       "<style scoped>\n",
       "    .dataframe tbody tr th:only-of-type {\n",
       "        vertical-align: middle;\n",
       "    }\n",
       "\n",
       "    .dataframe tbody tr th {\n",
       "        vertical-align: top;\n",
       "    }\n",
       "\n",
       "    .dataframe thead th {\n",
       "        text-align: right;\n",
       "    }\n",
       "</style>\n",
       "<table border=\"1\" class=\"dataframe\">\n",
       "  <thead>\n",
       "    <tr style=\"text-align: right;\">\n",
       "      <th></th>\n",
       "      <th>Category</th>\n",
       "      <th>Descript</th>\n",
       "      <th>DayOfWeek</th>\n",
       "      <th>Address</th>\n",
       "      <th>X</th>\n",
       "      <th>Y</th>\n",
       "      <th>Date</th>\n",
       "      <th>IsDay</th>\n",
       "      <th>Month</th>\n",
       "      <th>Year</th>\n",
       "      <th>DayOfWeekCos</th>\n",
       "      <th>MonthCos</th>\n",
       "      <th>PdDistrict_BAYVIEW</th>\n",
       "      <th>PdDistrict_CENTRAL</th>\n",
       "      <th>PdDistrict_INGLESIDE</th>\n",
       "      <th>PdDistrict_MISSION</th>\n",
       "      <th>PdDistrict_NORTHERN</th>\n",
       "      <th>PdDistrict_PARK</th>\n",
       "      <th>PdDistrict_RICHMOND</th>\n",
       "      <th>PdDistrict_SOUTHERN</th>\n",
       "      <th>PdDistrict_TARAVAL</th>\n",
       "      <th>PdDistrict_TENDERLOIN</th>\n",
       "    </tr>\n",
       "  </thead>\n",
       "  <tbody>\n",
       "    <tr>\n",
       "      <th>265820</th>\n",
       "      <td>SUSPICIOUS OCC</td>\n",
       "      <td>INVESTIGATIVE DETENTION</td>\n",
       "      <td>4</td>\n",
       "      <td>0 Block of PHELAN AV</td>\n",
       "      <td>-122.452428</td>\n",
       "      <td>37.725717</td>\n",
       "      <td>2011-10-06 19:53:00</td>\n",
       "      <td>1</td>\n",
       "      <td>10</td>\n",
       "      <td>11</td>\n",
       "      <td>-0.900969</td>\n",
       "      <td>5.000000e-01</td>\n",
       "      <td>0</td>\n",
       "      <td>0</td>\n",
       "      <td>1</td>\n",
       "      <td>0</td>\n",
       "      <td>0</td>\n",
       "      <td>0</td>\n",
       "      <td>0</td>\n",
       "      <td>0</td>\n",
       "      <td>0</td>\n",
       "      <td>0</td>\n",
       "    </tr>\n",
       "    <tr>\n",
       "      <th>824612</th>\n",
       "      <td>BURGLARY</td>\n",
       "      <td>BURGLARY OF APARTMENT HOUSE, UNLAWFUL ENTRY</td>\n",
       "      <td>4</td>\n",
       "      <td>2900 Block of FOLSOM ST</td>\n",
       "      <td>-122.413778</td>\n",
       "      <td>37.750092</td>\n",
       "      <td>2003-09-18 16:40:00</td>\n",
       "      <td>1</td>\n",
       "      <td>9</td>\n",
       "      <td>3</td>\n",
       "      <td>-0.900969</td>\n",
       "      <td>-1.836970e-16</td>\n",
       "      <td>0</td>\n",
       "      <td>0</td>\n",
       "      <td>0</td>\n",
       "      <td>1</td>\n",
       "      <td>0</td>\n",
       "      <td>0</td>\n",
       "      <td>0</td>\n",
       "      <td>0</td>\n",
       "      <td>0</td>\n",
       "      <td>0</td>\n",
       "    </tr>\n",
       "  </tbody>\n",
       "</table>\n",
       "</div>"
      ],
      "text/plain": [
       "              Category          ...          PdDistrict_TENDERLOIN\n",
       "265820  SUSPICIOUS OCC          ...                              0\n",
       "824612        BURGLARY          ...                              0\n",
       "\n",
       "[2 rows x 22 columns]"
      ]
     },
     "execution_count": 16,
     "metadata": {},
     "output_type": "execute_result"
    }
   ],
   "source": [
    "train_df = pd.get_dummies(train_df, columns=['PdDistrict'])\n",
    "test_df  = pd.get_dummies(test_df,  columns=['PdDistrict'])\n",
    "train_df.sample(2)"
   ]
  },
  {
   "cell_type": "markdown",
   "metadata": {
    "_uuid": "53427439b30148a887df3138ebfd780871a72cba"
   },
   "source": [
    "## Label Encoding of 'Category':"
   ]
  },
  {
   "cell_type": "code",
   "execution_count": 17,
   "metadata": {
    "_uuid": "c68a7bcf63d9537550487911be31b4af81986c7b"
   },
   "outputs": [
    {
     "data": {
      "text/html": [
       "<div>\n",
       "<style scoped>\n",
       "    .dataframe tbody tr th:only-of-type {\n",
       "        vertical-align: middle;\n",
       "    }\n",
       "\n",
       "    .dataframe tbody tr th {\n",
       "        vertical-align: top;\n",
       "    }\n",
       "\n",
       "    .dataframe thead th {\n",
       "        text-align: right;\n",
       "    }\n",
       "</style>\n",
       "<table border=\"1\" class=\"dataframe\">\n",
       "  <thead>\n",
       "    <tr style=\"text-align: right;\">\n",
       "      <th></th>\n",
       "      <th>Category</th>\n",
       "      <th>Descript</th>\n",
       "      <th>DayOfWeek</th>\n",
       "      <th>Address</th>\n",
       "      <th>X</th>\n",
       "      <th>Y</th>\n",
       "      <th>Date</th>\n",
       "      <th>IsDay</th>\n",
       "      <th>Month</th>\n",
       "      <th>Year</th>\n",
       "      <th>DayOfWeekCos</th>\n",
       "      <th>MonthCos</th>\n",
       "      <th>PdDistrict_BAYVIEW</th>\n",
       "      <th>PdDistrict_CENTRAL</th>\n",
       "      <th>PdDistrict_INGLESIDE</th>\n",
       "      <th>PdDistrict_MISSION</th>\n",
       "      <th>PdDistrict_NORTHERN</th>\n",
       "      <th>PdDistrict_PARK</th>\n",
       "      <th>PdDistrict_RICHMOND</th>\n",
       "      <th>PdDistrict_SOUTHERN</th>\n",
       "      <th>PdDistrict_TARAVAL</th>\n",
       "      <th>PdDistrict_TENDERLOIN</th>\n",
       "      <th>CategoryInt</th>\n",
       "    </tr>\n",
       "  </thead>\n",
       "  <tbody>\n",
       "    <tr>\n",
       "      <th>538310</th>\n",
       "      <td>OTHER OFFENSES</td>\n",
       "      <td>CONSPIRACY</td>\n",
       "      <td>6</td>\n",
       "      <td>200 Block of 10TH ST</td>\n",
       "      <td>-122.413532</td>\n",
       "      <td>37.773455</td>\n",
       "      <td>2007-10-06 03:24:00</td>\n",
       "      <td>0</td>\n",
       "      <td>10</td>\n",
       "      <td>7</td>\n",
       "      <td>0.623490</td>\n",
       "      <td>5.000000e-01</td>\n",
       "      <td>0</td>\n",
       "      <td>0</td>\n",
       "      <td>0</td>\n",
       "      <td>0</td>\n",
       "      <td>0</td>\n",
       "      <td>0</td>\n",
       "      <td>0</td>\n",
       "      <td>1</td>\n",
       "      <td>0</td>\n",
       "      <td>0</td>\n",
       "      <td>21</td>\n",
       "    </tr>\n",
       "    <tr>\n",
       "      <th>498619</th>\n",
       "      <td>ASSAULT</td>\n",
       "      <td>AGGRAVATED ASSAULT WITH A KNIFE</td>\n",
       "      <td>6</td>\n",
       "      <td>MARKET ST / 5TH ST</td>\n",
       "      <td>-122.408068</td>\n",
       "      <td>37.783992</td>\n",
       "      <td>2008-05-03 00:28:00</td>\n",
       "      <td>0</td>\n",
       "      <td>5</td>\n",
       "      <td>8</td>\n",
       "      <td>0.623490</td>\n",
       "      <td>-8.660254e-01</td>\n",
       "      <td>0</td>\n",
       "      <td>0</td>\n",
       "      <td>0</td>\n",
       "      <td>0</td>\n",
       "      <td>0</td>\n",
       "      <td>0</td>\n",
       "      <td>0</td>\n",
       "      <td>1</td>\n",
       "      <td>0</td>\n",
       "      <td>0</td>\n",
       "      <td>1</td>\n",
       "    </tr>\n",
       "    <tr>\n",
       "      <th>559687</th>\n",
       "      <td>ASSAULT</td>\n",
       "      <td>AGGRAVATED ASSAULT WITH BODILY FORCE</td>\n",
       "      <td>6</td>\n",
       "      <td>200 Block of INTERSTATE80 HY</td>\n",
       "      <td>-122.365565</td>\n",
       "      <td>37.809671</td>\n",
       "      <td>2007-06-16 16:05:00</td>\n",
       "      <td>1</td>\n",
       "      <td>6</td>\n",
       "      <td>7</td>\n",
       "      <td>0.623490</td>\n",
       "      <td>-1.000000e+00</td>\n",
       "      <td>0</td>\n",
       "      <td>0</td>\n",
       "      <td>0</td>\n",
       "      <td>0</td>\n",
       "      <td>0</td>\n",
       "      <td>0</td>\n",
       "      <td>0</td>\n",
       "      <td>1</td>\n",
       "      <td>0</td>\n",
       "      <td>0</td>\n",
       "      <td>1</td>\n",
       "    </tr>\n",
       "    <tr>\n",
       "      <th>270224</th>\n",
       "      <td>OTHER OFFENSES</td>\n",
       "      <td>RESISTING ARREST</td>\n",
       "      <td>6</td>\n",
       "      <td>1600 Block of NEWHALL ST</td>\n",
       "      <td>-122.393571</td>\n",
       "      <td>37.734062</td>\n",
       "      <td>2011-09-10 22:39:00</td>\n",
       "      <td>0</td>\n",
       "      <td>9</td>\n",
       "      <td>11</td>\n",
       "      <td>0.623490</td>\n",
       "      <td>-1.836970e-16</td>\n",
       "      <td>1</td>\n",
       "      <td>0</td>\n",
       "      <td>0</td>\n",
       "      <td>0</td>\n",
       "      <td>0</td>\n",
       "      <td>0</td>\n",
       "      <td>0</td>\n",
       "      <td>0</td>\n",
       "      <td>0</td>\n",
       "      <td>0</td>\n",
       "      <td>21</td>\n",
       "    </tr>\n",
       "    <tr>\n",
       "      <th>163120</th>\n",
       "      <td>OTHER OFFENSES</td>\n",
       "      <td>RESISTING ARREST</td>\n",
       "      <td>2</td>\n",
       "      <td>MINNA ST / 6TH ST</td>\n",
       "      <td>-122.408163</td>\n",
       "      <td>37.780535</td>\n",
       "      <td>2013-03-19 15:50:00</td>\n",
       "      <td>1</td>\n",
       "      <td>3</td>\n",
       "      <td>13</td>\n",
       "      <td>-0.222521</td>\n",
       "      <td>6.123234e-17</td>\n",
       "      <td>0</td>\n",
       "      <td>0</td>\n",
       "      <td>0</td>\n",
       "      <td>0</td>\n",
       "      <td>0</td>\n",
       "      <td>0</td>\n",
       "      <td>0</td>\n",
       "      <td>1</td>\n",
       "      <td>0</td>\n",
       "      <td>0</td>\n",
       "      <td>21</td>\n",
       "    </tr>\n",
       "  </tbody>\n",
       "</table>\n",
       "</div>"
      ],
      "text/plain": [
       "              Category     ...     CategoryInt\n",
       "538310  OTHER OFFENSES     ...              21\n",
       "498619         ASSAULT     ...               1\n",
       "559687         ASSAULT     ...               1\n",
       "270224  OTHER OFFENSES     ...              21\n",
       "163120  OTHER OFFENSES     ...              21\n",
       "\n",
       "[5 rows x 23 columns]"
      ]
     },
     "execution_count": 17,
     "metadata": {},
     "output_type": "execute_result"
    }
   ],
   "source": [
    "from sklearn.preprocessing import LabelEncoder\n",
    "\n",
    "cat_le = LabelEncoder()\n",
    "train_df['CategoryInt'] = pd.Series(cat_le.fit_transform(train_df.Category))\n",
    "train_df.sample(5)\n",
    "#cat_le.classes_"
   ]
  },
  {
   "cell_type": "markdown",
   "metadata": {
    "_uuid": "74b3d268fb7dd4c4534f9d3a1070b7c2ed364858"
   },
   "source": [
    "# Feature Selection <a name=\"feature-selection\"></a>"
   ]
  },
  {
   "cell_type": "markdown",
   "metadata": {
    "_uuid": "e65ceeeca56f36b10152399bf81a3d31bb78aed2"
   },
   "source": [
    "**Now let's get our dataset ready for training !**"
   ]
  },
  {
   "cell_type": "code",
   "execution_count": 18,
   "metadata": {
    "_uuid": "2d04d5362e100290c62fbad96f90a3f376520a61"
   },
   "outputs": [
    {
     "data": {
      "text/plain": [
       "Index(['Category', 'Descript', 'DayOfWeek', 'Address', 'X', 'Y', 'Date',\n",
       "       'IsDay', 'Month', 'Year', 'DayOfWeekCos', 'MonthCos',\n",
       "       'PdDistrict_BAYVIEW', 'PdDistrict_CENTRAL', 'PdDistrict_INGLESIDE',\n",
       "       'PdDistrict_MISSION', 'PdDistrict_NORTHERN', 'PdDistrict_PARK',\n",
       "       'PdDistrict_RICHMOND', 'PdDistrict_SOUTHERN', 'PdDistrict_TARAVAL',\n",
       "       'PdDistrict_TENDERLOIN', 'CategoryInt'],\n",
       "      dtype='object')"
      ]
     },
     "execution_count": 18,
     "metadata": {},
     "output_type": "execute_result"
    }
   ],
   "source": [
    "train_df.columns"
   ]
  },
  {
   "cell_type": "code",
   "execution_count": 19,
   "metadata": {
    "_uuid": "f3e01d5b7c9584ec77840099e52f3e588eea9abb",
    "scrolled": true
   },
   "outputs": [],
   "source": [
    "feature_cols = ['X', 'Y', 'IsDay', 'DayOfWeekCos', 'MonthCos', 'Year', \n",
    "                'PdDistrict_BAYVIEW', 'PdDistrict_CENTRAL', 'PdDistrict_INGLESIDE',\n",
    "                'PdDistrict_MISSION', 'PdDistrict_NORTHERN', 'PdDistrict_PARK',\n",
    "                'PdDistrict_RICHMOND', 'PdDistrict_SOUTHERN', 'PdDistrict_TARAVAL', 'PdDistrict_TENDERLOIN']\n",
    "target_col = 'CategoryInt'\n",
    "\n",
    "train_x = pd.DataFrame(train_df[feature_cols])\n",
    "train_y = train_df[target_col]\n",
    "\n",
    "test_ids = test_df['Id']\n",
    "test_x = test_df[feature_cols]"
   ]
  },
  {
   "cell_type": "code",
   "execution_count": 20,
   "metadata": {
    "_uuid": "c53b6e59c1b5391f05ff43a34d7d698c528a3cd4"
   },
   "outputs": [
    {
     "data": {
      "text/html": [
       "<div>\n",
       "<style scoped>\n",
       "    .dataframe tbody tr th:only-of-type {\n",
       "        vertical-align: middle;\n",
       "    }\n",
       "\n",
       "    .dataframe tbody tr th {\n",
       "        vertical-align: top;\n",
       "    }\n",
       "\n",
       "    .dataframe thead th {\n",
       "        text-align: right;\n",
       "    }\n",
       "</style>\n",
       "<table border=\"1\" class=\"dataframe\">\n",
       "  <thead>\n",
       "    <tr style=\"text-align: right;\">\n",
       "      <th></th>\n",
       "      <th>X</th>\n",
       "      <th>Y</th>\n",
       "      <th>IsDay</th>\n",
       "      <th>DayOfWeekCos</th>\n",
       "      <th>MonthCos</th>\n",
       "      <th>Year</th>\n",
       "      <th>PdDistrict_BAYVIEW</th>\n",
       "      <th>PdDistrict_CENTRAL</th>\n",
       "      <th>PdDistrict_INGLESIDE</th>\n",
       "      <th>PdDistrict_MISSION</th>\n",
       "      <th>PdDistrict_NORTHERN</th>\n",
       "      <th>PdDistrict_PARK</th>\n",
       "      <th>PdDistrict_RICHMOND</th>\n",
       "      <th>PdDistrict_SOUTHERN</th>\n",
       "      <th>PdDistrict_TARAVAL</th>\n",
       "      <th>PdDistrict_TENDERLOIN</th>\n",
       "    </tr>\n",
       "  </thead>\n",
       "  <tbody>\n",
       "    <tr>\n",
       "      <th>99636</th>\n",
       "      <td>-122.403405</td>\n",
       "      <td>37.775421</td>\n",
       "      <td>1</td>\n",
       "      <td>1.0</td>\n",
       "      <td>0.866025</td>\n",
       "      <td>14</td>\n",
       "      <td>0</td>\n",
       "      <td>0</td>\n",
       "      <td>0</td>\n",
       "      <td>0</td>\n",
       "      <td>0</td>\n",
       "      <td>0</td>\n",
       "      <td>0</td>\n",
       "      <td>1</td>\n",
       "      <td>0</td>\n",
       "      <td>0</td>\n",
       "    </tr>\n",
       "  </tbody>\n",
       "</table>\n",
       "</div>"
      ],
      "text/plain": [
       "                X          ...            PdDistrict_TENDERLOIN\n",
       "99636 -122.403405          ...                                0\n",
       "\n",
       "[1 rows x 16 columns]"
      ]
     },
     "execution_count": 20,
     "metadata": {},
     "output_type": "execute_result"
    }
   ],
   "source": [
    "train_x.sample(1)"
   ]
  },
  {
   "cell_type": "code",
   "execution_count": 21,
   "metadata": {
    "_uuid": "4ae914565aa6b857ac3110380cecf61c95069d42"
   },
   "outputs": [
    {
     "data": {
      "text/html": [
       "<div>\n",
       "<style scoped>\n",
       "    .dataframe tbody tr th:only-of-type {\n",
       "        vertical-align: middle;\n",
       "    }\n",
       "\n",
       "    .dataframe tbody tr th {\n",
       "        vertical-align: top;\n",
       "    }\n",
       "\n",
       "    .dataframe thead th {\n",
       "        text-align: right;\n",
       "    }\n",
       "</style>\n",
       "<table border=\"1\" class=\"dataframe\">\n",
       "  <thead>\n",
       "    <tr style=\"text-align: right;\">\n",
       "      <th></th>\n",
       "      <th>X</th>\n",
       "      <th>Y</th>\n",
       "      <th>IsDay</th>\n",
       "      <th>DayOfWeekCos</th>\n",
       "      <th>MonthCos</th>\n",
       "      <th>Year</th>\n",
       "      <th>PdDistrict_BAYVIEW</th>\n",
       "      <th>PdDistrict_CENTRAL</th>\n",
       "      <th>PdDistrict_INGLESIDE</th>\n",
       "      <th>PdDistrict_MISSION</th>\n",
       "      <th>PdDistrict_NORTHERN</th>\n",
       "      <th>PdDistrict_PARK</th>\n",
       "      <th>PdDistrict_RICHMOND</th>\n",
       "      <th>PdDistrict_SOUTHERN</th>\n",
       "      <th>PdDistrict_TARAVAL</th>\n",
       "      <th>PdDistrict_TENDERLOIN</th>\n",
       "    </tr>\n",
       "  </thead>\n",
       "  <tbody>\n",
       "    <tr>\n",
       "      <th>352042</th>\n",
       "      <td>-122.412447</td>\n",
       "      <td>37.775634</td>\n",
       "      <td>1</td>\n",
       "      <td>1.0</td>\n",
       "      <td>-1.0</td>\n",
       "      <td>10</td>\n",
       "      <td>0</td>\n",
       "      <td>0</td>\n",
       "      <td>0</td>\n",
       "      <td>0</td>\n",
       "      <td>0</td>\n",
       "      <td>0</td>\n",
       "      <td>0</td>\n",
       "      <td>1</td>\n",
       "      <td>0</td>\n",
       "      <td>0</td>\n",
       "    </tr>\n",
       "  </tbody>\n",
       "</table>\n",
       "</div>"
      ],
      "text/plain": [
       "                 X          ...            PdDistrict_TENDERLOIN\n",
       "352042 -122.412447          ...                                0\n",
       "\n",
       "[1 rows x 16 columns]"
      ]
     },
     "execution_count": 21,
     "metadata": {},
     "output_type": "execute_result"
    }
   ],
   "source": [
    "test_x.sample(1)"
   ]
  },
  {
   "cell_type": "markdown",
   "metadata": {
    "_uuid": "7fe5b79de2ec67627012662d79e3737cdcda732d"
   },
   "source": [
    "# XGBOOST Training (Cross-Validation): <a name=\"training\"></a>"
   ]
  },
  {
   "cell_type": "code",
   "execution_count": 22,
   "metadata": {
    "_uuid": "0f597daa97c106ddae936a8de9d9759e754f46c2"
   },
   "outputs": [
    {
     "data": {
      "text/plain": [
       "(pandas.core.frame.DataFrame, pandas.core.series.Series)"
      ]
     },
     "execution_count": 22,
     "metadata": {},
     "output_type": "execute_result"
    }
   ],
   "source": [
    "type(train_x), type(train_y)"
   ]
  },
  {
   "cell_type": "markdown",
   "metadata": {
    "_uuid": "02224b34f5c390805bb3f507d7b93e107537a613"
   },
   "source": [
    "## Import XGBoost and create the DMatrices"
   ]
  },
  {
   "cell_type": "code",
   "execution_count": 23,
   "metadata": {
    "_uuid": "a4f28a92ad713b12fda3481e066597ec00d8fb38"
   },
   "outputs": [],
   "source": [
    "import xgboost as xgb\n",
    "train_xgb = xgb.DMatrix(train_x, label=train_y)\n",
    "test_xgb  = xgb.DMatrix(test_x)"
   ]
  },
  {
   "cell_type": "markdown",
   "metadata": {
    "_uuid": "5463f5f776d4dd57443289348fa143ff6a223d1b"
   },
   "source": [
    "## Play with the parameters and do Cross-Validation"
   ]
  },
  {
   "cell_type": "code",
   "execution_count": 24,
   "metadata": {
    "_uuid": "69ba300d0354e40678c3706274e2df6244219234"
   },
   "outputs": [],
   "source": [
    "params = {\n",
    "    'max_depth': 4,  # the maximum depth of each tree\n",
    "    'eta': 0.3,  # the training step for each iteration\n",
    "    'silent': 1,  # logging mode - quiet\n",
    "    'objective': 'multi:softprob',  # error evaluation for multiclass training\n",
    "    'num_class': 39,\n",
    "}"
   ]
  },
  {
   "cell_type": "code",
   "execution_count": 25,
   "metadata": {
    "_uuid": "b84165f3abc3b380e96ed6d12e8dad8a43d7c490"
   },
   "outputs": [],
   "source": [
    "CROSS_VAL = False\n",
    "if CROSS_VAL:\n",
    "    cv = xgb.cv(params, train_xgb, nfold=3, early_stopping_rounds=10, metrics='mlogloss', verbose_eval=True)\n",
    "    cv"
   ]
  },
  {
   "cell_type": "markdown",
   "metadata": {
    "_uuid": "d52da0f5224980aae8ed8d0a98412aee389dff2e"
   },
   "source": [
    "## Fit & Make the predictions"
   ]
  },
  {
   "cell_type": "code",
   "execution_count": 26,
   "metadata": {
    "_uuid": "ddc62886053e03dec507d06ebe8adedee6e3c9b6"
   },
   "outputs": [],
   "source": [
    "m = xgb.train(params, train_xgb, 5)"
   ]
  },
  {
   "cell_type": "code",
   "execution_count": 27,
   "metadata": {
    "_uuid": "ab53f0e400811e4a6533bf02d21ed11433d82afa"
   },
   "outputs": [
    {
     "name": "stdout",
     "output_type": "stream",
     "text": [
      "Done Outputing !\n",
      "            Id     ARSON     ...       WARRANTS  WEAPON LAWS\n",
      "542099  542099  0.012038     ...       0.041159     0.017528\n",
      "849580  849580  0.012600     ...       0.051174     0.015876\n",
      "39040    39040  0.011889     ...       0.037796     0.018295\n",
      "\n",
      "[3 rows x 40 columns]\n"
     ]
    }
   ],
   "source": [
    "SUBMIT = True\n",
    "if SUBMIT:\n",
    "    res = m.predict(test_xgb)\n",
    "    cols = ['Id'] + cat_le.classes_\n",
    "    submission = pd.DataFrame(res, columns=cat_le.classes_)\n",
    "    submission.insert(0, 'Id', test_ids)\n",
    "    submission.to_csv('submission.csv', index=False)\n",
    "    print('Done Outputing !')\n",
    "    print(submission.sample(3))"
   ]
  }
 ],
 "metadata": {
  "kernelspec": {
   "display_name": "Python 3",
   "language": "python",
   "name": "python3"
  },
  "language_info": {
   "codemirror_mode": {
    "name": "ipython",
    "version": 3
   },
   "file_extension": ".py",
   "mimetype": "text/x-python",
   "name": "python",
   "nbconvert_exporter": "python",
   "pygments_lexer": "ipython3",
   "version": "3.6.6"
  }
 },
 "nbformat": 4,
 "nbformat_minor": 1
}
