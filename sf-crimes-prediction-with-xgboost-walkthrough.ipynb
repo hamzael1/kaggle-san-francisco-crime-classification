{
 "cells": [
  {
   "cell_type": "markdown",
   "metadata": {
    "_uuid": "d84cab67ca06188367159432ed68331972b8ed92"
   },
   "source": [
    "# Table of contents\n",
    "1. [Introduction](#introduction)\n",
    "2. [Imports](#imports)\n",
    "3. [Describe Dataset](#describe-dataset)\n",
    "4. [Quick Preprocessing & Feature Engineering](#preprocessing)\n",
    "5. [Feature Selection](#feature-selection)\n",
    "6. [Training with XGBoost (Cross Validation)](#training)"
   ]
  },
  {
   "cell_type": "markdown",
   "metadata": {
    "_uuid": "63cf65e81ea8c794aa07730c5312984fcc013741"
   },
   "source": [
    "# Introduction <a name=\"introduction\"></a>"
   ]
  },
  {
   "cell_type": "markdown",
   "metadata": {
    "_uuid": "914744ad4d84271de47e63eac392fc799a2848fa"
   },
   "source": [
    "This is my solution ( *late submission* ) to the **San Francisco Crime Classification** competition.\n",
    "\n",
    "I found this Dataset to be very interesting for learning to deal with *slightly big* datasets, it contains *Spatial Coordinates*,  a *Datetime* column and *cyclic features*.\n",
    "\n",
    "In this Kernel, I want to share my approach to this problem. I will focus on **Feature Engineering** & **Prediction** using **XGBoost**\n",
    "\n",
    "( **I wont' be going through the visualizations** ( you can check [my Github Repo](https://github.com/hamzael1/kaggle-san-francisco-crime-classification) )"
   ]
  },
  {
   "cell_type": "markdown",
   "metadata": {
    "_uuid": "911459d3dba57ecc0b3dd3bca6dadf8dbd8d6389"
   },
   "source": [
    "# Imports <a name=\"imports\"></a>"
   ]
  },
  {
   "cell_type": "code",
   "execution_count": 1,
   "metadata": {
    "_cell_guid": "b1076dfc-b9ad-4769-8c92-a6c4dae69d19",
    "_uuid": "8f2839f25d086af736a60e9eeb907d3b93b6e0e5"
   },
   "outputs": [],
   "source": [
    "%matplotlib inline\n",
    "import numpy as np # linear algebra\n",
    "import pandas as pd # data processing, CSV file I/O (e.g. pd.read_csv)"
   ]
  },
  {
   "cell_type": "markdown",
   "metadata": {
    "_uuid": "189ee9f7b5d2eb6a0e76f07c50ef5b8177172cf0"
   },
   "source": [
    "# Describe Dataset <a name=\"describe-dataset\"></a>"
   ]
  },
  {
   "cell_type": "code",
   "execution_count": 2,
   "metadata": {
    "_cell_guid": "79c7e3d0-c299-4dcb-8224-4455121ee9b0",
    "_uuid": "d629ff2d2480ee46fbb7e2d37f6b5fab8052498a"
   },
   "outputs": [],
   "source": [
    "train_df = pd.read_csv('../input/train.csv')\n",
    "test_df = pd.read_csv('../input/test.csv')"
   ]
  },
  {
   "cell_type": "markdown",
   "metadata": {
    "_uuid": "df553bbc276ce45a068b5479f6a5237a37454720"
   },
   "source": [
    "## Show Random rows:"
   ]
  },
  {
   "cell_type": "code",
   "execution_count": 3,
   "metadata": {
    "_uuid": "5123e8441b7a351ea691abf5b917edf63d679135"
   },
   "outputs": [
    {
     "data": {
      "text/html": [
       "<div>\n",
       "<style scoped>\n",
       "    .dataframe tbody tr th:only-of-type {\n",
       "        vertical-align: middle;\n",
       "    }\n",
       "\n",
       "    .dataframe tbody tr th {\n",
       "        vertical-align: top;\n",
       "    }\n",
       "\n",
       "    .dataframe thead th {\n",
       "        text-align: right;\n",
       "    }\n",
       "</style>\n",
       "<table border=\"1\" class=\"dataframe\">\n",
       "  <thead>\n",
       "    <tr style=\"text-align: right;\">\n",
       "      <th></th>\n",
       "      <th>Dates</th>\n",
       "      <th>Category</th>\n",
       "      <th>Descript</th>\n",
       "      <th>DayOfWeek</th>\n",
       "      <th>PdDistrict</th>\n",
       "      <th>Resolution</th>\n",
       "      <th>Address</th>\n",
       "      <th>X</th>\n",
       "      <th>Y</th>\n",
       "    </tr>\n",
       "  </thead>\n",
       "  <tbody>\n",
       "    <tr>\n",
       "      <th>712557</th>\n",
       "      <td>2005-04-08 10:00:00</td>\n",
       "      <td>LARCENY/THEFT</td>\n",
       "      <td>GRAND THEFT FROM LOCKED AUTO</td>\n",
       "      <td>Friday</td>\n",
       "      <td>TENDERLOIN</td>\n",
       "      <td>NONE</td>\n",
       "      <td>100 Block of GOLDEN GATE AV</td>\n",
       "      <td>-122.413048</td>\n",
       "      <td>37.781912</td>\n",
       "    </tr>\n",
       "    <tr>\n",
       "      <th>698381</th>\n",
       "      <td>2005-06-18 10:47:00</td>\n",
       "      <td>VANDALISM</td>\n",
       "      <td>MALICIOUS MISCHIEF, VANDALISM</td>\n",
       "      <td>Saturday</td>\n",
       "      <td>PARK</td>\n",
       "      <td>ARREST, BOOKED</td>\n",
       "      <td>400 Block of HUGO ST</td>\n",
       "      <td>-122.462638</td>\n",
       "      <td>37.765083</td>\n",
       "    </tr>\n",
       "    <tr>\n",
       "      <th>568220</th>\n",
       "      <td>2007-05-03 23:55:00</td>\n",
       "      <td>ASSAULT</td>\n",
       "      <td>BATTERY</td>\n",
       "      <td>Thursday</td>\n",
       "      <td>SOUTHERN</td>\n",
       "      <td>ARREST, BOOKED</td>\n",
       "      <td>100 Block of 4TH ST</td>\n",
       "      <td>-122.403941</td>\n",
       "      <td>37.784301</td>\n",
       "    </tr>\n",
       "    <tr>\n",
       "      <th>75005</th>\n",
       "      <td>2014-05-15 22:04:00</td>\n",
       "      <td>ASSAULT</td>\n",
       "      <td>STALKING</td>\n",
       "      <td>Thursday</td>\n",
       "      <td>TENDERLOIN</td>\n",
       "      <td>NONE</td>\n",
       "      <td>400 Block of TURK ST</td>\n",
       "      <td>-122.416349</td>\n",
       "      <td>37.782557</td>\n",
       "    </tr>\n",
       "    <tr>\n",
       "      <th>288412</th>\n",
       "      <td>2011-06-02 22:00:00</td>\n",
       "      <td>MISSING PERSON</td>\n",
       "      <td>FOUND PERSON</td>\n",
       "      <td>Thursday</td>\n",
       "      <td>BAYVIEW</td>\n",
       "      <td>LOCATED</td>\n",
       "      <td>1400 Block of PHELPS ST</td>\n",
       "      <td>-122.394439</td>\n",
       "      <td>37.736444</td>\n",
       "    </tr>\n",
       "  </tbody>\n",
       "</table>\n",
       "</div>"
      ],
      "text/plain": [
       "                      Dates        Category    ...               X          Y\n",
       "712557  2005-04-08 10:00:00   LARCENY/THEFT    ...     -122.413048  37.781912\n",
       "698381  2005-06-18 10:47:00       VANDALISM    ...     -122.462638  37.765083\n",
       "568220  2007-05-03 23:55:00         ASSAULT    ...     -122.403941  37.784301\n",
       "75005   2014-05-15 22:04:00         ASSAULT    ...     -122.416349  37.782557\n",
       "288412  2011-06-02 22:00:00  MISSING PERSON    ...     -122.394439  37.736444\n",
       "\n",
       "[5 rows x 9 columns]"
      ]
     },
     "execution_count": 3,
     "metadata": {},
     "output_type": "execute_result"
    }
   ],
   "source": [
    "# Show 5 random rows from dataset\n",
    "train_df.sample(5)"
   ]
  },
  {
   "cell_type": "code",
   "execution_count": 4,
   "metadata": {
    "_uuid": "a1b2a18a7705799316dbbbff1bd4d1ad53078a94"
   },
   "outputs": [
    {
     "data": {
      "text/html": [
       "<div>\n",
       "<style scoped>\n",
       "    .dataframe tbody tr th:only-of-type {\n",
       "        vertical-align: middle;\n",
       "    }\n",
       "\n",
       "    .dataframe tbody tr th {\n",
       "        vertical-align: top;\n",
       "    }\n",
       "\n",
       "    .dataframe thead th {\n",
       "        text-align: right;\n",
       "    }\n",
       "</style>\n",
       "<table border=\"1\" class=\"dataframe\">\n",
       "  <thead>\n",
       "    <tr style=\"text-align: right;\">\n",
       "      <th></th>\n",
       "      <th>Id</th>\n",
       "      <th>Dates</th>\n",
       "      <th>DayOfWeek</th>\n",
       "      <th>PdDistrict</th>\n",
       "      <th>Address</th>\n",
       "      <th>X</th>\n",
       "      <th>Y</th>\n",
       "    </tr>\n",
       "  </thead>\n",
       "  <tbody>\n",
       "    <tr>\n",
       "      <th>777150</th>\n",
       "      <td>777150</td>\n",
       "      <td>2004-06-01 13:00:00</td>\n",
       "      <td>Tuesday</td>\n",
       "      <td>MISSION</td>\n",
       "      <td>100 Block of SHOTWELL ST</td>\n",
       "      <td>-122.416535</td>\n",
       "      <td>37.766041</td>\n",
       "    </tr>\n",
       "  </tbody>\n",
       "</table>\n",
       "</div>"
      ],
      "text/plain": [
       "            Id                Dates    ...               X          Y\n",
       "777150  777150  2004-06-01 13:00:00    ...     -122.416535  37.766041\n",
       "\n",
       "[1 rows x 7 columns]"
      ]
     },
     "execution_count": 4,
     "metadata": {},
     "output_type": "execute_result"
    }
   ],
   "source": [
    "test_df.sample(1)"
   ]
  },
  {
   "cell_type": "markdown",
   "metadata": {
    "_uuid": "dbec66c4887da615cf2de97ce6ff1892780356d7"
   },
   "source": [
    "## Show useful information (columns, types, number of rows)"
   ]
  },
  {
   "cell_type": "markdown",
   "metadata": {
    "_uuid": "71c52aead02e3e835ee6b7842d3eb091c58093d1"
   },
   "source": [
    "- Few important observations:\n",
    "    - We have **878049** Observations of **9** variables\n",
    "    - We have a **'Dates'** column which contains the date and time of the occurence of the crime, but it's a String.\n",
    "    - We have **spatial coordinates** ( Latitude and Longitude ) of the exact place of the crime.\n",
    "    - The Target column is **'Category'**, which is a Categorical Column ( 39 categories )\n",
    "    - The **'DayOfWeek'** column is also Categorical ( 7 days )\n",
    "    - The **'PdDistrict'** column is also Categorical ( 10 districts  )\n",
    "    - The **'Address'** column indicates whether the crime location was an intersection of two roads\n",
    "    - The **'Resolution'** column will be droped ( It won't help us with prediction )"
   ]
  },
  {
   "cell_type": "code",
   "execution_count": 5,
   "metadata": {
    "_uuid": "1b90be154e5f9b65f80f9188bf1aca2da8bab093"
   },
   "outputs": [
    {
     "name": "stdout",
     "output_type": "stream",
     "text": [
      "Number of Categories:  39\n",
      "Number of PdDistricts:  10\n",
      "Number of DayOfWeeks:  7\n",
      "_________________________________________________\n",
      "<class 'pandas.core.frame.DataFrame'>\n",
      "RangeIndex: 878049 entries, 0 to 878048\n",
      "Data columns (total 9 columns):\n",
      "Dates         878049 non-null object\n",
      "Category      878049 non-null object\n",
      "Descript      878049 non-null object\n",
      "DayOfWeek     878049 non-null object\n",
      "PdDistrict    878049 non-null object\n",
      "Resolution    878049 non-null object\n",
      "Address       878049 non-null object\n",
      "X             878049 non-null float64\n",
      "Y             878049 non-null float64\n",
      "dtypes: float64(2), object(7)\n",
      "memory usage: 60.3+ MB\n"
     ]
    }
   ],
   "source": [
    "print('Number of Categories: ', train_df.Category.nunique())\n",
    "print('Number of PdDistricts: ', train_df.PdDistrict.nunique())\n",
    "print('Number of DayOfWeeks: ', train_df.DayOfWeek.nunique())\n",
    "print('_________________________________________________')\n",
    "# Show some useful Information\n",
    "train_df.info()"
   ]
  },
  {
   "cell_type": "markdown",
   "metadata": {
    "_uuid": "0816a7e7a6bce269674f1a68a4d48ed32169d5ad"
   },
   "source": [
    "# Quick Preprocessing & Feature Engineering <a name=\"preprocessing\"></a>"
   ]
  },
  {
   "cell_type": "markdown",
   "metadata": {
    "_uuid": "bf99fd4307cbb5c382f61dffa00a60105280d710"
   },
   "source": [
    " ## Drop the Resolution Column:"
   ]
  },
  {
   "cell_type": "code",
   "execution_count": 6,
   "metadata": {
    "_uuid": "7021343575458aaa873148075f62d2e6dd148c56"
   },
   "outputs": [
    {
     "data": {
      "text/html": [
       "<div>\n",
       "<style scoped>\n",
       "    .dataframe tbody tr th:only-of-type {\n",
       "        vertical-align: middle;\n",
       "    }\n",
       "\n",
       "    .dataframe tbody tr th {\n",
       "        vertical-align: top;\n",
       "    }\n",
       "\n",
       "    .dataframe thead th {\n",
       "        text-align: right;\n",
       "    }\n",
       "</style>\n",
       "<table border=\"1\" class=\"dataframe\">\n",
       "  <thead>\n",
       "    <tr style=\"text-align: right;\">\n",
       "      <th></th>\n",
       "      <th>Dates</th>\n",
       "      <th>Category</th>\n",
       "      <th>Descript</th>\n",
       "      <th>DayOfWeek</th>\n",
       "      <th>PdDistrict</th>\n",
       "      <th>Address</th>\n",
       "      <th>X</th>\n",
       "      <th>Y</th>\n",
       "    </tr>\n",
       "  </thead>\n",
       "  <tbody>\n",
       "    <tr>\n",
       "      <th>300865</th>\n",
       "      <td>2011-03-25 21:04:00</td>\n",
       "      <td>SUSPICIOUS OCC</td>\n",
       "      <td>INVESTIGATIVE DETENTION</td>\n",
       "      <td>Friday</td>\n",
       "      <td>MISSION</td>\n",
       "      <td>1200 Block of 15TH ST</td>\n",
       "      <td>-122.413034</td>\n",
       "      <td>37.766793</td>\n",
       "    </tr>\n",
       "  </tbody>\n",
       "</table>\n",
       "</div>"
      ],
      "text/plain": [
       "                      Dates        Category    ...               X          Y\n",
       "300865  2011-03-25 21:04:00  SUSPICIOUS OCC    ...     -122.413034  37.766793\n",
       "\n",
       "[1 rows x 8 columns]"
      ]
     },
     "execution_count": 6,
     "metadata": {},
     "output_type": "execute_result"
    }
   ],
   "source": [
    "train_df = train_df.drop('Resolution', axis=1)\n",
    "train_df.sample(1)"
   ]
  },
  {
   "cell_type": "markdown",
   "metadata": {
    "_uuid": "ee43099681b88fccb311b8b72855c9e41def91e6"
   },
   "source": [
    "## Parse the 'Dates' Column:"
   ]
  },
  {
   "cell_type": "markdown",
   "metadata": {
    "_uuid": "985f7870c5f9799f145fc8f1aeecb1c2832bb191"
   },
   "source": [
    "### The 'Dates' column type is String. It will be easier to work with by parsing it to Datetime."
   ]
  },
  {
   "cell_type": "code",
   "execution_count": 7,
   "metadata": {
    "_uuid": "2f7763ec086bfa0dd8021dae5498678e4f1cac2d"
   },
   "outputs": [
    {
     "data": {
      "text/plain": [
       "dtype('O')"
      ]
     },
     "execution_count": 7,
     "metadata": {},
     "output_type": "execute_result"
    }
   ],
   "source": [
    "train_df.Dates.dtype"
   ]
  },
  {
   "cell_type": "markdown",
   "metadata": {
    "_uuid": "9c2627a666613faaf54c433d84649511c92b6886"
   },
   "source": [
    "### Check if there are any missing values or typos:"
   ]
  },
  {
   "cell_type": "code",
   "execution_count": 8,
   "metadata": {
    "_uuid": "59fff66423c493f05f4630aa7b6c271d144a0e9e"
   },
   "outputs": [],
   "source": [
    "assert train_df.Dates.isnull().any() == False\n",
    "assert test_df.Dates.isnull().any() == False"
   ]
  },
  {
   "cell_type": "code",
   "execution_count": 9,
   "metadata": {
    "_uuid": "a7908c031af864b09e93e9b90d2bd48020d60c59"
   },
   "outputs": [],
   "source": [
    "assert train_df.Dates.str.match('\\d\\d\\d\\d-\\d\\d-\\d\\d \\d\\d:\\d\\d:\\d\\d').all() == True\n",
    "assert test_df.Dates.str.match('\\d\\d\\d\\d-\\d\\d-\\d\\d \\d\\d:\\d\\d:\\d\\d').all() == True"
   ]
  },
  {
   "cell_type": "markdown",
   "metadata": {
    "_uuid": "bfbe78aad03b556c470d9733c758f9c8a3387233"
   },
   "source": [
    "### Now we proceed to parsing using the function `pandas.to_datetime` :\n",
    "( We will also change the column name to 'Date' singular ) "
   ]
  },
  {
   "cell_type": "code",
   "execution_count": 10,
   "metadata": {
    "_uuid": "94a83f26f4ef8ef8718cb772862168da35886788"
   },
   "outputs": [
    {
     "data": {
      "text/html": [
       "<div>\n",
       "<style scoped>\n",
       "    .dataframe tbody tr th:only-of-type {\n",
       "        vertical-align: middle;\n",
       "    }\n",
       "\n",
       "    .dataframe tbody tr th {\n",
       "        vertical-align: top;\n",
       "    }\n",
       "\n",
       "    .dataframe thead th {\n",
       "        text-align: right;\n",
       "    }\n",
       "</style>\n",
       "<table border=\"1\" class=\"dataframe\">\n",
       "  <thead>\n",
       "    <tr style=\"text-align: right;\">\n",
       "      <th></th>\n",
       "      <th>Category</th>\n",
       "      <th>Descript</th>\n",
       "      <th>DayOfWeek</th>\n",
       "      <th>PdDistrict</th>\n",
       "      <th>Address</th>\n",
       "      <th>X</th>\n",
       "      <th>Y</th>\n",
       "      <th>Date</th>\n",
       "    </tr>\n",
       "  </thead>\n",
       "  <tbody>\n",
       "    <tr>\n",
       "      <th>211275</th>\n",
       "      <td>VEHICLE THEFT</td>\n",
       "      <td>STOLEN AUTOMOBILE</td>\n",
       "      <td>Tuesday</td>\n",
       "      <td>CENTRAL</td>\n",
       "      <td>LEAVENWORTH ST / BAY ST</td>\n",
       "      <td>-122.418534</td>\n",
       "      <td>37.804998</td>\n",
       "      <td>2012-07-24 14:00:00</td>\n",
       "    </tr>\n",
       "  </tbody>\n",
       "</table>\n",
       "</div>"
      ],
      "text/plain": [
       "             Category         ...                        Date\n",
       "211275  VEHICLE THEFT         ...         2012-07-24 14:00:00\n",
       "\n",
       "[1 rows x 8 columns]"
      ]
     },
     "execution_count": 10,
     "metadata": {},
     "output_type": "execute_result"
    }
   ],
   "source": [
    "train_df['Date'] = pd.to_datetime(train_df.Dates)\n",
    "test_df['Date'] = pd.to_datetime(test_df.Dates)\n",
    "\n",
    "train_df = train_df.drop('Dates', axis=1)\n",
    "test_df = test_df.drop('Dates', axis=1)\n",
    "train_df.sample(1)"
   ]
  },
  {
   "cell_type": "code",
   "execution_count": 11,
   "metadata": {
    "_uuid": "0c5c428ebf6a43bf50665b0a053b68f888d630cd"
   },
   "outputs": [
    {
     "data": {
      "text/plain": [
       "dtype('<M8[ns]')"
      ]
     },
     "execution_count": 11,
     "metadata": {},
     "output_type": "execute_result"
    }
   ],
   "source": [
    "# Confirm that it was parsed to Datetime\n",
    "train_df.Date.dtype"
   ]
  },
  {
   "cell_type": "markdown",
   "metadata": {
    "_uuid": "3f691c2582672025a02424f55474e44287613d6e"
   },
   "source": [
    "## Engineer a feature to indicate whether the crime was commited by day or by night :"
   ]
  },
  {
   "cell_type": "code",
   "execution_count": 12,
   "metadata": {
    "_uuid": "cc73b9f9f88311489ac6b7a6cb5ae46187a0b3c5"
   },
   "outputs": [
    {
     "data": {
      "text/html": [
       "<div>\n",
       "<style scoped>\n",
       "    .dataframe tbody tr th:only-of-type {\n",
       "        vertical-align: middle;\n",
       "    }\n",
       "\n",
       "    .dataframe tbody tr th {\n",
       "        vertical-align: top;\n",
       "    }\n",
       "\n",
       "    .dataframe thead th {\n",
       "        text-align: right;\n",
       "    }\n",
       "</style>\n",
       "<table border=\"1\" class=\"dataframe\">\n",
       "  <thead>\n",
       "    <tr style=\"text-align: right;\">\n",
       "      <th></th>\n",
       "      <th>Category</th>\n",
       "      <th>Descript</th>\n",
       "      <th>DayOfWeek</th>\n",
       "      <th>PdDistrict</th>\n",
       "      <th>Address</th>\n",
       "      <th>X</th>\n",
       "      <th>Y</th>\n",
       "      <th>Date</th>\n",
       "      <th>IsDay</th>\n",
       "    </tr>\n",
       "  </thead>\n",
       "  <tbody>\n",
       "    <tr>\n",
       "      <th>839038</th>\n",
       "      <td>OTHER OFFENSES</td>\n",
       "      <td>CONSPIRACY</td>\n",
       "      <td>Thursday</td>\n",
       "      <td>INGLESIDE</td>\n",
       "      <td>1500 Block of DOLORES ST</td>\n",
       "      <td>-122.424576</td>\n",
       "      <td>37.744228</td>\n",
       "      <td>2003-07-10 06:10:00</td>\n",
       "      <td>0</td>\n",
       "    </tr>\n",
       "    <tr>\n",
       "      <th>113463</th>\n",
       "      <td>SUSPICIOUS OCC</td>\n",
       "      <td>SUSPICIOUS OCCURRENCE</td>\n",
       "      <td>Friday</td>\n",
       "      <td>TENDERLOIN</td>\n",
       "      <td>300 Block of ELLIS ST</td>\n",
       "      <td>-122.411988</td>\n",
       "      <td>37.785023</td>\n",
       "      <td>2013-11-01 19:00:00</td>\n",
       "      <td>1</td>\n",
       "    </tr>\n",
       "    <tr>\n",
       "      <th>184109</th>\n",
       "      <td>OTHER OFFENSES</td>\n",
       "      <td>DRIVERS LICENSE, SUSPENDED OR REVOKED</td>\n",
       "      <td>Friday</td>\n",
       "      <td>BAYVIEW</td>\n",
       "      <td>BAY SHORE BL / JERROLD AV</td>\n",
       "      <td>-122.403564</td>\n",
       "      <td>37.747761</td>\n",
       "      <td>2012-11-30 17:40:00</td>\n",
       "      <td>1</td>\n",
       "    </tr>\n",
       "  </tbody>\n",
       "</table>\n",
       "</div>"
      ],
      "text/plain": [
       "              Category  ...  IsDay\n",
       "839038  OTHER OFFENSES  ...      0\n",
       "113463  SUSPICIOUS OCC  ...      1\n",
       "184109  OTHER OFFENSES  ...      1\n",
       "\n",
       "[3 rows x 9 columns]"
      ]
     },
     "execution_count": 12,
     "metadata": {},
     "output_type": "execute_result"
    }
   ],
   "source": [
    "train_df['IsDay'] = 0\n",
    "train_df.loc[ (train_df.Date.dt.hour > 6) & (train_df.Date.dt.hour < 20), 'IsDay' ] = 1\n",
    "test_df['IsDay'] = 0\n",
    "test_df.loc[ (test_df.Date.dt.hour > 6) & (test_df.Date.dt.hour < 20), 'IsDay' ] = 1\n",
    "\n",
    "train_df.sample(3)"
   ]
  },
  {
   "cell_type": "markdown",
   "metadata": {
    "_uuid": "dd7430b9e613a6c75f30a18ea5c84d4a0ea80654"
   },
   "source": [
    "## Create 'Month', 'Year' and 'DayOfWeekInt' columns"
   ]
  },
  {
   "cell_type": "markdown",
   "metadata": {
    "_uuid": "0409a43c06a2009811345c3b825866c4abbadc59"
   },
   "source": [
    "### Encode 'DayOfWeek' to Integer:"
   ]
  },
  {
   "cell_type": "code",
   "execution_count": 13,
   "metadata": {
    "_uuid": "127119e5e4657d49bc8925d9b20613a17be2ae21"
   },
   "outputs": [
    {
     "data": {
      "text/plain": [
       "array([3, 2, 1, 7, 6, 5, 4])"
      ]
     },
     "execution_count": 13,
     "metadata": {},
     "output_type": "execute_result"
    }
   ],
   "source": [
    "days_to_int_dic = {\n",
    "        'Monday': 1,\n",
    "        'Tuesday': 2,\n",
    "        'Wednesday': 3,\n",
    "        'Thursday': 4,\n",
    "        'Friday': 5,\n",
    "        'Saturday': 6,\n",
    "        'Sunday': 7,\n",
    "}\n",
    "train_df['DayOfWeek'] = train_df['DayOfWeek'].map(days_to_int_dic)\n",
    "test_df ['DayOfWeek'] = test_df ['DayOfWeek'].map(days_to_int_dic)\n",
    "\n",
    "train_df.DayOfWeek.unique()"
   ]
  },
  {
   "cell_type": "markdown",
   "metadata": {
    "_uuid": "7101d80be4bdd98b2aa50baba998e62ffeefac95"
   },
   "source": [
    "### Create Hour, Month and Year Columns: "
   ]
  },
  {
   "cell_type": "code",
   "execution_count": 14,
   "metadata": {
    "_uuid": "d480c06569e8c120d898f9682d669cb8e5fa0cf7"
   },
   "outputs": [
    {
     "data": {
      "text/html": [
       "<div>\n",
       "<style scoped>\n",
       "    .dataframe tbody tr th:only-of-type {\n",
       "        vertical-align: middle;\n",
       "    }\n",
       "\n",
       "    .dataframe tbody tr th {\n",
       "        vertical-align: top;\n",
       "    }\n",
       "\n",
       "    .dataframe thead th {\n",
       "        text-align: right;\n",
       "    }\n",
       "</style>\n",
       "<table border=\"1\" class=\"dataframe\">\n",
       "  <thead>\n",
       "    <tr style=\"text-align: right;\">\n",
       "      <th></th>\n",
       "      <th>Category</th>\n",
       "      <th>Descript</th>\n",
       "      <th>DayOfWeek</th>\n",
       "      <th>PdDistrict</th>\n",
       "      <th>Address</th>\n",
       "      <th>X</th>\n",
       "      <th>Y</th>\n",
       "      <th>Date</th>\n",
       "      <th>IsDay</th>\n",
       "      <th>Hour</th>\n",
       "      <th>Month</th>\n",
       "      <th>Year</th>\n",
       "    </tr>\n",
       "  </thead>\n",
       "  <tbody>\n",
       "    <tr>\n",
       "      <th>788317</th>\n",
       "      <td>FORGERY/COUNTERFEITING</td>\n",
       "      <td>CHECKS, MAKE OR PASS FICTITIOUS</td>\n",
       "      <td>3</td>\n",
       "      <td>NORTHERN</td>\n",
       "      <td>1500 Block of POLK ST</td>\n",
       "      <td>-122.420714</td>\n",
       "      <td>37.791055</td>\n",
       "      <td>2004-03-17 17:40:00</td>\n",
       "      <td>1</td>\n",
       "      <td>17</td>\n",
       "      <td>3</td>\n",
       "      <td>4</td>\n",
       "    </tr>\n",
       "  </tbody>\n",
       "</table>\n",
       "</div>"
      ],
      "text/plain": [
       "                      Category ...  Year\n",
       "788317  FORGERY/COUNTERFEITING ...     4\n",
       "\n",
       "[1 rows x 12 columns]"
      ]
     },
     "execution_count": 14,
     "metadata": {},
     "output_type": "execute_result"
    }
   ],
   "source": [
    "train_df['Hour'] = train_df.Date.dt.hour\n",
    "train_df['Month'] = train_df.Date.dt.month\n",
    "train_df['Year'] = train_df.Date.dt.year\n",
    "train_df['Year'] = train_df['Year'] - 2000 # The Algorithm doesn't know the difference. It's just easier to work like that\n",
    "\n",
    "test_df['Hour'] = test_df.Date.dt.hour\n",
    "test_df['Month'] = test_df.Date.dt.month\n",
    "test_df['Year'] = test_df.Date.dt.year\n",
    "test_df['Year'] = test_df['Year'] - 2000 # The Algorithm doesn't know the difference. It's just easier to work like that\n",
    "\n",
    "train_df.sample(1)"
   ]
  },
  {
   "cell_type": "markdown",
   "metadata": {
    "_uuid": "0bb5d1420c3dc6adcd9a719307380ab4b97fa3b4"
   },
   "source": [
    "### Deal with the cyclic characteristic of Months and Days of Week:"
   ]
  },
  {
   "cell_type": "code",
   "execution_count": 15,
   "metadata": {
    "_uuid": "73b987093c55bc2718e9d2b25bb605ec0e3b9f6b"
   },
   "outputs": [
    {
     "data": {
      "text/html": [
       "<div>\n",
       "<style scoped>\n",
       "    .dataframe tbody tr th:only-of-type {\n",
       "        vertical-align: middle;\n",
       "    }\n",
       "\n",
       "    .dataframe tbody tr th {\n",
       "        vertical-align: top;\n",
       "    }\n",
       "\n",
       "    .dataframe thead th {\n",
       "        text-align: right;\n",
       "    }\n",
       "</style>\n",
       "<table border=\"1\" class=\"dataframe\">\n",
       "  <thead>\n",
       "    <tr style=\"text-align: right;\">\n",
       "      <th></th>\n",
       "      <th>Category</th>\n",
       "      <th>Descript</th>\n",
       "      <th>DayOfWeek</th>\n",
       "      <th>PdDistrict</th>\n",
       "      <th>Address</th>\n",
       "      <th>X</th>\n",
       "      <th>Y</th>\n",
       "      <th>Date</th>\n",
       "      <th>IsDay</th>\n",
       "      <th>Hour</th>\n",
       "      <th>Month</th>\n",
       "      <th>Year</th>\n",
       "      <th>HourCos</th>\n",
       "      <th>DayOfWeekCos</th>\n",
       "      <th>MonthCos</th>\n",
       "    </tr>\n",
       "  </thead>\n",
       "  <tbody>\n",
       "    <tr>\n",
       "      <th>761703</th>\n",
       "      <td>BURGLARY</td>\n",
       "      <td>BURGLARY OF APARTMENT HOUSE, UNLAWFUL ENTRY</td>\n",
       "      <td>4</td>\n",
       "      <td>PARK</td>\n",
       "      <td>100 Block of CASTRO ST</td>\n",
       "      <td>-122.435517</td>\n",
       "      <td>37.766932</td>\n",
       "      <td>2004-07-22 09:30:00</td>\n",
       "      <td>1</td>\n",
       "      <td>9</td>\n",
       "      <td>7</td>\n",
       "      <td>4</td>\n",
       "      <td>-0.707107</td>\n",
       "      <td>-0.900969</td>\n",
       "      <td>-0.866025</td>\n",
       "    </tr>\n",
       "  </tbody>\n",
       "</table>\n",
       "</div>"
      ],
      "text/plain": [
       "        Category    ...     MonthCos\n",
       "761703  BURGLARY    ...    -0.866025\n",
       "\n",
       "[1 rows x 15 columns]"
      ]
     },
     "execution_count": 15,
     "metadata": {},
     "output_type": "execute_result"
    }
   ],
   "source": [
    "train_df['HourCos'] = np.cos((train_df['Hour']*2*np.pi)/24 )\n",
    "train_df['DayOfWeekCos'] = np.cos((train_df['DayOfWeek']*2*np.pi)/7 )\n",
    "train_df['MonthCos'] = np.cos((train_df['Month']*2*np.pi)/12 )\n",
    "\n",
    "test_df['HourCos'] = np.cos((test_df['Hour']*2*np.pi)/24 )\n",
    "test_df['DayOfWeekCos'] = np.cos((test_df['DayOfWeek']*2*np.pi)/7 )\n",
    "test_df['MonthCos'] = np.cos((test_df['Month']*2*np.pi)/12 )\n",
    "\n",
    "train_df.sample(1)"
   ]
  },
  {
   "cell_type": "markdown",
   "metadata": {
    "_uuid": "b6ead9ed216c5af03e7bbaba8533e5f16c68582c"
   },
   "source": [
    "## Dummy Encoding of 'PdDistrict':"
   ]
  },
  {
   "cell_type": "code",
   "execution_count": 16,
   "metadata": {
    "_uuid": "196159c60c4ace69c39488699c811cbe40a408af"
   },
   "outputs": [
    {
     "data": {
      "text/html": [
       "<div>\n",
       "<style scoped>\n",
       "    .dataframe tbody tr th:only-of-type {\n",
       "        vertical-align: middle;\n",
       "    }\n",
       "\n",
       "    .dataframe tbody tr th {\n",
       "        vertical-align: top;\n",
       "    }\n",
       "\n",
       "    .dataframe thead th {\n",
       "        text-align: right;\n",
       "    }\n",
       "</style>\n",
       "<table border=\"1\" class=\"dataframe\">\n",
       "  <thead>\n",
       "    <tr style=\"text-align: right;\">\n",
       "      <th></th>\n",
       "      <th>Category</th>\n",
       "      <th>Descript</th>\n",
       "      <th>DayOfWeek</th>\n",
       "      <th>Address</th>\n",
       "      <th>X</th>\n",
       "      <th>Y</th>\n",
       "      <th>Date</th>\n",
       "      <th>IsDay</th>\n",
       "      <th>Hour</th>\n",
       "      <th>Month</th>\n",
       "      <th>Year</th>\n",
       "      <th>HourCos</th>\n",
       "      <th>DayOfWeekCos</th>\n",
       "      <th>MonthCos</th>\n",
       "      <th>PdDistrict_BAYVIEW</th>\n",
       "      <th>PdDistrict_CENTRAL</th>\n",
       "      <th>PdDistrict_INGLESIDE</th>\n",
       "      <th>PdDistrict_MISSION</th>\n",
       "      <th>PdDistrict_NORTHERN</th>\n",
       "      <th>PdDistrict_PARK</th>\n",
       "      <th>PdDistrict_RICHMOND</th>\n",
       "      <th>PdDistrict_SOUTHERN</th>\n",
       "      <th>PdDistrict_TARAVAL</th>\n",
       "      <th>PdDistrict_TENDERLOIN</th>\n",
       "    </tr>\n",
       "  </thead>\n",
       "  <tbody>\n",
       "    <tr>\n",
       "      <th>611932</th>\n",
       "      <td>OTHER OFFENSES</td>\n",
       "      <td>PAROLE VIOLATION</td>\n",
       "      <td>4</td>\n",
       "      <td>RANDOLPH ST / VICTORIA ST</td>\n",
       "      <td>-122.465298</td>\n",
       "      <td>37.714287</td>\n",
       "      <td>2006-09-07 15:50:00</td>\n",
       "      <td>1</td>\n",
       "      <td>15</td>\n",
       "      <td>9</td>\n",
       "      <td>6</td>\n",
       "      <td>-0.707107</td>\n",
       "      <td>-0.900969</td>\n",
       "      <td>-1.836970e-16</td>\n",
       "      <td>0</td>\n",
       "      <td>0</td>\n",
       "      <td>0</td>\n",
       "      <td>0</td>\n",
       "      <td>0</td>\n",
       "      <td>0</td>\n",
       "      <td>0</td>\n",
       "      <td>0</td>\n",
       "      <td>1</td>\n",
       "      <td>0</td>\n",
       "    </tr>\n",
       "    <tr>\n",
       "      <th>161896</th>\n",
       "      <td>OTHER OFFENSES</td>\n",
       "      <td>FRAUDULENT GAME OR TRICK, OBTAINING MONEY OR P...</td>\n",
       "      <td>5</td>\n",
       "      <td>400 Block of MANGELS AV</td>\n",
       "      <td>-122.447759</td>\n",
       "      <td>37.733128</td>\n",
       "      <td>2013-03-22 11:31:00</td>\n",
       "      <td>1</td>\n",
       "      <td>11</td>\n",
       "      <td>3</td>\n",
       "      <td>13</td>\n",
       "      <td>-0.965926</td>\n",
       "      <td>-0.222521</td>\n",
       "      <td>6.123234e-17</td>\n",
       "      <td>0</td>\n",
       "      <td>0</td>\n",
       "      <td>1</td>\n",
       "      <td>0</td>\n",
       "      <td>0</td>\n",
       "      <td>0</td>\n",
       "      <td>0</td>\n",
       "      <td>0</td>\n",
       "      <td>0</td>\n",
       "      <td>0</td>\n",
       "    </tr>\n",
       "  </tbody>\n",
       "</table>\n",
       "</div>"
      ],
      "text/plain": [
       "              Category          ...          PdDistrict_TENDERLOIN\n",
       "611932  OTHER OFFENSES          ...                              0\n",
       "161896  OTHER OFFENSES          ...                              0\n",
       "\n",
       "[2 rows x 24 columns]"
      ]
     },
     "execution_count": 16,
     "metadata": {},
     "output_type": "execute_result"
    }
   ],
   "source": [
    "train_df = pd.get_dummies(train_df, columns=['PdDistrict'])\n",
    "test_df  = pd.get_dummies(test_df,  columns=['PdDistrict'])\n",
    "train_df.sample(2)"
   ]
  },
  {
   "cell_type": "markdown",
   "metadata": {
    "_uuid": "53427439b30148a887df3138ebfd780871a72cba"
   },
   "source": [
    "## Label Encoding of 'Category':"
   ]
  },
  {
   "cell_type": "code",
   "execution_count": 17,
   "metadata": {
    "_uuid": "c68a7bcf63d9537550487911be31b4af81986c7b"
   },
   "outputs": [
    {
     "data": {
      "text/html": [
       "<div>\n",
       "<style scoped>\n",
       "    .dataframe tbody tr th:only-of-type {\n",
       "        vertical-align: middle;\n",
       "    }\n",
       "\n",
       "    .dataframe tbody tr th {\n",
       "        vertical-align: top;\n",
       "    }\n",
       "\n",
       "    .dataframe thead th {\n",
       "        text-align: right;\n",
       "    }\n",
       "</style>\n",
       "<table border=\"1\" class=\"dataframe\">\n",
       "  <thead>\n",
       "    <tr style=\"text-align: right;\">\n",
       "      <th></th>\n",
       "      <th>Category</th>\n",
       "      <th>Descript</th>\n",
       "      <th>DayOfWeek</th>\n",
       "      <th>Address</th>\n",
       "      <th>X</th>\n",
       "      <th>Y</th>\n",
       "      <th>Date</th>\n",
       "      <th>IsDay</th>\n",
       "      <th>Hour</th>\n",
       "      <th>Month</th>\n",
       "      <th>Year</th>\n",
       "      <th>HourCos</th>\n",
       "      <th>DayOfWeekCos</th>\n",
       "      <th>MonthCos</th>\n",
       "      <th>PdDistrict_BAYVIEW</th>\n",
       "      <th>PdDistrict_CENTRAL</th>\n",
       "      <th>PdDistrict_INGLESIDE</th>\n",
       "      <th>PdDistrict_MISSION</th>\n",
       "      <th>PdDistrict_NORTHERN</th>\n",
       "      <th>PdDistrict_PARK</th>\n",
       "      <th>PdDistrict_RICHMOND</th>\n",
       "      <th>PdDistrict_SOUTHERN</th>\n",
       "      <th>PdDistrict_TARAVAL</th>\n",
       "      <th>PdDistrict_TENDERLOIN</th>\n",
       "      <th>CategoryInt</th>\n",
       "    </tr>\n",
       "  </thead>\n",
       "  <tbody>\n",
       "    <tr>\n",
       "      <th>244418</th>\n",
       "      <td>SECONDARY CODES</td>\n",
       "      <td>DOMESTIC VIOLENCE</td>\n",
       "      <td>6</td>\n",
       "      <td>100 Block of POWELL ST</td>\n",
       "      <td>-122.407878</td>\n",
       "      <td>37.785968</td>\n",
       "      <td>2012-01-28 03:45:00</td>\n",
       "      <td>0</td>\n",
       "      <td>3</td>\n",
       "      <td>1</td>\n",
       "      <td>12</td>\n",
       "      <td>0.707107</td>\n",
       "      <td>0.623490</td>\n",
       "      <td>0.866025</td>\n",
       "      <td>0</td>\n",
       "      <td>0</td>\n",
       "      <td>0</td>\n",
       "      <td>0</td>\n",
       "      <td>0</td>\n",
       "      <td>0</td>\n",
       "      <td>0</td>\n",
       "      <td>0</td>\n",
       "      <td>0</td>\n",
       "      <td>1</td>\n",
       "      <td>27</td>\n",
       "    </tr>\n",
       "    <tr>\n",
       "      <th>877187</th>\n",
       "      <td>OTHER OFFENSES</td>\n",
       "      <td>DRIVERS LICENSE, SUSPENDED OR REVOKED</td>\n",
       "      <td>3</td>\n",
       "      <td>CIRCULAR AV / FLOOD AV</td>\n",
       "      <td>-122.440664</td>\n",
       "      <td>37.729919</td>\n",
       "      <td>2003-01-08 03:30:00</td>\n",
       "      <td>0</td>\n",
       "      <td>3</td>\n",
       "      <td>1</td>\n",
       "      <td>3</td>\n",
       "      <td>0.707107</td>\n",
       "      <td>-0.900969</td>\n",
       "      <td>0.866025</td>\n",
       "      <td>0</td>\n",
       "      <td>0</td>\n",
       "      <td>1</td>\n",
       "      <td>0</td>\n",
       "      <td>0</td>\n",
       "      <td>0</td>\n",
       "      <td>0</td>\n",
       "      <td>0</td>\n",
       "      <td>0</td>\n",
       "      <td>0</td>\n",
       "      <td>21</td>\n",
       "    </tr>\n",
       "    <tr>\n",
       "      <th>317182</th>\n",
       "      <td>LARCENY/THEFT</td>\n",
       "      <td>GRAND THEFT FROM LOCKED AUTO</td>\n",
       "      <td>3</td>\n",
       "      <td>6200 Block of GEARY BL</td>\n",
       "      <td>-122.486360</td>\n",
       "      <td>37.780133</td>\n",
       "      <td>2010-12-29 17:00:00</td>\n",
       "      <td>1</td>\n",
       "      <td>17</td>\n",
       "      <td>12</td>\n",
       "      <td>10</td>\n",
       "      <td>-0.258819</td>\n",
       "      <td>-0.900969</td>\n",
       "      <td>1.000000</td>\n",
       "      <td>0</td>\n",
       "      <td>0</td>\n",
       "      <td>0</td>\n",
       "      <td>0</td>\n",
       "      <td>0</td>\n",
       "      <td>0</td>\n",
       "      <td>1</td>\n",
       "      <td>0</td>\n",
       "      <td>0</td>\n",
       "      <td>0</td>\n",
       "      <td>16</td>\n",
       "    </tr>\n",
       "    <tr>\n",
       "      <th>466753</th>\n",
       "      <td>DRUG/NARCOTIC</td>\n",
       "      <td>CONTROLLED SUBSTANCE VIOLATION, LOITERING FOR</td>\n",
       "      <td>3</td>\n",
       "      <td>TURK ST / HYDE ST</td>\n",
       "      <td>-122.415695</td>\n",
       "      <td>37.782585</td>\n",
       "      <td>2008-10-15 17:56:00</td>\n",
       "      <td>1</td>\n",
       "      <td>17</td>\n",
       "      <td>10</td>\n",
       "      <td>8</td>\n",
       "      <td>-0.258819</td>\n",
       "      <td>-0.900969</td>\n",
       "      <td>0.500000</td>\n",
       "      <td>0</td>\n",
       "      <td>0</td>\n",
       "      <td>0</td>\n",
       "      <td>0</td>\n",
       "      <td>0</td>\n",
       "      <td>0</td>\n",
       "      <td>0</td>\n",
       "      <td>0</td>\n",
       "      <td>0</td>\n",
       "      <td>1</td>\n",
       "      <td>7</td>\n",
       "    </tr>\n",
       "    <tr>\n",
       "      <th>479101</th>\n",
       "      <td>FORGERY/COUNTERFEITING</td>\n",
       "      <td>CHECKS, MAKE OR PASS FICTITIOUS</td>\n",
       "      <td>1</td>\n",
       "      <td>300 Block of BRANNAN ST</td>\n",
       "      <td>-122.392417</td>\n",
       "      <td>37.781655</td>\n",
       "      <td>2008-08-18 09:00:00</td>\n",
       "      <td>1</td>\n",
       "      <td>9</td>\n",
       "      <td>8</td>\n",
       "      <td>8</td>\n",
       "      <td>-0.707107</td>\n",
       "      <td>0.623490</td>\n",
       "      <td>-0.500000</td>\n",
       "      <td>0</td>\n",
       "      <td>0</td>\n",
       "      <td>0</td>\n",
       "      <td>0</td>\n",
       "      <td>0</td>\n",
       "      <td>0</td>\n",
       "      <td>0</td>\n",
       "      <td>1</td>\n",
       "      <td>0</td>\n",
       "      <td>0</td>\n",
       "      <td>12</td>\n",
       "    </tr>\n",
       "  </tbody>\n",
       "</table>\n",
       "</div>"
      ],
      "text/plain": [
       "                      Category     ...     CategoryInt\n",
       "244418         SECONDARY CODES     ...              27\n",
       "877187          OTHER OFFENSES     ...              21\n",
       "317182           LARCENY/THEFT     ...              16\n",
       "466753           DRUG/NARCOTIC     ...               7\n",
       "479101  FORGERY/COUNTERFEITING     ...              12\n",
       "\n",
       "[5 rows x 25 columns]"
      ]
     },
     "execution_count": 17,
     "metadata": {},
     "output_type": "execute_result"
    }
   ],
   "source": [
    "from sklearn.preprocessing import LabelEncoder\n",
    "\n",
    "cat_le = LabelEncoder()\n",
    "train_df['CategoryInt'] = pd.Series(cat_le.fit_transform(train_df.Category))\n",
    "train_df.sample(5)\n",
    "#cat_le.classes_"
   ]
  },
  {
   "cell_type": "code",
   "execution_count": 18,
   "metadata": {
    "_uuid": "34d90601228c6da2f8c7b46d2bf6bacb6a1a5ddf"
   },
   "outputs": [],
   "source": [
    "train_df['InIntersection'] = 1\n",
    "train_df.loc[train_df.Address.str.contains('Block'), 'InIntersection'] = 0\n",
    "\n",
    "test_df['InIntersection'] = 1\n",
    "test_df.loc[test_df.Address.str.contains('Block'), 'InIntersection'] = 0"
   ]
  },
  {
   "cell_type": "code",
   "execution_count": 19,
   "metadata": {
    "_uuid": "d92b396515bc047817b3d40b9fad7fe7a57f8b4e"
   },
   "outputs": [
    {
     "data": {
      "text/html": [
       "<div>\n",
       "<style scoped>\n",
       "    .dataframe tbody tr th:only-of-type {\n",
       "        vertical-align: middle;\n",
       "    }\n",
       "\n",
       "    .dataframe tbody tr th {\n",
       "        vertical-align: top;\n",
       "    }\n",
       "\n",
       "    .dataframe thead th {\n",
       "        text-align: right;\n",
       "    }\n",
       "</style>\n",
       "<table border=\"1\" class=\"dataframe\">\n",
       "  <thead>\n",
       "    <tr style=\"text-align: right;\">\n",
       "      <th></th>\n",
       "      <th>Category</th>\n",
       "      <th>Descript</th>\n",
       "      <th>DayOfWeek</th>\n",
       "      <th>Address</th>\n",
       "      <th>X</th>\n",
       "      <th>Y</th>\n",
       "      <th>Date</th>\n",
       "      <th>IsDay</th>\n",
       "      <th>Hour</th>\n",
       "      <th>Month</th>\n",
       "      <th>Year</th>\n",
       "      <th>HourCos</th>\n",
       "      <th>DayOfWeekCos</th>\n",
       "      <th>MonthCos</th>\n",
       "      <th>PdDistrict_BAYVIEW</th>\n",
       "      <th>PdDistrict_CENTRAL</th>\n",
       "      <th>PdDistrict_INGLESIDE</th>\n",
       "      <th>PdDistrict_MISSION</th>\n",
       "      <th>PdDistrict_NORTHERN</th>\n",
       "      <th>PdDistrict_PARK</th>\n",
       "      <th>PdDistrict_RICHMOND</th>\n",
       "      <th>PdDistrict_SOUTHERN</th>\n",
       "      <th>PdDistrict_TARAVAL</th>\n",
       "      <th>PdDistrict_TENDERLOIN</th>\n",
       "      <th>CategoryInt</th>\n",
       "      <th>InIntersection</th>\n",
       "    </tr>\n",
       "  </thead>\n",
       "  <tbody>\n",
       "    <tr>\n",
       "      <th>871079</th>\n",
       "      <td>WARRANTS</td>\n",
       "      <td>WARRANT ARREST</td>\n",
       "      <td>3</td>\n",
       "      <td>ALEMANY BL / CRYSTAL ST</td>\n",
       "      <td>-122.460623</td>\n",
       "      <td>37.710478</td>\n",
       "      <td>2003-02-05 17:45:00</td>\n",
       "      <td>1</td>\n",
       "      <td>17</td>\n",
       "      <td>2</td>\n",
       "      <td>3</td>\n",
       "      <td>-2.588190e-01</td>\n",
       "      <td>-0.900969</td>\n",
       "      <td>0.500000</td>\n",
       "      <td>0</td>\n",
       "      <td>0</td>\n",
       "      <td>0</td>\n",
       "      <td>0</td>\n",
       "      <td>0</td>\n",
       "      <td>0</td>\n",
       "      <td>0</td>\n",
       "      <td>0</td>\n",
       "      <td>1</td>\n",
       "      <td>0</td>\n",
       "      <td>37</td>\n",
       "      <td>1</td>\n",
       "    </tr>\n",
       "    <tr>\n",
       "      <th>353682</th>\n",
       "      <td>LARCENY/THEFT</td>\n",
       "      <td>GRAND THEFT OF PROPERTY</td>\n",
       "      <td>3</td>\n",
       "      <td>MCALLISTER ST / PIERCE ST</td>\n",
       "      <td>-122.435053</td>\n",
       "      <td>37.778212</td>\n",
       "      <td>2010-06-16 17:30:00</td>\n",
       "      <td>1</td>\n",
       "      <td>17</td>\n",
       "      <td>6</td>\n",
       "      <td>10</td>\n",
       "      <td>-2.588190e-01</td>\n",
       "      <td>-0.900969</td>\n",
       "      <td>-1.000000</td>\n",
       "      <td>0</td>\n",
       "      <td>0</td>\n",
       "      <td>0</td>\n",
       "      <td>0</td>\n",
       "      <td>0</td>\n",
       "      <td>1</td>\n",
       "      <td>0</td>\n",
       "      <td>0</td>\n",
       "      <td>0</td>\n",
       "      <td>0</td>\n",
       "      <td>16</td>\n",
       "      <td>1</td>\n",
       "    </tr>\n",
       "    <tr>\n",
       "      <th>479720</th>\n",
       "      <td>WARRANTS</td>\n",
       "      <td>ENROUTE TO OUTSIDE JURISDICTION</td>\n",
       "      <td>6</td>\n",
       "      <td>7TH ST / MINNA ST</td>\n",
       "      <td>-122.410406</td>\n",
       "      <td>37.778784</td>\n",
       "      <td>2008-08-09 16:18:00</td>\n",
       "      <td>1</td>\n",
       "      <td>16</td>\n",
       "      <td>8</td>\n",
       "      <td>8</td>\n",
       "      <td>-5.000000e-01</td>\n",
       "      <td>0.623490</td>\n",
       "      <td>-0.500000</td>\n",
       "      <td>0</td>\n",
       "      <td>0</td>\n",
       "      <td>0</td>\n",
       "      <td>0</td>\n",
       "      <td>0</td>\n",
       "      <td>0</td>\n",
       "      <td>0</td>\n",
       "      <td>1</td>\n",
       "      <td>0</td>\n",
       "      <td>0</td>\n",
       "      <td>37</td>\n",
       "      <td>1</td>\n",
       "    </tr>\n",
       "    <tr>\n",
       "      <th>358165</th>\n",
       "      <td>WEAPON LAWS</td>\n",
       "      <td>POSS OF PROHIBITED WEAPON</td>\n",
       "      <td>5</td>\n",
       "      <td>500 Block of CAPP ST</td>\n",
       "      <td>-122.417956</td>\n",
       "      <td>37.757880</td>\n",
       "      <td>2010-05-21 18:50:00</td>\n",
       "      <td>1</td>\n",
       "      <td>18</td>\n",
       "      <td>5</td>\n",
       "      <td>10</td>\n",
       "      <td>-1.836970e-16</td>\n",
       "      <td>-0.222521</td>\n",
       "      <td>-0.866025</td>\n",
       "      <td>0</td>\n",
       "      <td>0</td>\n",
       "      <td>0</td>\n",
       "      <td>1</td>\n",
       "      <td>0</td>\n",
       "      <td>0</td>\n",
       "      <td>0</td>\n",
       "      <td>0</td>\n",
       "      <td>0</td>\n",
       "      <td>0</td>\n",
       "      <td>38</td>\n",
       "      <td>0</td>\n",
       "    </tr>\n",
       "    <tr>\n",
       "      <th>239897</th>\n",
       "      <td>OTHER OFFENSES</td>\n",
       "      <td>TAMPERING WITH A VEHICLE</td>\n",
       "      <td>4</td>\n",
       "      <td>1500 Block of COLE ST</td>\n",
       "      <td>-122.448955</td>\n",
       "      <td>37.760481</td>\n",
       "      <td>2012-02-23 00:13:00</td>\n",
       "      <td>0</td>\n",
       "      <td>0</td>\n",
       "      <td>2</td>\n",
       "      <td>12</td>\n",
       "      <td>1.000000e+00</td>\n",
       "      <td>-0.900969</td>\n",
       "      <td>0.500000</td>\n",
       "      <td>0</td>\n",
       "      <td>0</td>\n",
       "      <td>0</td>\n",
       "      <td>0</td>\n",
       "      <td>0</td>\n",
       "      <td>1</td>\n",
       "      <td>0</td>\n",
       "      <td>0</td>\n",
       "      <td>0</td>\n",
       "      <td>0</td>\n",
       "      <td>21</td>\n",
       "      <td>0</td>\n",
       "    </tr>\n",
       "    <tr>\n",
       "      <th>874069</th>\n",
       "      <td>VEHICLE THEFT</td>\n",
       "      <td>VEHICLE, RECOVERED, AUTO</td>\n",
       "      <td>3</td>\n",
       "      <td>3500 Block of GEARY BL</td>\n",
       "      <td>-122.457016</td>\n",
       "      <td>37.781216</td>\n",
       "      <td>2003-01-22 18:30:00</td>\n",
       "      <td>1</td>\n",
       "      <td>18</td>\n",
       "      <td>1</td>\n",
       "      <td>3</td>\n",
       "      <td>-1.836970e-16</td>\n",
       "      <td>-0.900969</td>\n",
       "      <td>0.866025</td>\n",
       "      <td>0</td>\n",
       "      <td>0</td>\n",
       "      <td>0</td>\n",
       "      <td>0</td>\n",
       "      <td>0</td>\n",
       "      <td>0</td>\n",
       "      <td>1</td>\n",
       "      <td>0</td>\n",
       "      <td>0</td>\n",
       "      <td>0</td>\n",
       "      <td>36</td>\n",
       "      <td>0</td>\n",
       "    </tr>\n",
       "    <tr>\n",
       "      <th>516208</th>\n",
       "      <td>DRUG/NARCOTIC</td>\n",
       "      <td>POSSESSION OF NARCOTICS PARAPHERNALIA</td>\n",
       "      <td>2</td>\n",
       "      <td>700 Block of GEARY ST</td>\n",
       "      <td>-122.415633</td>\n",
       "      <td>37.786359</td>\n",
       "      <td>2008-02-05 16:46:00</td>\n",
       "      <td>1</td>\n",
       "      <td>16</td>\n",
       "      <td>2</td>\n",
       "      <td>8</td>\n",
       "      <td>-5.000000e-01</td>\n",
       "      <td>-0.222521</td>\n",
       "      <td>0.500000</td>\n",
       "      <td>0</td>\n",
       "      <td>1</td>\n",
       "      <td>0</td>\n",
       "      <td>0</td>\n",
       "      <td>0</td>\n",
       "      <td>0</td>\n",
       "      <td>0</td>\n",
       "      <td>0</td>\n",
       "      <td>0</td>\n",
       "      <td>0</td>\n",
       "      <td>7</td>\n",
       "      <td>0</td>\n",
       "    </tr>\n",
       "    <tr>\n",
       "      <th>112017</th>\n",
       "      <td>OTHER OFFENSES</td>\n",
       "      <td>DRIVERS LICENSE, SUSPENDED OR REVOKED</td>\n",
       "      <td>2</td>\n",
       "      <td>VANNESS AV / GROVE ST</td>\n",
       "      <td>-122.419885</td>\n",
       "      <td>37.778251</td>\n",
       "      <td>2013-11-12 12:20:00</td>\n",
       "      <td>1</td>\n",
       "      <td>12</td>\n",
       "      <td>11</td>\n",
       "      <td>13</td>\n",
       "      <td>-1.000000e+00</td>\n",
       "      <td>-0.222521</td>\n",
       "      <td>0.866025</td>\n",
       "      <td>0</td>\n",
       "      <td>0</td>\n",
       "      <td>0</td>\n",
       "      <td>0</td>\n",
       "      <td>1</td>\n",
       "      <td>0</td>\n",
       "      <td>0</td>\n",
       "      <td>0</td>\n",
       "      <td>0</td>\n",
       "      <td>0</td>\n",
       "      <td>21</td>\n",
       "      <td>1</td>\n",
       "    </tr>\n",
       "    <tr>\n",
       "      <th>109276</th>\n",
       "      <td>ASSAULT</td>\n",
       "      <td>AGGRAVATED ASSAULT WITH A DEADLY WEAPON</td>\n",
       "      <td>1</td>\n",
       "      <td>18TH ST / NOE ST</td>\n",
       "      <td>-122.432795</td>\n",
       "      <td>37.761020</td>\n",
       "      <td>2013-11-25 23:20:00</td>\n",
       "      <td>0</td>\n",
       "      <td>23</td>\n",
       "      <td>11</td>\n",
       "      <td>13</td>\n",
       "      <td>9.659258e-01</td>\n",
       "      <td>0.623490</td>\n",
       "      <td>0.866025</td>\n",
       "      <td>0</td>\n",
       "      <td>0</td>\n",
       "      <td>0</td>\n",
       "      <td>1</td>\n",
       "      <td>0</td>\n",
       "      <td>0</td>\n",
       "      <td>0</td>\n",
       "      <td>0</td>\n",
       "      <td>0</td>\n",
       "      <td>0</td>\n",
       "      <td>1</td>\n",
       "      <td>1</td>\n",
       "    </tr>\n",
       "    <tr>\n",
       "      <th>813928</th>\n",
       "      <td>DRUG/NARCOTIC</td>\n",
       "      <td>POSSESSION OF METH-AMPHETAMINE</td>\n",
       "      <td>1</td>\n",
       "      <td>JACKSON ST / HYDE ST</td>\n",
       "      <td>-122.418116</td>\n",
       "      <td>37.794566</td>\n",
       "      <td>2003-11-10 17:30:00</td>\n",
       "      <td>1</td>\n",
       "      <td>17</td>\n",
       "      <td>11</td>\n",
       "      <td>3</td>\n",
       "      <td>-2.588190e-01</td>\n",
       "      <td>0.623490</td>\n",
       "      <td>0.866025</td>\n",
       "      <td>0</td>\n",
       "      <td>1</td>\n",
       "      <td>0</td>\n",
       "      <td>0</td>\n",
       "      <td>0</td>\n",
       "      <td>0</td>\n",
       "      <td>0</td>\n",
       "      <td>0</td>\n",
       "      <td>0</td>\n",
       "      <td>0</td>\n",
       "      <td>7</td>\n",
       "      <td>1</td>\n",
       "    </tr>\n",
       "  </tbody>\n",
       "</table>\n",
       "</div>"
      ],
      "text/plain": [
       "              Category      ...       InIntersection\n",
       "871079        WARRANTS      ...                    1\n",
       "353682   LARCENY/THEFT      ...                    1\n",
       "479720        WARRANTS      ...                    1\n",
       "358165     WEAPON LAWS      ...                    0\n",
       "239897  OTHER OFFENSES      ...                    0\n",
       "874069   VEHICLE THEFT      ...                    0\n",
       "516208   DRUG/NARCOTIC      ...                    0\n",
       "112017  OTHER OFFENSES      ...                    1\n",
       "109276         ASSAULT      ...                    1\n",
       "813928   DRUG/NARCOTIC      ...                    1\n",
       "\n",
       "[10 rows x 26 columns]"
      ]
     },
     "execution_count": 19,
     "metadata": {},
     "output_type": "execute_result"
    }
   ],
   "source": [
    "train_df.sample(10)"
   ]
  },
  {
   "cell_type": "markdown",
   "metadata": {
    "_uuid": "74b3d268fb7dd4c4534f9d3a1070b7c2ed364858"
   },
   "source": [
    "# Feature Selection <a name=\"feature-selection\"></a>"
   ]
  },
  {
   "cell_type": "markdown",
   "metadata": {
    "_uuid": "e65ceeeca56f36b10152399bf81a3d31bb78aed2"
   },
   "source": [
    "**Now let's get our dataset ready for training !**"
   ]
  },
  {
   "cell_type": "code",
   "execution_count": 20,
   "metadata": {
    "_uuid": "2d04d5362e100290c62fbad96f90a3f376520a61"
   },
   "outputs": [
    {
     "data": {
      "text/plain": [
       "Index(['Category', 'Descript', 'DayOfWeek', 'Address', 'X', 'Y', 'Date',\n",
       "       'IsDay', 'Hour', 'Month', 'Year', 'HourCos', 'DayOfWeekCos', 'MonthCos',\n",
       "       'PdDistrict_BAYVIEW', 'PdDistrict_CENTRAL', 'PdDistrict_INGLESIDE',\n",
       "       'PdDistrict_MISSION', 'PdDistrict_NORTHERN', 'PdDistrict_PARK',\n",
       "       'PdDistrict_RICHMOND', 'PdDistrict_SOUTHERN', 'PdDistrict_TARAVAL',\n",
       "       'PdDistrict_TENDERLOIN', 'CategoryInt', 'InIntersection'],\n",
       "      dtype='object')"
      ]
     },
     "execution_count": 20,
     "metadata": {},
     "output_type": "execute_result"
    }
   ],
   "source": [
    "train_df.columns"
   ]
  },
  {
   "cell_type": "code",
   "execution_count": 21,
   "metadata": {
    "_uuid": "f3e01d5b7c9584ec77840099e52f3e588eea9abb",
    "scrolled": true
   },
   "outputs": [],
   "source": [
    "feature_cols = ['X', 'Y', 'IsDay', 'DayOfWeek', 'Month', 'Hour', 'Year', 'InIntersection',\n",
    "                'PdDistrict_BAYVIEW', 'PdDistrict_CENTRAL', 'PdDistrict_INGLESIDE',\n",
    "                'PdDistrict_MISSION', 'PdDistrict_NORTHERN', 'PdDistrict_PARK',\n",
    "                'PdDistrict_RICHMOND', 'PdDistrict_SOUTHERN', 'PdDistrict_TARAVAL', 'PdDistrict_TENDERLOIN']\n",
    "target_col = 'CategoryInt'\n",
    "\n",
    "train_x = train_df[feature_cols]\n",
    "train_y = train_df[target_col]\n",
    "\n",
    "test_ids = test_df['Id']\n",
    "test_x = test_df[feature_cols]"
   ]
  },
  {
   "cell_type": "code",
   "execution_count": 22,
   "metadata": {
    "_uuid": "c53b6e59c1b5391f05ff43a34d7d698c528a3cd4"
   },
   "outputs": [
    {
     "data": {
      "text/html": [
       "<div>\n",
       "<style scoped>\n",
       "    .dataframe tbody tr th:only-of-type {\n",
       "        vertical-align: middle;\n",
       "    }\n",
       "\n",
       "    .dataframe tbody tr th {\n",
       "        vertical-align: top;\n",
       "    }\n",
       "\n",
       "    .dataframe thead th {\n",
       "        text-align: right;\n",
       "    }\n",
       "</style>\n",
       "<table border=\"1\" class=\"dataframe\">\n",
       "  <thead>\n",
       "    <tr style=\"text-align: right;\">\n",
       "      <th></th>\n",
       "      <th>X</th>\n",
       "      <th>Y</th>\n",
       "      <th>IsDay</th>\n",
       "      <th>DayOfWeek</th>\n",
       "      <th>Month</th>\n",
       "      <th>Hour</th>\n",
       "      <th>Year</th>\n",
       "      <th>InIntersection</th>\n",
       "      <th>PdDistrict_BAYVIEW</th>\n",
       "      <th>PdDistrict_CENTRAL</th>\n",
       "      <th>PdDistrict_INGLESIDE</th>\n",
       "      <th>PdDistrict_MISSION</th>\n",
       "      <th>PdDistrict_NORTHERN</th>\n",
       "      <th>PdDistrict_PARK</th>\n",
       "      <th>PdDistrict_RICHMOND</th>\n",
       "      <th>PdDistrict_SOUTHERN</th>\n",
       "      <th>PdDistrict_TARAVAL</th>\n",
       "      <th>PdDistrict_TENDERLOIN</th>\n",
       "    </tr>\n",
       "  </thead>\n",
       "  <tbody>\n",
       "    <tr>\n",
       "      <th>566658</th>\n",
       "      <td>-122.465494</td>\n",
       "      <td>37.782889</td>\n",
       "      <td>0</td>\n",
       "      <td>2</td>\n",
       "      <td>5</td>\n",
       "      <td>0</td>\n",
       "      <td>7</td>\n",
       "      <td>1</td>\n",
       "      <td>0</td>\n",
       "      <td>0</td>\n",
       "      <td>0</td>\n",
       "      <td>0</td>\n",
       "      <td>0</td>\n",
       "      <td>0</td>\n",
       "      <td>1</td>\n",
       "      <td>0</td>\n",
       "      <td>0</td>\n",
       "      <td>0</td>\n",
       "    </tr>\n",
       "  </tbody>\n",
       "</table>\n",
       "</div>"
      ],
      "text/plain": [
       "                 X          ...            PdDistrict_TENDERLOIN\n",
       "566658 -122.465494          ...                                0\n",
       "\n",
       "[1 rows x 18 columns]"
      ]
     },
     "execution_count": 22,
     "metadata": {},
     "output_type": "execute_result"
    }
   ],
   "source": [
    "train_x.sample(1)"
   ]
  },
  {
   "cell_type": "code",
   "execution_count": 23,
   "metadata": {
    "_uuid": "4ae914565aa6b857ac3110380cecf61c95069d42"
   },
   "outputs": [
    {
     "data": {
      "text/html": [
       "<div>\n",
       "<style scoped>\n",
       "    .dataframe tbody tr th:only-of-type {\n",
       "        vertical-align: middle;\n",
       "    }\n",
       "\n",
       "    .dataframe tbody tr th {\n",
       "        vertical-align: top;\n",
       "    }\n",
       "\n",
       "    .dataframe thead th {\n",
       "        text-align: right;\n",
       "    }\n",
       "</style>\n",
       "<table border=\"1\" class=\"dataframe\">\n",
       "  <thead>\n",
       "    <tr style=\"text-align: right;\">\n",
       "      <th></th>\n",
       "      <th>X</th>\n",
       "      <th>Y</th>\n",
       "      <th>IsDay</th>\n",
       "      <th>DayOfWeek</th>\n",
       "      <th>Month</th>\n",
       "      <th>Hour</th>\n",
       "      <th>Year</th>\n",
       "      <th>InIntersection</th>\n",
       "      <th>PdDistrict_BAYVIEW</th>\n",
       "      <th>PdDistrict_CENTRAL</th>\n",
       "      <th>PdDistrict_INGLESIDE</th>\n",
       "      <th>PdDistrict_MISSION</th>\n",
       "      <th>PdDistrict_NORTHERN</th>\n",
       "      <th>PdDistrict_PARK</th>\n",
       "      <th>PdDistrict_RICHMOND</th>\n",
       "      <th>PdDistrict_SOUTHERN</th>\n",
       "      <th>PdDistrict_TARAVAL</th>\n",
       "      <th>PdDistrict_TENDERLOIN</th>\n",
       "    </tr>\n",
       "  </thead>\n",
       "  <tbody>\n",
       "    <tr>\n",
       "      <th>703329</th>\n",
       "      <td>-122.429913</td>\n",
       "      <td>37.735323</td>\n",
       "      <td>1</td>\n",
       "      <td>7</td>\n",
       "      <td>5</td>\n",
       "      <td>15</td>\n",
       "      <td>5</td>\n",
       "      <td>0</td>\n",
       "      <td>0</td>\n",
       "      <td>0</td>\n",
       "      <td>1</td>\n",
       "      <td>0</td>\n",
       "      <td>0</td>\n",
       "      <td>0</td>\n",
       "      <td>0</td>\n",
       "      <td>0</td>\n",
       "      <td>0</td>\n",
       "      <td>0</td>\n",
       "    </tr>\n",
       "  </tbody>\n",
       "</table>\n",
       "</div>"
      ],
      "text/plain": [
       "                 X          ...            PdDistrict_TENDERLOIN\n",
       "703329 -122.429913          ...                                0\n",
       "\n",
       "[1 rows x 18 columns]"
      ]
     },
     "execution_count": 23,
     "metadata": {},
     "output_type": "execute_result"
    }
   ],
   "source": [
    "test_x.sample(1)"
   ]
  },
  {
   "cell_type": "markdown",
   "metadata": {
    "_uuid": "7fe5b79de2ec67627012662d79e3737cdcda732d"
   },
   "source": [
    "# XGBOOST Training (Cross-Validation): <a name=\"training\"></a>"
   ]
  },
  {
   "cell_type": "code",
   "execution_count": 24,
   "metadata": {
    "_uuid": "0f597daa97c106ddae936a8de9d9759e754f46c2"
   },
   "outputs": [
    {
     "data": {
      "text/plain": [
       "(pandas.core.frame.DataFrame, pandas.core.series.Series)"
      ]
     },
     "execution_count": 24,
     "metadata": {},
     "output_type": "execute_result"
    }
   ],
   "source": [
    "type(train_x), type(train_y)"
   ]
  },
  {
   "cell_type": "markdown",
   "metadata": {
    "_uuid": "02224b34f5c390805bb3f507d7b93e107537a613"
   },
   "source": [
    "## Import XGBoost and create the DMatrices"
   ]
  },
  {
   "cell_type": "code",
   "execution_count": 25,
   "metadata": {
    "_uuid": "a4f28a92ad713b12fda3481e066597ec00d8fb38"
   },
   "outputs": [],
   "source": [
    "import xgboost as xgb\n",
    "train_xgb = xgb.DMatrix(train_x, label=train_y)\n",
    "test_xgb  = xgb.DMatrix(test_x)"
   ]
  },
  {
   "cell_type": "markdown",
   "metadata": {
    "_uuid": "5463f5f776d4dd57443289348fa143ff6a223d1b"
   },
   "source": [
    "## Play with the parameters and do Cross-Validation"
   ]
  },
  {
   "cell_type": "code",
   "execution_count": 26,
   "metadata": {
    "_uuid": "69ba300d0354e40678c3706274e2df6244219234"
   },
   "outputs": [],
   "source": [
    "params = {\n",
    "    'max_depth': 4,  # the maximum depth of each tree\n",
    "    'eta': 0.3,  # the training step for each iteration\n",
    "    'silent': 1,  # logging mode - quiet\n",
    "    'objective': 'multi:softprob',  # error evaluation for multiclass training\n",
    "    'num_class': 39,\n",
    "}"
   ]
  },
  {
   "cell_type": "code",
   "execution_count": 27,
   "metadata": {
    "_uuid": "b84165f3abc3b380e96ed6d12e8dad8a43d7c490"
   },
   "outputs": [],
   "source": [
    "CROSS_VAL = False\n",
    "if CROSS_VAL:\n",
    "    print('Doing Cross-validation ...')\n",
    "    cv = xgb.cv(params, train_xgb, nfold=3, early_stopping_rounds=10, metrics='mlogloss', verbose_eval=True)\n",
    "    cv"
   ]
  },
  {
   "cell_type": "markdown",
   "metadata": {
    "_uuid": "d52da0f5224980aae8ed8d0a98412aee389dff2e"
   },
   "source": [
    "## Fit & Make the predictions"
   ]
  },
  {
   "cell_type": "code",
   "execution_count": 28,
   "metadata": {
    "_uuid": "ab53f0e400811e4a6533bf02d21ed11433d82afa"
   },
   "outputs": [
    {
     "name": "stdout",
     "output_type": "stream",
     "text": [
      "Fitting Model ...\n",
      "Done Outputing !\n",
      "            Id     ARSON     ...       WARRANTS  WEAPON LAWS\n",
      "565595  565595  0.005318     ...       0.046265     0.015714\n",
      "320495  320495  0.006616     ...       0.027081     0.016835\n",
      "138777  138777  0.004894     ...       0.061299     0.009119\n",
      "\n",
      "[3 rows x 40 columns]\n"
     ]
    }
   ],
   "source": [
    "SUBMIT = not CROSS_VAL\n",
    "if SUBMIT:\n",
    "    print('Fitting Model ...')\n",
    "    m = xgb.train(params, train_xgb, 10)\n",
    "    res = m.predict(test_xgb)\n",
    "    cols = ['Id'] + cat_le.classes_\n",
    "    submission = pd.DataFrame(res, columns=cat_le.classes_)\n",
    "    submission.insert(0, 'Id', test_ids)\n",
    "    submission.to_csv('submission.csv', index=False)\n",
    "    print('Done Outputing !')\n",
    "    print(submission.sample(3))\n",
    "else:\n",
    "    print('NOT SUBMITING')"
   ]
  }
 ],
 "metadata": {
  "kernelspec": {
   "display_name": "Python 3",
   "language": "python",
   "name": "python3"
  },
  "language_info": {
   "codemirror_mode": {
    "name": "ipython",
    "version": 3
   },
   "file_extension": ".py",
   "mimetype": "text/x-python",
   "name": "python",
   "nbconvert_exporter": "python",
   "pygments_lexer": "ipython3",
   "version": "3.6.6"
  }
 },
 "nbformat": 4,
 "nbformat_minor": 1
}
