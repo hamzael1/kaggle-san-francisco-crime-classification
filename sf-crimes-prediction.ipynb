{
 "cells": [
  {
   "cell_type": "code",
   "execution_count": 1,
   "metadata": {
    "ExecuteTime": {
     "end_time": "2019-02-14T17:49:29.383134Z",
     "start_time": "2019-02-14T17:49:27.792632Z"
    },
    "collapsed": true
   },
   "outputs": [],
   "source": [
    "import pandas as pd"
   ]
  },
  {
   "cell_type": "markdown",
   "metadata": {},
   "source": [
    "## Import Feature Engineered Data"
   ]
  },
  {
   "cell_type": "code",
   "execution_count": 2,
   "metadata": {
    "ExecuteTime": {
     "end_time": "2019-02-14T17:49:43.080535Z",
     "start_time": "2019-02-14T17:49:29.385483Z"
    }
   },
   "outputs": [],
   "source": [
    "train_df = pd.read_csv('data/inter/train_clean.csv')\n",
    "test_df = pd.read_csv('data/inter/test_clean.csv')"
   ]
  },
  {
   "cell_type": "markdown",
   "metadata": {},
   "source": [
    "## Feature Selection"
   ]
  },
  {
   "cell_type": "code",
   "execution_count": 3,
   "metadata": {
    "ExecuteTime": {
     "end_time": "2019-02-14T17:49:44.450266Z",
     "start_time": "2019-02-14T17:49:43.085579Z"
    }
   },
   "outputs": [],
   "source": [
    "drop_cols = ['Dates', 'DayOfWeek', 'Address', 'X', 'Y', 'Month' ]\n",
    "train_df = train_df.drop(drop_cols+['Descript', 'Resolution'], axis=1)\n",
    "test_df = test_df.drop(drop_cols, axis=1)"
   ]
  },
  {
   "cell_type": "code",
   "execution_count": 4,
   "metadata": {
    "ExecuteTime": {
     "end_time": "2019-02-14T17:49:44.488001Z",
     "start_time": "2019-02-14T17:49:44.452812Z"
    }
   },
   "outputs": [
    {
     "data": {
      "text/plain": [
       "Index(['PdDistrict', 'Year', 'IsDay', 'MonthSin', 'MonthCos', 'DayOfWeekSin',\n",
       "       'DayOfWeekCos', 'Category_ARSON', 'Category_ASSAULT',\n",
       "       'Category_BAD CHECKS', 'Category_BRIBERY', 'Category_BURGLARY',\n",
       "       'Category_DISORDERLY CONDUCT', 'Category_DRIVING UNDER THE INFLUENCE',\n",
       "       'Category_DRUG/NARCOTIC', 'Category_DRUNKENNESS',\n",
       "       'Category_EMBEZZLEMENT', 'Category_EXTORTION',\n",
       "       'Category_FAMILY OFFENSES', 'Category_FORGERY/COUNTERFEITING',\n",
       "       'Category_FRAUD', 'Category_GAMBLING', 'Category_KIDNAPPING',\n",
       "       'Category_LARCENY/THEFT', 'Category_LIQUOR LAWS', 'Category_LOITERING',\n",
       "       'Category_MISSING PERSON', 'Category_NON-CRIMINAL',\n",
       "       'Category_OTHER OFFENSES', 'Category_PORNOGRAPHY/OBSCENE MAT',\n",
       "       'Category_PROSTITUTION', 'Category_RECOVERED VEHICLE',\n",
       "       'Category_ROBBERY', 'Category_RUNAWAY', 'Category_SECONDARY CODES',\n",
       "       'Category_SEX OFFENSES FORCIBLE', 'Category_SEX OFFENSES NON FORCIBLE',\n",
       "       'Category_STOLEN PROPERTY', 'Category_SUICIDE',\n",
       "       'Category_SUSPICIOUS OCC', 'Category_TREA', 'Category_TRESPASS',\n",
       "       'Category_VANDALISM', 'Category_VEHICLE THEFT', 'Category_WARRANTS',\n",
       "       'Category_WEAPON LAWS'],\n",
       "      dtype='object')"
      ]
     },
     "execution_count": 4,
     "metadata": {},
     "output_type": "execute_result"
    }
   ],
   "source": [
    "train_df.columns"
   ]
  },
  {
   "cell_type": "code",
   "execution_count": 5,
   "metadata": {
    "ExecuteTime": {
     "end_time": "2019-02-14T17:49:44.509058Z",
     "start_time": "2019-02-14T17:49:44.495051Z"
    }
   },
   "outputs": [
    {
     "data": {
      "text/plain": [
       "Index(['Id', 'PdDistrict', 'Year', 'IsDay', 'MonthSin', 'MonthCos',\n",
       "       'DayOfWeekSin', 'DayOfWeekCos'],\n",
       "      dtype='object')"
      ]
     },
     "execution_count": 5,
     "metadata": {},
     "output_type": "execute_result"
    }
   ],
   "source": [
    "test_df.columns"
   ]
  },
  {
   "cell_type": "markdown",
   "metadata": {},
   "source": [
    "## Separate Features (X) and Targets (Y):"
   ]
  },
  {
   "cell_type": "code",
   "execution_count": 10,
   "metadata": {
    "ExecuteTime": {
     "end_time": "2019-02-14T17:51:15.060010Z",
     "start_time": "2019-02-14T17:51:14.557720Z"
    },
    "collapsed": true
   },
   "outputs": [],
   "source": [
    "feature_cols = ['Year', 'MonthSin', 'MonthCos', 'DayOfWeekSin', 'DayOfWeekCos', 'IsDay', 'PdDistrict']\n",
    "train_x = train_df[feature_cols]\n",
    "train_y = train_df.drop(feature_cols, axis=1)\n",
    "test_ids = test_df.Id # Save Ids for submission\n",
    "test_x  = test_df[feature_cols]"
   ]
  },
  {
   "cell_type": "code",
   "execution_count": 11,
   "metadata": {
    "ExecuteTime": {
     "end_time": "2019-02-14T17:51:15.123922Z",
     "start_time": "2019-02-14T17:51:15.062807Z"
    }
   },
   "outputs": [
    {
     "data": {
      "text/html": [
       "<div>\n",
       "<style>\n",
       "    .dataframe thead tr:only-child th {\n",
       "        text-align: right;\n",
       "    }\n",
       "\n",
       "    .dataframe thead th {\n",
       "        text-align: left;\n",
       "    }\n",
       "\n",
       "    .dataframe tbody tr th {\n",
       "        vertical-align: top;\n",
       "    }\n",
       "</style>\n",
       "<table border=\"1\" class=\"dataframe\">\n",
       "  <thead>\n",
       "    <tr style=\"text-align: right;\">\n",
       "      <th></th>\n",
       "      <th>Year</th>\n",
       "      <th>MonthSin</th>\n",
       "      <th>MonthCos</th>\n",
       "      <th>DayOfWeekSin</th>\n",
       "      <th>DayOfWeekCos</th>\n",
       "      <th>IsDay</th>\n",
       "      <th>PdDistrict</th>\n",
       "    </tr>\n",
       "  </thead>\n",
       "  <tbody>\n",
       "    <tr>\n",
       "      <th>405611</th>\n",
       "      <td>2009</td>\n",
       "      <td>-1.000000</td>\n",
       "      <td>-1.836970e-16</td>\n",
       "      <td>0.433884</td>\n",
       "      <td>-0.900969</td>\n",
       "      <td>1</td>\n",
       "      <td>7</td>\n",
       "    </tr>\n",
       "    <tr>\n",
       "      <th>601888</th>\n",
       "      <td>2006</td>\n",
       "      <td>-0.866025</td>\n",
       "      <td>5.000000e-01</td>\n",
       "      <td>0.974928</td>\n",
       "      <td>-0.222521</td>\n",
       "      <td>1</td>\n",
       "      <td>7</td>\n",
       "    </tr>\n",
       "    <tr>\n",
       "      <th>685058</th>\n",
       "      <td>2005</td>\n",
       "      <td>-0.866025</td>\n",
       "      <td>-5.000000e-01</td>\n",
       "      <td>-0.974928</td>\n",
       "      <td>-0.222521</td>\n",
       "      <td>0</td>\n",
       "      <td>7</td>\n",
       "    </tr>\n",
       "  </tbody>\n",
       "</table>\n",
       "</div>"
      ],
      "text/plain": [
       "        Year  MonthSin      MonthCos  DayOfWeekSin  DayOfWeekCos  IsDay  \\\n",
       "405611  2009 -1.000000 -1.836970e-16      0.433884     -0.900969      1   \n",
       "601888  2006 -0.866025  5.000000e-01      0.974928     -0.222521      1   \n",
       "685058  2005 -0.866025 -5.000000e-01     -0.974928     -0.222521      0   \n",
       "\n",
       "        PdDistrict  \n",
       "405611           7  \n",
       "601888           7  \n",
       "685058           7  "
      ]
     },
     "execution_count": 11,
     "metadata": {},
     "output_type": "execute_result"
    }
   ],
   "source": [
    "train_x.sample(3)"
   ]
  },
  {
   "cell_type": "code",
   "execution_count": 12,
   "metadata": {
    "ExecuteTime": {
     "end_time": "2019-02-14T17:51:15.639893Z",
     "start_time": "2019-02-14T17:51:15.549036Z"
    }
   },
   "outputs": [
    {
     "data": {
      "text/html": [
       "<div>\n",
       "<style>\n",
       "    .dataframe thead tr:only-child th {\n",
       "        text-align: right;\n",
       "    }\n",
       "\n",
       "    .dataframe thead th {\n",
       "        text-align: left;\n",
       "    }\n",
       "\n",
       "    .dataframe tbody tr th {\n",
       "        vertical-align: top;\n",
       "    }\n",
       "</style>\n",
       "<table border=\"1\" class=\"dataframe\">\n",
       "  <thead>\n",
       "    <tr style=\"text-align: right;\">\n",
       "      <th></th>\n",
       "      <th>Year</th>\n",
       "      <th>MonthSin</th>\n",
       "      <th>MonthCos</th>\n",
       "      <th>DayOfWeekSin</th>\n",
       "      <th>DayOfWeekCos</th>\n",
       "      <th>IsDay</th>\n",
       "      <th>PdDistrict</th>\n",
       "    </tr>\n",
       "  </thead>\n",
       "  <tbody>\n",
       "    <tr>\n",
       "      <th>362481</th>\n",
       "      <td>2010</td>\n",
       "      <td>0.866025</td>\n",
       "      <td>-0.500000</td>\n",
       "      <td>-0.781831</td>\n",
       "      <td>0.623490</td>\n",
       "      <td>1</td>\n",
       "      <td>7</td>\n",
       "    </tr>\n",
       "    <tr>\n",
       "      <th>191766</th>\n",
       "      <td>2012</td>\n",
       "      <td>-0.500000</td>\n",
       "      <td>0.866025</td>\n",
       "      <td>0.974928</td>\n",
       "      <td>-0.222521</td>\n",
       "      <td>1</td>\n",
       "      <td>7</td>\n",
       "    </tr>\n",
       "    <tr>\n",
       "      <th>535496</th>\n",
       "      <td>2007</td>\n",
       "      <td>-0.500000</td>\n",
       "      <td>0.866025</td>\n",
       "      <td>0.974928</td>\n",
       "      <td>-0.222521</td>\n",
       "      <td>1</td>\n",
       "      <td>3</td>\n",
       "    </tr>\n",
       "  </tbody>\n",
       "</table>\n",
       "</div>"
      ],
      "text/plain": [
       "        Year  MonthSin  MonthCos  DayOfWeekSin  DayOfWeekCos  IsDay  \\\n",
       "362481  2010  0.866025 -0.500000     -0.781831      0.623490      1   \n",
       "191766  2012 -0.500000  0.866025      0.974928     -0.222521      1   \n",
       "535496  2007 -0.500000  0.866025      0.974928     -0.222521      1   \n",
       "\n",
       "        PdDistrict  \n",
       "362481           7  \n",
       "191766           7  \n",
       "535496           3  "
      ]
     },
     "execution_count": 12,
     "metadata": {},
     "output_type": "execute_result"
    }
   ],
   "source": [
    "test_x.sample(3)"
   ]
  },
  {
   "cell_type": "code",
   "execution_count": 13,
   "metadata": {
    "ExecuteTime": {
     "end_time": "2019-02-14T17:51:18.849478Z",
     "start_time": "2019-02-14T17:51:18.840985Z"
    }
   },
   "outputs": [
    {
     "data": {
      "text/plain": [
       "Index(['Category_ARSON', 'Category_ASSAULT', 'Category_BAD CHECKS',\n",
       "       'Category_BRIBERY', 'Category_BURGLARY', 'Category_DISORDERLY CONDUCT',\n",
       "       'Category_DRIVING UNDER THE INFLUENCE', 'Category_DRUG/NARCOTIC',\n",
       "       'Category_DRUNKENNESS', 'Category_EMBEZZLEMENT', 'Category_EXTORTION',\n",
       "       'Category_FAMILY OFFENSES', 'Category_FORGERY/COUNTERFEITING',\n",
       "       'Category_FRAUD', 'Category_GAMBLING', 'Category_KIDNAPPING',\n",
       "       'Category_LARCENY/THEFT', 'Category_LIQUOR LAWS', 'Category_LOITERING',\n",
       "       'Category_MISSING PERSON', 'Category_NON-CRIMINAL',\n",
       "       'Category_OTHER OFFENSES', 'Category_PORNOGRAPHY/OBSCENE MAT',\n",
       "       'Category_PROSTITUTION', 'Category_RECOVERED VEHICLE',\n",
       "       'Category_ROBBERY', 'Category_RUNAWAY', 'Category_SECONDARY CODES',\n",
       "       'Category_SEX OFFENSES FORCIBLE', 'Category_SEX OFFENSES NON FORCIBLE',\n",
       "       'Category_STOLEN PROPERTY', 'Category_SUICIDE',\n",
       "       'Category_SUSPICIOUS OCC', 'Category_TREA', 'Category_TRESPASS',\n",
       "       'Category_VANDALISM', 'Category_VEHICLE THEFT', 'Category_WARRANTS',\n",
       "       'Category_WEAPON LAWS'],\n",
       "      dtype='object')"
      ]
     },
     "execution_count": 13,
     "metadata": {},
     "output_type": "execute_result"
    }
   ],
   "source": [
    "train_y.columns"
   ]
  },
  {
   "cell_type": "markdown",
   "metadata": {},
   "source": [
    "## Prediction"
   ]
  },
  {
   "cell_type": "code",
   "execution_count": null,
   "metadata": {
    "collapsed": true
   },
   "outputs": [],
   "source": []
  }
 ],
 "metadata": {
  "kernelspec": {
   "display_name": "Python 3",
   "language": "python",
   "name": "python3"
  },
  "language_info": {
   "codemirror_mode": {
    "name": "ipython",
    "version": 3
   },
   "file_extension": ".py",
   "mimetype": "text/x-python",
   "name": "python",
   "nbconvert_exporter": "python",
   "pygments_lexer": "ipython3",
   "version": "3.6.1"
  }
 },
 "nbformat": 4,
 "nbformat_minor": 2
}
