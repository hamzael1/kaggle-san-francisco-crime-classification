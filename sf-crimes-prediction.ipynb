{
 "cells": [
  {
   "cell_type": "code",
   "execution_count": 1,
   "metadata": {
    "ExecuteTime": {
     "end_time": "2019-02-15T15:12:37.025691Z",
     "start_time": "2019-02-15T15:12:35.067970Z"
    },
    "_uuid": "f7232d7818f89dd76c2efacc510c3d4bf26f7f93"
   },
   "outputs": [],
   "source": [
    "import pandas as pd\n",
    "import numpy as np"
   ]
  },
  {
   "cell_type": "markdown",
   "metadata": {
    "_uuid": "61b6e16b04f820ced3eb91b772538b013ecf5a3a"
   },
   "source": [
    "## Import Feature Engineered Data"
   ]
  },
  {
   "cell_type": "code",
   "execution_count": 2,
   "metadata": {
    "ExecuteTime": {
     "end_time": "2019-02-15T15:12:44.461580Z",
     "start_time": "2019-02-15T15:12:37.028847Z"
    },
    "_uuid": "932787e8a48b5838da4cbfe5379239e01aa2779f"
   },
   "outputs": [],
   "source": [
    "train_df = pd.read_csv('../input/sf-crimes-feature-engineering/train_clean.csv')\n",
    "test_df = pd.read_csv('../input/sf-crimes-feature-engineering/test_clean.csv')"
   ]
  },
  {
   "cell_type": "code",
   "execution_count": 3,
   "metadata": {
    "_uuid": "cdf90a2f5718cd64a10c042e10c976b05c30c7f1"
   },
   "outputs": [
    {
     "data": {
      "text/plain": [
       "Index(['Id', 'Dates', 'DayOfWeek', 'Address', 'X', 'Y', 'Year', 'Month',\n",
       "       'Hour', 'IsDay', 'HourSin', 'HourCos', 'MonthSin', 'MonthCos',\n",
       "       'DayOfWeekSin', 'DayOfWeekCos', 'PdDistrict_BAYVIEW',\n",
       "       'PdDistrict_CENTRAL', 'PdDistrict_INGLESIDE', 'PdDistrict_MISSION',\n",
       "       'PdDistrict_NORTHERN', 'PdDistrict_PARK', 'PdDistrict_RICHMOND',\n",
       "       'PdDistrict_SOUTHERN', 'PdDistrict_TARAVAL', 'PdDistrict_TENDERLOIN'],\n",
       "      dtype='object')"
      ]
     },
     "execution_count": 3,
     "metadata": {},
     "output_type": "execute_result"
    }
   ],
   "source": [
    "test_df.columns"
   ]
  },
  {
   "cell_type": "markdown",
   "metadata": {
    "_uuid": "3fa41e0aeb071056eb8620313a7dd98d9eb5036c"
   },
   "source": [
    "## Feature Selection"
   ]
  },
  {
   "cell_type": "code",
   "execution_count": 4,
   "metadata": {
    "ExecuteTime": {
     "end_time": "2019-02-15T15:12:44.847700Z",
     "start_time": "2019-02-15T15:12:44.463996Z"
    },
    "_uuid": "7f6d1c70ba4beea5e12041227b400ffb328de1a5"
   },
   "outputs": [],
   "source": [
    "drop_cols = ['Dates', 'Address', 'DayOfWeek', 'Month', 'Hour' ]\n",
    "train_df = train_df.drop(drop_cols+['Descript', 'Resolution'], axis=1)\n",
    "test_df = test_df.drop(drop_cols, axis=1)"
   ]
  },
  {
   "cell_type": "code",
   "execution_count": 5,
   "metadata": {
    "ExecuteTime": {
     "end_time": "2019-02-15T15:12:44.873134Z",
     "start_time": "2019-02-15T15:12:44.849988Z"
    },
    "_uuid": "6a07cac16a0e795cc35ed8ba5be9de01b5edad90"
   },
   "outputs": [
    {
     "data": {
      "text/plain": [
       "Index(['Category', 'X', 'Y', 'Year', 'IsDay', 'HourSin', 'HourCos', 'MonthSin',\n",
       "       'MonthCos', 'DayOfWeekSin', 'DayOfWeekCos', 'PdDistrict_BAYVIEW',\n",
       "       'PdDistrict_CENTRAL', 'PdDistrict_INGLESIDE', 'PdDistrict_MISSION',\n",
       "       'PdDistrict_NORTHERN', 'PdDistrict_PARK', 'PdDistrict_RICHMOND',\n",
       "       'PdDistrict_SOUTHERN', 'PdDistrict_TARAVAL', 'PdDistrict_TENDERLOIN'],\n",
       "      dtype='object')"
      ]
     },
     "execution_count": 5,
     "metadata": {},
     "output_type": "execute_result"
    }
   ],
   "source": [
    "train_df.columns"
   ]
  },
  {
   "cell_type": "code",
   "execution_count": 6,
   "metadata": {
    "ExecuteTime": {
     "end_time": "2019-02-15T15:12:44.886384Z",
     "start_time": "2019-02-15T15:12:44.877387Z"
    },
    "_uuid": "27c4bd25da1db30d72f7cebfa0b7a8a1ee4c5937"
   },
   "outputs": [
    {
     "data": {
      "text/plain": [
       "Index(['Id', 'X', 'Y', 'Year', 'IsDay', 'HourSin', 'HourCos', 'MonthSin',\n",
       "       'MonthCos', 'DayOfWeekSin', 'DayOfWeekCos', 'PdDistrict_BAYVIEW',\n",
       "       'PdDistrict_CENTRAL', 'PdDistrict_INGLESIDE', 'PdDistrict_MISSION',\n",
       "       'PdDistrict_NORTHERN', 'PdDistrict_PARK', 'PdDistrict_RICHMOND',\n",
       "       'PdDistrict_SOUTHERN', 'PdDistrict_TARAVAL', 'PdDistrict_TENDERLOIN'],\n",
       "      dtype='object')"
      ]
     },
     "execution_count": 6,
     "metadata": {},
     "output_type": "execute_result"
    }
   ],
   "source": [
    "test_df.columns"
   ]
  },
  {
   "cell_type": "markdown",
   "metadata": {
    "_uuid": "57281dcb62b47dda3ccabed3ad61a95f3fe56903",
    "deletable": false,
    "editable": false,
    "run_control": {
     "frozen": true
    }
   },
   "source": [
    "## Separate Features (X) and Targets (Y):"
   ]
  },
  {
   "cell_type": "code",
   "execution_count": 7,
   "metadata": {
    "ExecuteTime": {
     "end_time": "2019-02-15T15:12:44.948548Z",
     "start_time": "2019-02-15T15:12:44.890172Z"
    },
    "_uuid": "23e45904c37c295ccb44371e39b67d920494eb83"
   },
   "outputs": [],
   "source": [
    "feature_cols = [ 'DayOfWeekCos', 'MonthCos', 'X', 'Y', 'IsDay', 'Year', 'PdDistrict_BAYVIEW', 'PdDistrict_CENTRAL',\n",
    "       'PdDistrict_INGLESIDE', 'PdDistrict_MISSION', 'PdDistrict_NORTHERN',\n",
    "       'PdDistrict_PARK', 'PdDistrict_RICHMOND', 'PdDistrict_SOUTHERN',\n",
    "       'PdDistrict_TARAVAL', 'PdDistrict_TENDERLOIN']\n",
    "train_x = train_df[feature_cols]\n",
    "train_y = train_df['Category']\n",
    "test_ids = test_df.Id # Save Ids for submission\n",
    "test_x  = test_df[feature_cols]"
   ]
  },
  {
   "cell_type": "code",
   "execution_count": 8,
   "metadata": {
    "ExecuteTime": {
     "end_time": "2019-02-15T15:12:45.052272Z",
     "start_time": "2019-02-15T15:12:44.951417Z"
    },
    "_uuid": "8008db3b8e6290eb4b6f6e6db54fa37baa608212",
    "scrolled": true
   },
   "outputs": [
    {
     "data": {
      "text/html": [
       "<div>\n",
       "<style scoped>\n",
       "    .dataframe tbody tr th:only-of-type {\n",
       "        vertical-align: middle;\n",
       "    }\n",
       "\n",
       "    .dataframe tbody tr th {\n",
       "        vertical-align: top;\n",
       "    }\n",
       "\n",
       "    .dataframe thead th {\n",
       "        text-align: right;\n",
       "    }\n",
       "</style>\n",
       "<table border=\"1\" class=\"dataframe\">\n",
       "  <thead>\n",
       "    <tr style=\"text-align: right;\">\n",
       "      <th></th>\n",
       "      <th>DayOfWeekCos</th>\n",
       "      <th>MonthCos</th>\n",
       "      <th>X</th>\n",
       "      <th>Y</th>\n",
       "      <th>IsDay</th>\n",
       "      <th>Year</th>\n",
       "      <th>PdDistrict_BAYVIEW</th>\n",
       "      <th>PdDistrict_CENTRAL</th>\n",
       "      <th>PdDistrict_INGLESIDE</th>\n",
       "      <th>PdDistrict_MISSION</th>\n",
       "      <th>PdDistrict_NORTHERN</th>\n",
       "      <th>PdDistrict_PARK</th>\n",
       "      <th>PdDistrict_RICHMOND</th>\n",
       "      <th>PdDistrict_SOUTHERN</th>\n",
       "      <th>PdDistrict_TARAVAL</th>\n",
       "      <th>PdDistrict_TENDERLOIN</th>\n",
       "    </tr>\n",
       "  </thead>\n",
       "  <tbody>\n",
       "    <tr>\n",
       "      <th>351868</th>\n",
       "      <td>0.623490</td>\n",
       "      <td>-1.0</td>\n",
       "      <td>-122.395971</td>\n",
       "      <td>37.743924</td>\n",
       "      <td>1</td>\n",
       "      <td>10</td>\n",
       "      <td>1</td>\n",
       "      <td>0</td>\n",
       "      <td>0</td>\n",
       "      <td>0</td>\n",
       "      <td>0</td>\n",
       "      <td>0</td>\n",
       "      <td>0</td>\n",
       "      <td>0</td>\n",
       "      <td>0</td>\n",
       "      <td>0</td>\n",
       "    </tr>\n",
       "    <tr>\n",
       "      <th>513141</th>\n",
       "      <td>-0.900969</td>\n",
       "      <td>0.5</td>\n",
       "      <td>-122.419672</td>\n",
       "      <td>37.765050</td>\n",
       "      <td>0</td>\n",
       "      <td>8</td>\n",
       "      <td>0</td>\n",
       "      <td>0</td>\n",
       "      <td>0</td>\n",
       "      <td>1</td>\n",
       "      <td>0</td>\n",
       "      <td>0</td>\n",
       "      <td>0</td>\n",
       "      <td>0</td>\n",
       "      <td>0</td>\n",
       "      <td>0</td>\n",
       "    </tr>\n",
       "    <tr>\n",
       "      <th>661859</th>\n",
       "      <td>-0.222521</td>\n",
       "      <td>1.0</td>\n",
       "      <td>-122.409160</td>\n",
       "      <td>37.761817</td>\n",
       "      <td>0</td>\n",
       "      <td>5</td>\n",
       "      <td>0</td>\n",
       "      <td>0</td>\n",
       "      <td>0</td>\n",
       "      <td>1</td>\n",
       "      <td>0</td>\n",
       "      <td>0</td>\n",
       "      <td>0</td>\n",
       "      <td>0</td>\n",
       "      <td>0</td>\n",
       "      <td>0</td>\n",
       "    </tr>\n",
       "  </tbody>\n",
       "</table>\n",
       "</div>"
      ],
      "text/plain": [
       "        DayOfWeekCos          ...            PdDistrict_TENDERLOIN\n",
       "351868      0.623490          ...                                0\n",
       "513141     -0.900969          ...                                0\n",
       "661859     -0.222521          ...                                0\n",
       "\n",
       "[3 rows x 16 columns]"
      ]
     },
     "execution_count": 8,
     "metadata": {},
     "output_type": "execute_result"
    }
   ],
   "source": [
    "train_x.sample(3)"
   ]
  },
  {
   "cell_type": "code",
   "execution_count": 9,
   "metadata": {
    "ExecuteTime": {
     "end_time": "2019-02-15T15:12:45.149566Z",
     "start_time": "2019-02-15T15:12:45.055210Z"
    },
    "_uuid": "ac4177a4b97ca63274606434f8cf7102d4a77572"
   },
   "outputs": [
    {
     "data": {
      "text/html": [
       "<div>\n",
       "<style scoped>\n",
       "    .dataframe tbody tr th:only-of-type {\n",
       "        vertical-align: middle;\n",
       "    }\n",
       "\n",
       "    .dataframe tbody tr th {\n",
       "        vertical-align: top;\n",
       "    }\n",
       "\n",
       "    .dataframe thead th {\n",
       "        text-align: right;\n",
       "    }\n",
       "</style>\n",
       "<table border=\"1\" class=\"dataframe\">\n",
       "  <thead>\n",
       "    <tr style=\"text-align: right;\">\n",
       "      <th></th>\n",
       "      <th>DayOfWeekCos</th>\n",
       "      <th>MonthCos</th>\n",
       "      <th>X</th>\n",
       "      <th>Y</th>\n",
       "      <th>IsDay</th>\n",
       "      <th>Year</th>\n",
       "      <th>PdDistrict_BAYVIEW</th>\n",
       "      <th>PdDistrict_CENTRAL</th>\n",
       "      <th>PdDistrict_INGLESIDE</th>\n",
       "      <th>PdDistrict_MISSION</th>\n",
       "      <th>PdDistrict_NORTHERN</th>\n",
       "      <th>PdDistrict_PARK</th>\n",
       "      <th>PdDistrict_RICHMOND</th>\n",
       "      <th>PdDistrict_SOUTHERN</th>\n",
       "      <th>PdDistrict_TARAVAL</th>\n",
       "      <th>PdDistrict_TENDERLOIN</th>\n",
       "    </tr>\n",
       "  </thead>\n",
       "  <tbody>\n",
       "    <tr>\n",
       "      <th>27105</th>\n",
       "      <td>1.00000</td>\n",
       "      <td>8.660254e-01</td>\n",
       "      <td>-122.444028</td>\n",
       "      <td>37.772296</td>\n",
       "      <td>0</td>\n",
       "      <td>15</td>\n",
       "      <td>0</td>\n",
       "      <td>0</td>\n",
       "      <td>0</td>\n",
       "      <td>0</td>\n",
       "      <td>0</td>\n",
       "      <td>1</td>\n",
       "      <td>0</td>\n",
       "      <td>0</td>\n",
       "      <td>0</td>\n",
       "      <td>0</td>\n",
       "    </tr>\n",
       "    <tr>\n",
       "      <th>587309</th>\n",
       "      <td>0.62349</td>\n",
       "      <td>5.000000e-01</td>\n",
       "      <td>-122.407387</td>\n",
       "      <td>37.781069</td>\n",
       "      <td>1</td>\n",
       "      <td>7</td>\n",
       "      <td>0</td>\n",
       "      <td>0</td>\n",
       "      <td>0</td>\n",
       "      <td>0</td>\n",
       "      <td>0</td>\n",
       "      <td>0</td>\n",
       "      <td>0</td>\n",
       "      <td>1</td>\n",
       "      <td>0</td>\n",
       "      <td>0</td>\n",
       "    </tr>\n",
       "    <tr>\n",
       "      <th>827106</th>\n",
       "      <td>1.00000</td>\n",
       "      <td>-1.836970e-16</td>\n",
       "      <td>-122.421876</td>\n",
       "      <td>37.764089</td>\n",
       "      <td>0</td>\n",
       "      <td>3</td>\n",
       "      <td>0</td>\n",
       "      <td>0</td>\n",
       "      <td>0</td>\n",
       "      <td>1</td>\n",
       "      <td>0</td>\n",
       "      <td>0</td>\n",
       "      <td>0</td>\n",
       "      <td>0</td>\n",
       "      <td>0</td>\n",
       "      <td>0</td>\n",
       "    </tr>\n",
       "  </tbody>\n",
       "</table>\n",
       "</div>"
      ],
      "text/plain": [
       "        DayOfWeekCos          ...            PdDistrict_TENDERLOIN\n",
       "27105        1.00000          ...                                0\n",
       "587309       0.62349          ...                                0\n",
       "827106       1.00000          ...                                0\n",
       "\n",
       "[3 rows x 16 columns]"
      ]
     },
     "execution_count": 9,
     "metadata": {},
     "output_type": "execute_result"
    }
   ],
   "source": [
    "test_x.sample(3)"
   ]
  },
  {
   "cell_type": "code",
   "execution_count": 10,
   "metadata": {
    "ExecuteTime": {
     "end_time": "2019-02-15T15:12:45.240289Z",
     "start_time": "2019-02-15T15:12:45.153631Z"
    },
    "_uuid": "2d073adb2574b3575aff5e4ba9518c22d370b781"
   },
   "outputs": [
    {
     "data": {
      "text/plain": [
       "220322    25\n",
       "118421    16\n",
       "30433     16\n",
       "Name: Category, dtype: int64"
      ]
     },
     "execution_count": 10,
     "metadata": {},
     "output_type": "execute_result"
    }
   ],
   "source": [
    "train_y.sample(3)"
   ]
  },
  {
   "cell_type": "markdown",
   "metadata": {
    "_uuid": "7ddb189ad254ad5f598aacef72d3729ca169f81b"
   },
   "source": [
    "## Prediction"
   ]
  },
  {
   "cell_type": "code",
   "execution_count": 11,
   "metadata": {
    "ExecuteTime": {
     "end_time": "2019-02-15T15:12:46.752321Z",
     "start_time": "2019-02-15T15:12:45.245000Z"
    },
    "_uuid": "7a5326aa867ce616d697de4757b719a738139102"
   },
   "outputs": [],
   "source": [
    "from sklearn.model_selection import cross_val_score, GridSearchCV, train_test_split\n",
    "XTrain, XTest, YTrain, YTest = train_test_split(train_x, train_y, test_size=0.2)"
   ]
  },
  {
   "cell_type": "code",
   "execution_count": 12,
   "metadata": {
    "ExecuteTime": {
     "end_time": "2019-02-15T15:12:47.082656Z",
     "start_time": "2019-02-15T15:12:46.755096Z"
    },
    "_uuid": "c6161751018067ee7ca19a35c39c3358007abf96"
   },
   "outputs": [],
   "source": [
    "import xgboost as xgb\n",
    "params = {\n",
    "    'max_depth': 3,  # the maximum depth of each tree\n",
    "    'eta': 0.3,  # the training step for each iteration\n",
    "    'silent': 1,  # logging mode - quiet\n",
    "    'objective': 'multi:softprob',  # error evaluation for multiclass training\n",
    "    'num_class': 39\n",
    "    }\n",
    "\n",
    "num_rounds = 5\n",
    "\n",
    "#model = xgb.XGBClassifier()\n",
    "train_dmat = xgb.DMatrix(data=XTrain, label=YTrain)\n",
    "model = xgb.train(params, train_dmat, num_rounds)"
   ]
  },
  {
   "cell_type": "code",
   "execution_count": 13,
   "metadata": {
    "_uuid": "eef5604ba95021cc7b183be4b1a54e69f8f92c4d"
   },
   "outputs": [
    {
     "name": "stdout",
     "output_type": "stream",
     "text": [
      "Predicting ...\n"
     ]
    },
    {
     "data": {
      "text/plain": [
       "(175610, 39)"
      ]
     },
     "execution_count": 13,
     "metadata": {},
     "output_type": "execute_result"
    }
   ],
   "source": [
    "print('Predicting ...')\n",
    "test_dmat = xgb.DMatrix(XTest)\n",
    "preds_proba = model.predict(test_dmat)\n",
    "preds_proba.shape"
   ]
  },
  {
   "cell_type": "code",
   "execution_count": 14,
   "metadata": {
    "_uuid": "1ad8b7b0dccfd62b493cdc6c583d99ae90707af3"
   },
   "outputs": [
    {
     "name": "stdout",
     "output_type": "stream",
     "text": [
      "Log Loss:  2.763393812979634\n"
     ]
    }
   ],
   "source": [
    "from sklearn.metrics import accuracy_score, log_loss\n",
    "#print('Accuracy Score: ', accuracy_score(preds, YTest))\n",
    "print('Log Loss: ', log_loss(y_true=YTest, y_pred =preds_proba, labels=np.arange(39)))\n",
    "#log_loss(y_true=[3,2,3,1], y_pred=[[0, 0, 1], [0, 1, 0], [0, 0, 1], [1, 0, 0]])"
   ]
  },
  {
   "cell_type": "code",
   "execution_count": 15,
   "metadata": {
    "_uuid": "67dfc05270e7c8089cd10d4d350acc5baad5958e"
   },
   "outputs": [
    {
     "data": {
      "text/plain": [
       "\"\\nfrom sklearn.neighbors import KNeighborsClassifier\\nfrom sklearn.naive_bayes import GaussianNB\\nfrom sklearn.ensemble import RandomForestClassifier\\n\\n#model = KNeighborsClassifier(metric='euclidean')\\n#model = GaussianNB()\\n\\nmodel = RandomForestClassifier()\\n\\nprint('Fitting ...')\\nmodel.fit(XTrain, YTrain)\\n\""
      ]
     },
     "execution_count": 15,
     "metadata": {},
     "output_type": "execute_result"
    }
   ],
   "source": [
    "'''\n",
    "from sklearn.neighbors import KNeighborsClassifier\n",
    "from sklearn.naive_bayes import GaussianNB\n",
    "from sklearn.ensemble import RandomForestClassifier\n",
    "\n",
    "#model = KNeighborsClassifier(metric='euclidean')\n",
    "#model = GaussianNB()\n",
    "\n",
    "model = RandomForestClassifier()\n",
    "\n",
    "print('Fitting ...')\n",
    "model.fit(XTrain, YTrain)\n",
    "'''"
   ]
  },
  {
   "cell_type": "code",
   "execution_count": 16,
   "metadata": {
    "_uuid": "885a7962236448f9f449bb1796fce93ab93c856b"
   },
   "outputs": [],
   "source": [
    "PREDICT = True\n",
    "if PREDICT:\n",
    "    import pandas as pd\n",
    "    test_dmat = xgb.DMatrix(test_x)\n",
    "    res = model.predict(test_dmat)\n",
    "    #res.shape\n",
    "    submission = pd.DataFrame(res, columns=['ARSON','ASSAULT','BAD CHECKS','BRIBERY','BURGLARY','DISORDERLY CONDUCT','DRIVING UNDER THE INFLUENCE',\n",
    "         'DRUG/NARCOTIC','DRUNKENNESS','EMBEZZLEMENT','EXTORTION','FAMILY OFFENSES','FORGERY/COUNTERFEITING','FRAUD','GAMBLING','KIDNAPPING',\n",
    "         'LARCENY/THEFT','LIQUOR LAWS','LOITERING','MISSING PERSON','NON-CRIMINAL','OTHER OFFENSES','PORNOGRAPHY/OBSCENE MAT','PROSTITUTION',\n",
    "         'RECOVERED VEHICLE','ROBBERY','RUNAWAY','SECONDARY CODES','SEX OFFENSES FORCIBLE','SEX OFFENSES NON FORCIBLE','STOLEN PROPERTY','SUICIDE','SUSPICIOUS OCC','TREA','TRESPASS','VANDALISM','VEHICLE THEFT','WARRANTS','WEAPON LAWS']\n",
    "    )\n",
    "    submission['Id']=test_ids\n",
    "    submission = submission[['Id','ARSON','ASSAULT','BAD CHECKS','BRIBERY','BURGLARY','DISORDERLY CONDUCT','DRIVING UNDER THE INFLUENCE',\n",
    "         'DRUG/NARCOTIC','DRUNKENNESS','EMBEZZLEMENT','EXTORTION','FAMILY OFFENSES','FORGERY/COUNTERFEITING','FRAUD','GAMBLING','KIDNAPPING',\n",
    "         'LARCENY/THEFT','LIQUOR LAWS','LOITERING','MISSING PERSON','NON-CRIMINAL','OTHER OFFENSES','PORNOGRAPHY/OBSCENE MAT','PROSTITUTION',\n",
    "         'RECOVERED VEHICLE','ROBBERY','RUNAWAY','SECONDARY CODES','SEX OFFENSES FORCIBLE','SEX OFFENSES NON FORCIBLE','STOLEN PROPERTY','SUICIDE','SUSPICIOUS OCC','TREA','TRESPASS','VANDALISM','VEHICLE THEFT','WARRANTS','WEAPON LAWS']]\n"
   ]
  },
  {
   "cell_type": "code",
   "execution_count": 17,
   "metadata": {
    "_uuid": "b04ad76e6c94143fb6a55056640061c9b26bda6f"
   },
   "outputs": [
    {
     "name": "stdout",
     "output_type": "stream",
     "text": [
      "Done Exporting !\n",
      "            Id     ARSON     ...       WARRANTS  WEAPON LAWS\n",
      "129207  129207  0.011213     ...       0.046576     0.015932\n",
      "544990  544990  0.009829     ...       0.024886     0.012054\n",
      "247361  247361  0.012018     ...       0.066964     0.015604\n",
      "\n",
      "[3 rows x 40 columns]\n"
     ]
    }
   ],
   "source": [
    "SUBMIT = True\n",
    "if SUBMIT:\n",
    "    submission.to_csv('submission.csv', index=False)\n",
    "    print('Done Exporting !')\n",
    "    print(submission.sample(3))"
   ]
  }
 ],
 "metadata": {
  "kernelspec": {
   "display_name": "Python 3",
   "language": "python",
   "name": "python3"
  },
  "language_info": {
   "codemirror_mode": {
    "name": "ipython",
    "version": 3
   },
   "file_extension": ".py",
   "mimetype": "text/x-python",
   "name": "python",
   "nbconvert_exporter": "python",
   "pygments_lexer": "ipython3",
   "version": "3.6.6"
  }
 },
 "nbformat": 4,
 "nbformat_minor": 1
}
