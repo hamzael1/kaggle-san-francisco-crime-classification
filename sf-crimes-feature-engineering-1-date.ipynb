{
 "cells": [
  {
   "cell_type": "code",
   "execution_count": 1,
   "metadata": {
    "ExecuteTime": {
     "end_time": "2019-02-12T12:31:22.635495Z",
     "start_time": "2019-02-12T12:31:20.599726Z"
    },
    "collapsed": true
   },
   "outputs": [],
   "source": [
    "import numpy as np\n",
    "import pandas as pd\n",
    "%matplotlib inline"
   ]
  },
  {
   "cell_type": "markdown",
   "metadata": {},
   "source": [
    "### Import the train Dataset:\n",
    "- We Import the Dataset and take a quick look at 3 random rows:"
   ]
  },
  {
   "cell_type": "code",
   "execution_count": 2,
   "metadata": {
    "ExecuteTime": {
     "end_time": "2019-02-12T12:31:25.407008Z",
     "start_time": "2019-02-12T12:31:22.637721Z"
    }
   },
   "outputs": [
    {
     "data": {
      "text/html": [
       "<div>\n",
       "<style>\n",
       "    .dataframe thead tr:only-child th {\n",
       "        text-align: right;\n",
       "    }\n",
       "\n",
       "    .dataframe thead th {\n",
       "        text-align: left;\n",
       "    }\n",
       "\n",
       "    .dataframe tbody tr th {\n",
       "        vertical-align: top;\n",
       "    }\n",
       "</style>\n",
       "<table border=\"1\" class=\"dataframe\">\n",
       "  <thead>\n",
       "    <tr style=\"text-align: right;\">\n",
       "      <th></th>\n",
       "      <th>Dates</th>\n",
       "      <th>Category</th>\n",
       "      <th>Descript</th>\n",
       "      <th>DayOfWeek</th>\n",
       "      <th>PdDistrict</th>\n",
       "      <th>Resolution</th>\n",
       "      <th>Address</th>\n",
       "      <th>X</th>\n",
       "      <th>Y</th>\n",
       "    </tr>\n",
       "  </thead>\n",
       "  <tbody>\n",
       "    <tr>\n",
       "      <th>243371</th>\n",
       "      <td>2012-02-06 20:00:00</td>\n",
       "      <td>NON-CRIMINAL</td>\n",
       "      <td>DEATH REPORT, CAUSE UNKNOWN</td>\n",
       "      <td>Monday</td>\n",
       "      <td>NORTHERN</td>\n",
       "      <td>NONE</td>\n",
       "      <td>800 Block of MCALLISTER ST</td>\n",
       "      <td>-122.425211</td>\n",
       "      <td>37.779518</td>\n",
       "    </tr>\n",
       "    <tr>\n",
       "      <th>102303</th>\n",
       "      <td>2014-01-06 07:00:00</td>\n",
       "      <td>LARCENY/THEFT</td>\n",
       "      <td>PETTY THEFT OF PROPERTY</td>\n",
       "      <td>Monday</td>\n",
       "      <td>SOUTHERN</td>\n",
       "      <td>NONE</td>\n",
       "      <td>800 Block of BRYANT ST</td>\n",
       "      <td>-122.403405</td>\n",
       "      <td>37.775421</td>\n",
       "    </tr>\n",
       "    <tr>\n",
       "      <th>845015</th>\n",
       "      <td>2003-06-11 07:00:00</td>\n",
       "      <td>SUSPICIOUS OCC</td>\n",
       "      <td>SUSPICIOUS OCCURRENCE</td>\n",
       "      <td>Wednesday</td>\n",
       "      <td>PARK</td>\n",
       "      <td>NONE</td>\n",
       "      <td>4600 Block of 17TH ST</td>\n",
       "      <td>-122.447296</td>\n",
       "      <td>37.761808</td>\n",
       "    </tr>\n",
       "    <tr>\n",
       "      <th>9952</th>\n",
       "      <td>2015-03-22 10:00:00</td>\n",
       "      <td>VEHICLE THEFT</td>\n",
       "      <td>STOLEN AUTOMOBILE</td>\n",
       "      <td>Sunday</td>\n",
       "      <td>INGLESIDE</td>\n",
       "      <td>NONE</td>\n",
       "      <td>300 Block of LONDON ST</td>\n",
       "      <td>-122.434573</td>\n",
       "      <td>37.723497</td>\n",
       "    </tr>\n",
       "    <tr>\n",
       "      <th>531321</th>\n",
       "      <td>2007-11-13 18:10:00</td>\n",
       "      <td>LARCENY/THEFT</td>\n",
       "      <td>GRAND THEFT FROM LOCKED AUTO</td>\n",
       "      <td>Tuesday</td>\n",
       "      <td>CENTRAL</td>\n",
       "      <td>NONE</td>\n",
       "      <td>POLK ST / BAY ST</td>\n",
       "      <td>-122.423468</td>\n",
       "      <td>37.804354</td>\n",
       "    </tr>\n",
       "  </tbody>\n",
       "</table>\n",
       "</div>"
      ],
      "text/plain": [
       "                      Dates        Category                      Descript  \\\n",
       "243371  2012-02-06 20:00:00    NON-CRIMINAL   DEATH REPORT, CAUSE UNKNOWN   \n",
       "102303  2014-01-06 07:00:00   LARCENY/THEFT       PETTY THEFT OF PROPERTY   \n",
       "845015  2003-06-11 07:00:00  SUSPICIOUS OCC         SUSPICIOUS OCCURRENCE   \n",
       "9952    2015-03-22 10:00:00   VEHICLE THEFT             STOLEN AUTOMOBILE   \n",
       "531321  2007-11-13 18:10:00   LARCENY/THEFT  GRAND THEFT FROM LOCKED AUTO   \n",
       "\n",
       "        DayOfWeek PdDistrict Resolution                     Address  \\\n",
       "243371     Monday   NORTHERN       NONE  800 Block of MCALLISTER ST   \n",
       "102303     Monday   SOUTHERN       NONE      800 Block of BRYANT ST   \n",
       "845015  Wednesday       PARK       NONE       4600 Block of 17TH ST   \n",
       "9952       Sunday  INGLESIDE       NONE      300 Block of LONDON ST   \n",
       "531321    Tuesday    CENTRAL       NONE            POLK ST / BAY ST   \n",
       "\n",
       "                 X          Y  \n",
       "243371 -122.425211  37.779518  \n",
       "102303 -122.403405  37.775421  \n",
       "845015 -122.447296  37.761808  \n",
       "9952   -122.434573  37.723497  \n",
       "531321 -122.423468  37.804354  "
      ]
     },
     "execution_count": 2,
     "metadata": {},
     "output_type": "execute_result"
    }
   ],
   "source": [
    "train_df = pd.read_csv('data/train.csv')\n",
    "train_df.sample(5)"
   ]
  },
  {
   "cell_type": "markdown",
   "metadata": {},
   "source": [
    "- Next we check the columns and their types:"
   ]
  },
  {
   "cell_type": "code",
   "execution_count": 3,
   "metadata": {
    "ExecuteTime": {
     "end_time": "2019-02-12T12:31:25.968698Z",
     "start_time": "2019-02-12T12:31:25.411536Z"
    }
   },
   "outputs": [
    {
     "name": "stdout",
     "output_type": "stream",
     "text": [
      "<class 'pandas.core.frame.DataFrame'>\n",
      "RangeIndex: 878049 entries, 0 to 878048\n",
      "Data columns (total 9 columns):\n",
      "Dates         878049 non-null object\n",
      "Category      878049 non-null object\n",
      "Descript      878049 non-null object\n",
      "DayOfWeek     878049 non-null object\n",
      "PdDistrict    878049 non-null object\n",
      "Resolution    878049 non-null object\n",
      "Address       878049 non-null object\n",
      "X             878049 non-null float64\n",
      "Y             878049 non-null float64\n",
      "dtypes: float64(2), object(7)\n",
      "memory usage: 60.3+ MB\n"
     ]
    }
   ],
   "source": [
    "train_df.info()"
   ]
  },
  {
   "cell_type": "markdown",
   "metadata": {},
   "source": [
    "Observations:\n",
    "- The Dataset contains 878049 Observations of 9 Features\n",
    "- the 'Dates' column is a String ( also it's plural >_> )\n",
    "- We have Categorical Features: Category, DayOfWeek, PdDistrict, Resolution\n",
    "- We have Geospatial Information: 'X' (Longitude) and 'Y' (Latitude)\n",
    "- The 'Address' Column has some kind of structure"
   ]
  },
  {
   "cell_type": "markdown",
   "metadata": {},
   "source": [
    "## The 'Dates' Column:"
   ]
  },
  {
   "cell_type": "markdown",
   "metadata": {},
   "source": [
    "### Data Cleaning & Feature Engineering:"
   ]
  },
  {
   "cell_type": "markdown",
   "metadata": {},
   "source": [
    "#### Check for missing values"
   ]
  },
  {
   "cell_type": "code",
   "execution_count": 4,
   "metadata": {
    "ExecuteTime": {
     "end_time": "2019-02-12T12:31:26.054574Z",
     "start_time": "2019-02-12T12:31:25.974902Z"
    }
   },
   "outputs": [
    {
     "data": {
      "text/plain": [
       "False"
      ]
     },
     "execution_count": 4,
     "metadata": {},
     "output_type": "execute_result"
    }
   ],
   "source": [
    "train_df.Dates.isnull().any()"
   ]
  },
  {
   "cell_type": "markdown",
   "metadata": {},
   "source": [
    "#### Check for typos by making sure that all values match a Regular Expression"
   ]
  },
  {
   "cell_type": "code",
   "execution_count": 5,
   "metadata": {
    "ExecuteTime": {
     "end_time": "2019-02-12T12:31:27.164116Z",
     "start_time": "2019-02-12T12:31:26.058841Z"
    }
   },
   "outputs": [
    {
     "data": {
      "text/plain": [
       "True"
      ]
     },
     "execution_count": 5,
     "metadata": {},
     "output_type": "execute_result"
    }
   ],
   "source": [
    "train_df.Dates.str.match('\\d\\d\\d\\d-\\d\\d-\\d\\d').all()"
   ]
  },
  {
   "cell_type": "markdown",
   "metadata": {},
   "source": [
    "#### First, let's rename the Column (all column names are singular except this one!)"
   ]
  },
  {
   "cell_type": "code",
   "execution_count": 6,
   "metadata": {
    "ExecuteTime": {
     "end_time": "2019-02-12T12:31:27.323609Z",
     "start_time": "2019-02-12T12:31:27.166434Z"
    }
   },
   "outputs": [
    {
     "data": {
      "text/plain": [
       "Index(['DateTime', 'Category', 'Descript', 'DayOfWeek', 'PdDistrict',\n",
       "       'Resolution', 'Address', 'X', 'Y'],\n",
       "      dtype='object')"
      ]
     },
     "execution_count": 6,
     "metadata": {},
     "output_type": "execute_result"
    }
   ],
   "source": [
    "train_df.rename(columns={'Dates': 'DateTime'}, inplace=True)\n",
    "train_df.columns"
   ]
  },
  {
   "cell_type": "markdown",
   "metadata": {},
   "source": [
    "#### Now Let's parse the dates from String to Datetime"
   ]
  },
  {
   "cell_type": "code",
   "execution_count": 7,
   "metadata": {
    "ExecuteTime": {
     "end_time": "2019-02-12T12:31:28.217960Z",
     "start_time": "2019-02-12T12:31:27.327714Z"
    }
   },
   "outputs": [
    {
     "name": "stdout",
     "output_type": "stream",
     "text": [
      "<class 'pandas.core.frame.DataFrame'>\n",
      "RangeIndex: 878049 entries, 0 to 878048\n",
      "Data columns (total 9 columns):\n",
      "DateTime      878049 non-null datetime64[ns]\n",
      "Category      878049 non-null object\n",
      "Descript      878049 non-null object\n",
      "DayOfWeek     878049 non-null object\n",
      "PdDistrict    878049 non-null object\n",
      "Resolution    878049 non-null object\n",
      "Address       878049 non-null object\n",
      "X             878049 non-null float64\n",
      "Y             878049 non-null float64\n",
      "dtypes: datetime64[ns](1), float64(2), object(6)\n",
      "memory usage: 60.3+ MB\n"
     ]
    }
   ],
   "source": [
    "train_df.DateTime = pd.to_datetime(train_df.DateTime)\n",
    "train_df.info()"
   ]
  },
  {
   "cell_type": "markdown",
   "metadata": {},
   "source": [
    "#### Create separate columns for 'Year', 'Month', 'Hour'"
   ]
  },
  {
   "cell_type": "code",
   "execution_count": 8,
   "metadata": {
    "ExecuteTime": {
     "end_time": "2019-02-12T12:31:28.406918Z",
     "start_time": "2019-02-12T12:31:28.221314Z"
    }
   },
   "outputs": [
    {
     "data": {
      "text/plain": [
       "669659    2005\n",
       "532358    2007\n",
       "738241    2004\n",
       "Name: Year, dtype: int64"
      ]
     },
     "execution_count": 8,
     "metadata": {},
     "output_type": "execute_result"
    }
   ],
   "source": [
    "train_df['Year'] = train_df.DateTime.dt.year\n",
    "train_df['Year'].sample(3)"
   ]
  },
  {
   "cell_type": "code",
   "execution_count": 9,
   "metadata": {
    "ExecuteTime": {
     "end_time": "2019-02-12T12:31:28.594955Z",
     "start_time": "2019-02-12T12:31:28.410733Z"
    }
   },
   "outputs": [
    {
     "data": {
      "text/plain": [
       "447012    1\n",
       "449515    1\n",
       "220558    6\n",
       "Name: Month, dtype: int64"
      ]
     },
     "execution_count": 9,
     "metadata": {},
     "output_type": "execute_result"
    }
   ],
   "source": [
    "train_df['Month'] = train_df.DateTime.dt.month\n",
    "train_df['Month'].sample(3)"
   ]
  },
  {
   "cell_type": "code",
   "execution_count": 10,
   "metadata": {
    "ExecuteTime": {
     "end_time": "2019-02-12T12:31:28.822253Z",
     "start_time": "2019-02-12T12:31:28.597358Z"
    }
   },
   "outputs": [
    {
     "data": {
      "text/plain": [
       "222462    15\n",
       "238533    11\n",
       "160114    12\n",
       "Name: Hour, dtype: int64"
      ]
     },
     "execution_count": 10,
     "metadata": {},
     "output_type": "execute_result"
    }
   ],
   "source": [
    "train_df['Hour'] = train_df.DateTime.dt.hour\n",
    "train_df['Hour'].sample(3)"
   ]
  },
  {
   "cell_type": "code",
   "execution_count": 11,
   "metadata": {
    "ExecuteTime": {
     "end_time": "2019-02-12T12:31:29.463566Z",
     "start_time": "2019-02-12T12:31:28.825633Z"
    }
   },
   "outputs": [
    {
     "name": "stdout",
     "output_type": "stream",
     "text": [
      "<class 'pandas.core.frame.DataFrame'>\n",
      "RangeIndex: 878049 entries, 0 to 878048\n",
      "Data columns (total 12 columns):\n",
      "DateTime      878049 non-null datetime64[ns]\n",
      "Category      878049 non-null object\n",
      "Descript      878049 non-null object\n",
      "DayOfWeek     878049 non-null object\n",
      "PdDistrict    878049 non-null object\n",
      "Resolution    878049 non-null object\n",
      "Address       878049 non-null object\n",
      "X             878049 non-null float64\n",
      "Y             878049 non-null float64\n",
      "Year          878049 non-null int64\n",
      "Month         878049 non-null int64\n",
      "Hour          878049 non-null int64\n",
      "dtypes: datetime64[ns](1), float64(2), int64(3), object(6)\n",
      "memory usage: 80.4+ MB\n"
     ]
    }
   ],
   "source": [
    "train_df.info()"
   ]
  },
  {
   "cell_type": "markdown",
   "metadata": {},
   "source": [
    "#### Let's Check the range of Dates:"
   ]
  },
  {
   "cell_type": "code",
   "execution_count": 12,
   "metadata": {
    "ExecuteTime": {
     "end_time": "2019-02-12T12:31:29.500545Z",
     "start_time": "2019-02-12T12:31:29.466033Z"
    }
   },
   "outputs": [
    {
     "data": {
      "text/plain": [
       "(Timestamp('2003-01-06 00:01:00'), Timestamp('2015-05-13 23:53:00'))"
      ]
     },
     "execution_count": 12,
     "metadata": {},
     "output_type": "execute_result"
    }
   ],
   "source": [
    "train_df.DateTime.min(), train_df.DateTime.max()"
   ]
  },
  {
   "cell_type": "markdown",
   "metadata": {},
   "source": [
    "#### Let's visualize the change in the number of crimes for each year:"
   ]
  },
  {
   "cell_type": "code",
   "execution_count": 13,
   "metadata": {
    "ExecuteTime": {
     "end_time": "2019-02-12T12:31:29.639019Z",
     "start_time": "2019-02-12T12:31:29.507664Z"
    }
   },
   "outputs": [
    {
     "data": {
      "text/plain": [
       "Year\n",
       "2003    73902\n",
       "2004    73422\n",
       "2005    70779\n",
       "2006    69909\n",
       "2007    68015\n",
       "2008    70174\n",
       "2009    69000\n",
       "2010    66542\n",
       "2011    66619\n",
       "2012    71731\n",
       "2013    75606\n",
       "2014    74766\n",
       "2015    27584\n",
       "Name: Descript, dtype: int64"
      ]
     },
     "execution_count": 13,
     "metadata": {},
     "output_type": "execute_result"
    }
   ],
   "source": [
    "gb = train_df.groupby('Year')['Descript'].count()\n",
    "gb"
   ]
  },
  {
   "cell_type": "code",
   "execution_count": 14,
   "metadata": {
    "ExecuteTime": {
     "end_time": "2019-02-12T12:31:30.062831Z",
     "start_time": "2019-02-12T12:31:29.642581Z"
    }
   },
   "outputs": [
    {
     "data": {
      "text/plain": [
       "<matplotlib.text.Text at 0x123348ac8>"
      ]
     },
     "execution_count": 14,
     "metadata": {},
     "output_type": "execute_result"
    },
    {
     "data": {
      "image/png": "[encoded data removed]",
      "text/plain": [
       "<matplotlib.figure.Figure at 0x126abeeb8>"
      ]
     },
     "metadata": {},
     "output_type": "display_data"
    }
   ],
   "source": [
    "ax = gb.plot(kind='line', xticks=gb.index.values)\n",
    "ax.set_ylabel('Count of Crimes')"
   ]
  },
  {
   "cell_type": "markdown",
   "metadata": {},
   "source": [
    "## Output to CSV"
   ]
  },
  {
   "cell_type": "code",
   "execution_count": 15,
   "metadata": {
    "ExecuteTime": {
     "end_time": "2019-02-12T12:34:44.712028Z",
     "start_time": "2019-02-12T12:34:30.545008Z"
    }
   },
   "outputs": [
    {
     "name": "stdout",
     "output_type": "stream",
     "text": [
      "Done Outputing\n"
     ]
    }
   ],
   "source": [
    "train_df.to_csv('data/train_clean_1.csv',index=False)\n",
    "print('Done Outputing')"
   ]
  },
  {
   "cell_type": "code",
   "execution_count": null,
   "metadata": {
    "collapsed": true
   },
   "outputs": [],
   "source": []
  }
 ],
 "metadata": {
  "kernelspec": {
   "display_name": "Python 3",
   "language": "python",
   "name": "python3"
  },
  "language_info": {
   "codemirror_mode": {
    "name": "ipython",
    "version": 3
   },
   "file_extension": ".py",
   "mimetype": "text/x-python",
   "name": "python",
   "nbconvert_exporter": "python",
   "pygments_lexer": "ipython3",
   "version": "3.6.1"
  }
 },
 "nbformat": 4,
 "nbformat_minor": 2
}
