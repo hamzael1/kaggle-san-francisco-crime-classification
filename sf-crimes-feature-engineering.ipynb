{
 "cells": [
  {
   "cell_type": "code",
   "execution_count": 1,
   "metadata": {
    "ExecuteTime": {
     "end_time": "2019-02-14T18:29:43.440230Z",
     "start_time": "2019-02-14T18:29:40.884961Z"
    },
    "_uuid": "e9499c42b08a20635241b8201ac563e82b7a4202",
    "collapsed": true
   },
   "outputs": [],
   "source": [
    "import pandas as pd\n",
    "import numpy as np\n",
    "from sklearn.preprocessing import LabelEncoder\n"
   ]
  },
  {
   "cell_type": "code",
   "execution_count": 2,
   "metadata": {
    "_uuid": "351c8ec3824b99f1c276ed7ad1036731fb74fddf",
    "collapsed": true
   },
   "outputs": [],
   "source": [
    "train_df = pd.read_csv('../input/train.csv', parse_dates=['Dates'])"
   ]
  },
  {
   "cell_type": "code",
   "execution_count": 3,
   "metadata": {
    "ExecuteTime": {
     "end_time": "2019-02-14T18:29:48.849428Z",
     "start_time": "2019-02-14T18:29:43.444367Z"
    },
    "_uuid": "aa957e93f5577c25e38724fd99177211408a0fea",
    "collapsed": true
   },
   "outputs": [],
   "source": [
    "test_df = pd.read_csv('../input/test.csv', parse_dates=['Dates'])"
   ]
  },
  {
   "cell_type": "code",
   "execution_count": 4,
   "metadata": {
    "ExecuteTime": {
     "end_time": "2019-02-14T18:29:48.965094Z",
     "start_time": "2019-02-14T18:29:48.852015Z"
    },
    "_uuid": "514b03e8299e70eec4079b2d1a52edd86ce718b5"
   },
   "outputs": [
    {
     "data": {
      "text/html": [
       "<div>\n",
       "<style scoped>\n",
       "    .dataframe tbody tr th:only-of-type {\n",
       "        vertical-align: middle;\n",
       "    }\n",
       "\n",
       "    .dataframe tbody tr th {\n",
       "        vertical-align: top;\n",
       "    }\n",
       "\n",
       "    .dataframe thead th {\n",
       "        text-align: right;\n",
       "    }\n",
       "</style>\n",
       "<table border=\"1\" class=\"dataframe\">\n",
       "  <thead>\n",
       "    <tr style=\"text-align: right;\">\n",
       "      <th></th>\n",
       "      <th>Dates</th>\n",
       "      <th>Category</th>\n",
       "      <th>Descript</th>\n",
       "      <th>DayOfWeek</th>\n",
       "      <th>PdDistrict</th>\n",
       "      <th>Resolution</th>\n",
       "      <th>Address</th>\n",
       "      <th>X</th>\n",
       "      <th>Y</th>\n",
       "    </tr>\n",
       "  </thead>\n",
       "  <tbody>\n",
       "    <tr>\n",
       "      <th>263249</th>\n",
       "      <td>2011-10-20 21:50:00</td>\n",
       "      <td>OTHER OFFENSES</td>\n",
       "      <td>DRIVERS LICENSE, SUSPENDED OR REVOKED</td>\n",
       "      <td>Thursday</td>\n",
       "      <td>TENDERLOIN</td>\n",
       "      <td>ARREST, BOOKED</td>\n",
       "      <td>TURK ST / TAYLOR ST</td>\n",
       "      <td>-122.410769</td>\n",
       "      <td>37.783215</td>\n",
       "    </tr>\n",
       "    <tr>\n",
       "      <th>508101</th>\n",
       "      <td>2008-03-18 08:15:00</td>\n",
       "      <td>LARCENY/THEFT</td>\n",
       "      <td>GRAND THEFT FROM LOCKED AUTO</td>\n",
       "      <td>Tuesday</td>\n",
       "      <td>TARAVAL</td>\n",
       "      <td>NONE</td>\n",
       "      <td>RIVERA ST / 37TH AV</td>\n",
       "      <td>-122.495239</td>\n",
       "      <td>37.745926</td>\n",
       "    </tr>\n",
       "    <tr>\n",
       "      <th>307277</th>\n",
       "      <td>2011-02-21 23:30:00</td>\n",
       "      <td>ASSAULT</td>\n",
       "      <td>BATTERY, FORMER SPOUSE OR DATING RELATIONSHIP</td>\n",
       "      <td>Monday</td>\n",
       "      <td>TARAVAL</td>\n",
       "      <td>ARREST, BOOKED</td>\n",
       "      <td>1600 Block of IRVING ST</td>\n",
       "      <td>-122.475526</td>\n",
       "      <td>37.763577</td>\n",
       "    </tr>\n",
       "  </tbody>\n",
       "</table>\n",
       "</div>"
      ],
      "text/plain": [
       "                     Dates        Category    ...               X          Y\n",
       "263249 2011-10-20 21:50:00  OTHER OFFENSES    ...     -122.410769  37.783215\n",
       "508101 2008-03-18 08:15:00   LARCENY/THEFT    ...     -122.495239  37.745926\n",
       "307277 2011-02-21 23:30:00         ASSAULT    ...     -122.475526  37.763577\n",
       "\n",
       "[3 rows x 9 columns]"
      ]
     },
     "execution_count": 4,
     "metadata": {},
     "output_type": "execute_result"
    }
   ],
   "source": [
    "train_df.sample(3)"
   ]
  },
  {
   "cell_type": "code",
   "execution_count": 5,
   "metadata": {
    "ExecuteTime": {
     "end_time": "2019-02-14T18:29:49.061792Z",
     "start_time": "2019-02-14T18:29:48.968761Z"
    },
    "_uuid": "ec8732b40bd80438e821045e02aba666455751a1"
   },
   "outputs": [
    {
     "data": {
      "text/html": [
       "<div>\n",
       "<style scoped>\n",
       "    .dataframe tbody tr th:only-of-type {\n",
       "        vertical-align: middle;\n",
       "    }\n",
       "\n",
       "    .dataframe tbody tr th {\n",
       "        vertical-align: top;\n",
       "    }\n",
       "\n",
       "    .dataframe thead th {\n",
       "        text-align: right;\n",
       "    }\n",
       "</style>\n",
       "<table border=\"1\" class=\"dataframe\">\n",
       "  <thead>\n",
       "    <tr style=\"text-align: right;\">\n",
       "      <th></th>\n",
       "      <th>Id</th>\n",
       "      <th>Dates</th>\n",
       "      <th>DayOfWeek</th>\n",
       "      <th>PdDistrict</th>\n",
       "      <th>Address</th>\n",
       "      <th>X</th>\n",
       "      <th>Y</th>\n",
       "    </tr>\n",
       "  </thead>\n",
       "  <tbody>\n",
       "    <tr>\n",
       "      <th>153614</th>\n",
       "      <td>153614</td>\n",
       "      <td>2013-05-09 10:50:00</td>\n",
       "      <td>Thursday</td>\n",
       "      <td>BAYVIEW</td>\n",
       "      <td>3900 Block of 3RD ST</td>\n",
       "      <td>-122.388476</td>\n",
       "      <td>37.741522</td>\n",
       "    </tr>\n",
       "    <tr>\n",
       "      <th>485970</th>\n",
       "      <td>485970</td>\n",
       "      <td>2008-07-19 12:07:00</td>\n",
       "      <td>Saturday</td>\n",
       "      <td>TENDERLOIN</td>\n",
       "      <td>LARKIN ST / GROVE ST</td>\n",
       "      <td>-122.416583</td>\n",
       "      <td>37.778659</td>\n",
       "    </tr>\n",
       "    <tr>\n",
       "      <th>221240</th>\n",
       "      <td>221240</td>\n",
       "      <td>2012-06-06 11:00:00</td>\n",
       "      <td>Wednesday</td>\n",
       "      <td>MISSION</td>\n",
       "      <td>500 Block of CASTRO ST</td>\n",
       "      <td>-122.434995</td>\n",
       "      <td>37.760070</td>\n",
       "    </tr>\n",
       "  </tbody>\n",
       "</table>\n",
       "</div>"
      ],
      "text/plain": [
       "            Id               Dates    ...               X          Y\n",
       "153614  153614 2013-05-09 10:50:00    ...     -122.388476  37.741522\n",
       "485970  485970 2008-07-19 12:07:00    ...     -122.416583  37.778659\n",
       "221240  221240 2012-06-06 11:00:00    ...     -122.434995  37.760070\n",
       "\n",
       "[3 rows x 7 columns]"
      ]
     },
     "execution_count": 5,
     "metadata": {},
     "output_type": "execute_result"
    }
   ],
   "source": [
    "test_df.sample(3)"
   ]
  },
  {
   "cell_type": "code",
   "execution_count": 6,
   "metadata": {
    "ExecuteTime": {
     "end_time": "2019-02-14T18:29:49.083838Z",
     "start_time": "2019-02-14T18:29:49.065529Z"
    },
    "_uuid": "4d2f778b15562d62dcd2215fe4b2aaa209b46715",
    "collapsed": true
   },
   "outputs": [],
   "source": [
    "def engineer_dates_col(df):\n",
    "    dates_col   = df['Dates']\n",
    "    dates_col   = pd.to_datetime(dates_col)\n",
    "    df['Year']  = dates_col.dt.year\n",
    "    df['Year'] = df['Year'] - 2000\n",
    "    df['Month'] = dates_col.dt.month\n",
    "    df['Hour'] = dates_col.dt.hour\n",
    "    df['IsDay'] = dates_col.dt.hour.apply(lambda h: 1 if (h > 6 and h < 20) else 0)\n",
    "    df['HourSin'] = np.sin((df['Hour']*2*np.pi)/24)\n",
    "    df['HourCos'] = np.cos((df['Hour']*2*np.pi)/24)\n",
    "    df['MonthSin'] = np.sin((df['Month']*2*np.pi)/12)\n",
    "    df['MonthCos'] = np.cos((df['Month']*2*np.pi)/12)\n",
    "    return df"
   ]
  },
  {
   "cell_type": "code",
   "execution_count": 7,
   "metadata": {
    "ExecuteTime": {
     "end_time": "2019-02-14T18:29:49.100933Z",
     "start_time": "2019-02-14T18:29:49.086803Z"
    },
    "_uuid": "0d5090c278b27ff5fc9e45191f9e1fedfc957a3c",
    "collapsed": true
   },
   "outputs": [],
   "source": [
    "def engineer_dayofweek_col(df):\n",
    "    days_int = df['DayOfWeek'].map({\n",
    "        'Monday': 1,\n",
    "        'Tuesday': 2,\n",
    "        'Wednesday': 3,\n",
    "        'Thursday': 4,\n",
    "        'Friday': 5,\n",
    "        'Saturday': 6,\n",
    "        'Sunday': 7,\n",
    "    })\n",
    "    df['DayOfWeekSin']= np.sin((days_int*2*np.pi)/7)\n",
    "    df['DayOfWeekCos']= np.cos((days_int*2*np.pi)/7)\n",
    "    return df"
   ]
  },
  {
   "cell_type": "code",
   "execution_count": 8,
   "metadata": {
    "ExecuteTime": {
     "end_time": "2019-02-14T18:29:49.111407Z",
     "start_time": "2019-02-14T18:29:49.105010Z"
    },
    "_uuid": "3a5ae1f3222b63f234dc79b04c56c0ff3e8741ec",
    "collapsed": true
   },
   "outputs": [],
   "source": [
    "def engineer_category_col(df):\n",
    "    le = LabelEncoder()\n",
    "    df['Category'] = pd.Series(le.fit_transform(df['Category']))\n",
    "    return df"
   ]
  },
  {
   "cell_type": "code",
   "execution_count": 9,
   "metadata": {
    "ExecuteTime": {
     "end_time": "2019-02-14T18:29:49.123005Z",
     "start_time": "2019-02-14T18:29:49.115283Z"
    },
    "_uuid": "b5cefa384a0453f3c7b5aa6b2a276e7a49828df0",
    "collapsed": true
   },
   "outputs": [],
   "source": [
    "def engineer_pddistrict_col(df):\n",
    "    #le = LabelEncoder()\n",
    "    #df['PdDistrict'] = pd.Series(le.fit_transform(df['PdDistrict']))\n",
    "    return pd.get_dummies(df, columns=['PdDistrict'])"
   ]
  },
  {
   "cell_type": "code",
   "execution_count": 10,
   "metadata": {
    "ExecuteTime": {
     "end_time": "2019-02-14T18:29:49.137044Z",
     "start_time": "2019-02-14T18:29:49.127584Z"
    },
    "_uuid": "6d29cefd8177a9dd083d11721390329953db29a8",
    "collapsed": true
   },
   "outputs": [],
   "source": [
    "def engineer_all_cols(df, encode_category=False):\n",
    "    df = engineer_dates_col(df)\n",
    "    df = engineer_dayofweek_col(df)\n",
    "    df = engineer_pddistrict_col(df)\n",
    "    if encode_category:\n",
    "        df = engineer_category_col(df)\n",
    "    return df"
   ]
  },
  {
   "cell_type": "code",
   "execution_count": 11,
   "metadata": {
    "ExecuteTime": {
     "end_time": "2019-02-14T18:29:55.072642Z",
     "start_time": "2019-02-14T18:29:49.142115Z"
    },
    "_uuid": "5a95ab3ae44f78c1844e86da872f4cfa5ce331a5",
    "collapsed": true
   },
   "outputs": [],
   "source": [
    "train_df = engineer_all_cols(train_df, encode_category=True)\n",
    "test_df  = engineer_all_cols(test_df)"
   ]
  },
  {
   "cell_type": "code",
   "execution_count": 12,
   "metadata": {
    "ExecuteTime": {
     "end_time": "2019-02-14T18:29:55.648202Z",
     "start_time": "2019-02-14T18:29:55.075015Z"
    },
    "_uuid": "dadd5e12f289c5e29515b4f1ba77d055bab0174c"
   },
   "outputs": [
    {
     "data": {
      "text/html": [
       "<div>\n",
       "<style scoped>\n",
       "    .dataframe tbody tr th:only-of-type {\n",
       "        vertical-align: middle;\n",
       "    }\n",
       "\n",
       "    .dataframe tbody tr th {\n",
       "        vertical-align: top;\n",
       "    }\n",
       "\n",
       "    .dataframe thead th {\n",
       "        text-align: right;\n",
       "    }\n",
       "</style>\n",
       "<table border=\"1\" class=\"dataframe\">\n",
       "  <thead>\n",
       "    <tr style=\"text-align: right;\">\n",
       "      <th></th>\n",
       "      <th>Dates</th>\n",
       "      <th>Category</th>\n",
       "      <th>Descript</th>\n",
       "      <th>DayOfWeek</th>\n",
       "      <th>Resolution</th>\n",
       "      <th>Address</th>\n",
       "      <th>X</th>\n",
       "      <th>Y</th>\n",
       "      <th>Year</th>\n",
       "      <th>Month</th>\n",
       "      <th>Hour</th>\n",
       "      <th>IsDay</th>\n",
       "      <th>HourSin</th>\n",
       "      <th>HourCos</th>\n",
       "      <th>MonthSin</th>\n",
       "      <th>MonthCos</th>\n",
       "      <th>DayOfWeekSin</th>\n",
       "      <th>DayOfWeekCos</th>\n",
       "      <th>PdDistrict_BAYVIEW</th>\n",
       "      <th>PdDistrict_CENTRAL</th>\n",
       "      <th>PdDistrict_INGLESIDE</th>\n",
       "      <th>PdDistrict_MISSION</th>\n",
       "      <th>PdDistrict_NORTHERN</th>\n",
       "      <th>PdDistrict_PARK</th>\n",
       "      <th>PdDistrict_RICHMOND</th>\n",
       "      <th>PdDistrict_SOUTHERN</th>\n",
       "      <th>PdDistrict_TARAVAL</th>\n",
       "      <th>PdDistrict_TENDERLOIN</th>\n",
       "    </tr>\n",
       "  </thead>\n",
       "  <tbody>\n",
       "    <tr>\n",
       "      <th>866435</th>\n",
       "      <td>2003-02-23 16:00:00</td>\n",
       "      <td>4</td>\n",
       "      <td>BURGLARY OF HOTEL ROOM, FORCIBLE ENTRY</td>\n",
       "      <td>Sunday</td>\n",
       "      <td>NONE</td>\n",
       "      <td>0 Block of 6TH ST</td>\n",
       "      <td>-122.409420</td>\n",
       "      <td>37.781615</td>\n",
       "      <td>3</td>\n",
       "      <td>2</td>\n",
       "      <td>16</td>\n",
       "      <td>1</td>\n",
       "      <td>-0.866025</td>\n",
       "      <td>-0.500000</td>\n",
       "      <td>0.866025</td>\n",
       "      <td>0.500000</td>\n",
       "      <td>-2.449294e-16</td>\n",
       "      <td>1.000000</td>\n",
       "      <td>0</td>\n",
       "      <td>0</td>\n",
       "      <td>0</td>\n",
       "      <td>0</td>\n",
       "      <td>0</td>\n",
       "      <td>0</td>\n",
       "      <td>0</td>\n",
       "      <td>1</td>\n",
       "      <td>0</td>\n",
       "      <td>0</td>\n",
       "    </tr>\n",
       "    <tr>\n",
       "      <th>228486</th>\n",
       "      <td>2012-04-21 01:00:00</td>\n",
       "      <td>20</td>\n",
       "      <td>LOST PROPERTY</td>\n",
       "      <td>Saturday</td>\n",
       "      <td>NONE</td>\n",
       "      <td>300 Block of 11TH ST</td>\n",
       "      <td>-122.413189</td>\n",
       "      <td>37.771274</td>\n",
       "      <td>12</td>\n",
       "      <td>4</td>\n",
       "      <td>1</td>\n",
       "      <td>0</td>\n",
       "      <td>0.258819</td>\n",
       "      <td>0.965926</td>\n",
       "      <td>0.866025</td>\n",
       "      <td>-0.500000</td>\n",
       "      <td>-7.818315e-01</td>\n",
       "      <td>0.623490</td>\n",
       "      <td>0</td>\n",
       "      <td>0</td>\n",
       "      <td>0</td>\n",
       "      <td>0</td>\n",
       "      <td>0</td>\n",
       "      <td>0</td>\n",
       "      <td>0</td>\n",
       "      <td>1</td>\n",
       "      <td>0</td>\n",
       "      <td>0</td>\n",
       "    </tr>\n",
       "    <tr>\n",
       "      <th>707528</th>\n",
       "      <td>2005-05-05 10:54:00</td>\n",
       "      <td>20</td>\n",
       "      <td>AIDED CASE</td>\n",
       "      <td>Thursday</td>\n",
       "      <td>NONE</td>\n",
       "      <td>200 Block of SANMARCOS AV</td>\n",
       "      <td>-122.466395</td>\n",
       "      <td>37.746551</td>\n",
       "      <td>5</td>\n",
       "      <td>5</td>\n",
       "      <td>10</td>\n",
       "      <td>1</td>\n",
       "      <td>0.500000</td>\n",
       "      <td>-0.866025</td>\n",
       "      <td>0.500000</td>\n",
       "      <td>-0.866025</td>\n",
       "      <td>-4.338837e-01</td>\n",
       "      <td>-0.900969</td>\n",
       "      <td>0</td>\n",
       "      <td>0</td>\n",
       "      <td>0</td>\n",
       "      <td>0</td>\n",
       "      <td>0</td>\n",
       "      <td>0</td>\n",
       "      <td>0</td>\n",
       "      <td>0</td>\n",
       "      <td>1</td>\n",
       "      <td>0</td>\n",
       "    </tr>\n",
       "  </tbody>\n",
       "</table>\n",
       "</div>"
      ],
      "text/plain": [
       "                     Dates          ...            PdDistrict_TENDERLOIN\n",
       "866435 2003-02-23 16:00:00          ...                                0\n",
       "228486 2012-04-21 01:00:00          ...                                0\n",
       "707528 2005-05-05 10:54:00          ...                                0\n",
       "\n",
       "[3 rows x 28 columns]"
      ]
     },
     "execution_count": 12,
     "metadata": {},
     "output_type": "execute_result"
    }
   ],
   "source": [
    "train_df.sample(3)"
   ]
  },
  {
   "cell_type": "code",
   "execution_count": 13,
   "metadata": {
    "ExecuteTime": {
     "end_time": "2019-02-14T18:29:56.071314Z",
     "start_time": "2019-02-14T18:29:55.651907Z"
    },
    "_uuid": "46a01296dae646e05faa98b742d4b2e7c0e04073"
   },
   "outputs": [
    {
     "data": {
      "text/html": [
       "<div>\n",
       "<style scoped>\n",
       "    .dataframe tbody tr th:only-of-type {\n",
       "        vertical-align: middle;\n",
       "    }\n",
       "\n",
       "    .dataframe tbody tr th {\n",
       "        vertical-align: top;\n",
       "    }\n",
       "\n",
       "    .dataframe thead th {\n",
       "        text-align: right;\n",
       "    }\n",
       "</style>\n",
       "<table border=\"1\" class=\"dataframe\">\n",
       "  <thead>\n",
       "    <tr style=\"text-align: right;\">\n",
       "      <th></th>\n",
       "      <th>Id</th>\n",
       "      <th>Dates</th>\n",
       "      <th>DayOfWeek</th>\n",
       "      <th>Address</th>\n",
       "      <th>X</th>\n",
       "      <th>Y</th>\n",
       "      <th>Year</th>\n",
       "      <th>Month</th>\n",
       "      <th>Hour</th>\n",
       "      <th>IsDay</th>\n",
       "      <th>HourSin</th>\n",
       "      <th>HourCos</th>\n",
       "      <th>MonthSin</th>\n",
       "      <th>MonthCos</th>\n",
       "      <th>DayOfWeekSin</th>\n",
       "      <th>DayOfWeekCos</th>\n",
       "      <th>PdDistrict_BAYVIEW</th>\n",
       "      <th>PdDistrict_CENTRAL</th>\n",
       "      <th>PdDistrict_INGLESIDE</th>\n",
       "      <th>PdDistrict_MISSION</th>\n",
       "      <th>PdDistrict_NORTHERN</th>\n",
       "      <th>PdDistrict_PARK</th>\n",
       "      <th>PdDistrict_RICHMOND</th>\n",
       "      <th>PdDistrict_SOUTHERN</th>\n",
       "      <th>PdDistrict_TARAVAL</th>\n",
       "      <th>PdDistrict_TENDERLOIN</th>\n",
       "    </tr>\n",
       "  </thead>\n",
       "  <tbody>\n",
       "    <tr>\n",
       "      <th>103792</th>\n",
       "      <td>103792</td>\n",
       "      <td>2014-01-01 00:05:00</td>\n",
       "      <td>Wednesday</td>\n",
       "      <td>300 Block of POWELL ST</td>\n",
       "      <td>-122.408384</td>\n",
       "      <td>37.787827</td>\n",
       "      <td>14</td>\n",
       "      <td>1</td>\n",
       "      <td>0</td>\n",
       "      <td>0</td>\n",
       "      <td>0.000000</td>\n",
       "      <td>1.0</td>\n",
       "      <td>0.500000</td>\n",
       "      <td>8.660254e-01</td>\n",
       "      <td>0.433884</td>\n",
       "      <td>-0.900969</td>\n",
       "      <td>0</td>\n",
       "      <td>1</td>\n",
       "      <td>0</td>\n",
       "      <td>0</td>\n",
       "      <td>0</td>\n",
       "      <td>0</td>\n",
       "      <td>0</td>\n",
       "      <td>0</td>\n",
       "      <td>0</td>\n",
       "      <td>0</td>\n",
       "    </tr>\n",
       "    <tr>\n",
       "      <th>86717</th>\n",
       "      <td>86717</td>\n",
       "      <td>2014-03-25 08:00:00</td>\n",
       "      <td>Tuesday</td>\n",
       "      <td>WILDWOOD WY / EASTWOOD DR</td>\n",
       "      <td>-122.457380</td>\n",
       "      <td>37.727588</td>\n",
       "      <td>14</td>\n",
       "      <td>3</td>\n",
       "      <td>8</td>\n",
       "      <td>1</td>\n",
       "      <td>0.866025</td>\n",
       "      <td>-0.5</td>\n",
       "      <td>1.000000</td>\n",
       "      <td>6.123234e-17</td>\n",
       "      <td>0.974928</td>\n",
       "      <td>-0.222521</td>\n",
       "      <td>0</td>\n",
       "      <td>0</td>\n",
       "      <td>1</td>\n",
       "      <td>0</td>\n",
       "      <td>0</td>\n",
       "      <td>0</td>\n",
       "      <td>0</td>\n",
       "      <td>0</td>\n",
       "      <td>0</td>\n",
       "      <td>0</td>\n",
       "    </tr>\n",
       "    <tr>\n",
       "      <th>553096</th>\n",
       "      <td>553096</td>\n",
       "      <td>2007-08-04 16:30:00</td>\n",
       "      <td>Saturday</td>\n",
       "      <td>800 Block of BRYANT ST</td>\n",
       "      <td>-122.403405</td>\n",
       "      <td>37.775421</td>\n",
       "      <td>7</td>\n",
       "      <td>8</td>\n",
       "      <td>16</td>\n",
       "      <td>1</td>\n",
       "      <td>-0.866025</td>\n",
       "      <td>-0.5</td>\n",
       "      <td>-0.866025</td>\n",
       "      <td>-5.000000e-01</td>\n",
       "      <td>-0.781831</td>\n",
       "      <td>0.623490</td>\n",
       "      <td>0</td>\n",
       "      <td>0</td>\n",
       "      <td>0</td>\n",
       "      <td>0</td>\n",
       "      <td>0</td>\n",
       "      <td>0</td>\n",
       "      <td>0</td>\n",
       "      <td>1</td>\n",
       "      <td>0</td>\n",
       "      <td>0</td>\n",
       "    </tr>\n",
       "  </tbody>\n",
       "</table>\n",
       "</div>"
      ],
      "text/plain": [
       "            Id          ...          PdDistrict_TENDERLOIN\n",
       "103792  103792          ...                              0\n",
       "86717    86717          ...                              0\n",
       "553096  553096          ...                              0\n",
       "\n",
       "[3 rows x 26 columns]"
      ]
     },
     "execution_count": 13,
     "metadata": {},
     "output_type": "execute_result"
    }
   ],
   "source": [
    "test_df.sample(3)"
   ]
  },
  {
   "cell_type": "code",
   "execution_count": 14,
   "metadata": {
    "ExecuteTime": {
     "end_time": "2019-02-14T18:30:40.775486Z",
     "start_time": "2019-02-14T18:29:56.078568Z"
    },
    "_uuid": "dfcf10947c172415d7cf7492f149b2b7d7408a82"
   },
   "outputs": [
    {
     "name": "stdout",
     "output_type": "stream",
     "text": [
      "Done Outputing !\n"
     ]
    }
   ],
   "source": [
    "OUTPUT = True\n",
    "if OUTPUT:\n",
    "    train_df.to_csv('./train_clean.csv', index=False)\n",
    "    test_df.to_csv('./test_clean.csv', index=False)\n",
    "    print('Done Outputing !')"
   ]
  },
  {
   "cell_type": "code",
   "execution_count": 15,
   "metadata": {
    "_uuid": "4bd04ebff38bf86be728c9bb8ddf0875ce7dcf31",
    "collapsed": true
   },
   "outputs": [],
   "source": []
  }
 ],
 "metadata": {
  "kernelspec": {
   "display_name": "Python 3",
   "language": "python",
   "name": "python3"
  },
  "language_info": {
   "codemirror_mode": {
    "name": "ipython",
    "version": 3
   },
   "file_extension": ".py",
   "mimetype": "text/x-python",
   "name": "python",
   "nbconvert_exporter": "python",
   "pygments_lexer": "ipython3",
   "version": "3.6.1"
  }
 },
 "nbformat": 4,
 "nbformat_minor": 1
}
