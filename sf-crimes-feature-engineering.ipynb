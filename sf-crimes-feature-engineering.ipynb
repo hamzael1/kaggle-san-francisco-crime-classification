{
 "cells": [
  {
   "cell_type": "code",
   "execution_count": 1,
   "metadata": {
    "ExecuteTime": {
     "end_time": "2019-02-14T18:29:43.440230Z",
     "start_time": "2019-02-14T18:29:40.884961Z"
    },
    "collapsed": true
   },
   "outputs": [],
   "source": [
    "import pandas as pd\n",
    "import numpy as np\n",
    "from sklearn.preprocessing import LabelEncoder\n"
   ]
  },
  {
   "cell_type": "code",
   "execution_count": 2,
   "metadata": {
    "ExecuteTime": {
     "end_time": "2019-02-14T18:29:48.849428Z",
     "start_time": "2019-02-14T18:29:43.444367Z"
    },
    "collapsed": true
   },
   "outputs": [],
   "source": [
    "train_df = pd.read_csv('./data/train.csv', parse_dates=['Dates'])\n",
    "test_df = pd.read_csv('./data/test.csv', parse_dates=['Dates'])"
   ]
  },
  {
   "cell_type": "code",
   "execution_count": 3,
   "metadata": {
    "ExecuteTime": {
     "end_time": "2019-02-14T18:29:48.965094Z",
     "start_time": "2019-02-14T18:29:48.852015Z"
    }
   },
   "outputs": [
    {
     "data": {
      "text/html": [
       "<div>\n",
       "<style>\n",
       "    .dataframe thead tr:only-child th {\n",
       "        text-align: right;\n",
       "    }\n",
       "\n",
       "    .dataframe thead th {\n",
       "        text-align: left;\n",
       "    }\n",
       "\n",
       "    .dataframe tbody tr th {\n",
       "        vertical-align: top;\n",
       "    }\n",
       "</style>\n",
       "<table border=\"1\" class=\"dataframe\">\n",
       "  <thead>\n",
       "    <tr style=\"text-align: right;\">\n",
       "      <th></th>\n",
       "      <th>Dates</th>\n",
       "      <th>Category</th>\n",
       "      <th>Descript</th>\n",
       "      <th>DayOfWeek</th>\n",
       "      <th>PdDistrict</th>\n",
       "      <th>Resolution</th>\n",
       "      <th>Address</th>\n",
       "      <th>X</th>\n",
       "      <th>Y</th>\n",
       "    </tr>\n",
       "  </thead>\n",
       "  <tbody>\n",
       "    <tr>\n",
       "      <th>222561</th>\n",
       "      <td>2012-05-20 12:00:00</td>\n",
       "      <td>NON-CRIMINAL</td>\n",
       "      <td>LOST PROPERTY</td>\n",
       "      <td>Sunday</td>\n",
       "      <td>SOUTHERN</td>\n",
       "      <td>NONE</td>\n",
       "      <td>3RD ST / HOWARD ST</td>\n",
       "      <td>-122.400474</td>\n",
       "      <td>37.785029</td>\n",
       "    </tr>\n",
       "    <tr>\n",
       "      <th>653807</th>\n",
       "      <td>2006-02-06 16:31:00</td>\n",
       "      <td>OTHER OFFENSES</td>\n",
       "      <td>TRAFFIC VIOLATION</td>\n",
       "      <td>Monday</td>\n",
       "      <td>MISSION</td>\n",
       "      <td>ARREST, CITED</td>\n",
       "      <td>MISSION ST / 16TH ST</td>\n",
       "      <td>-122.419672</td>\n",
       "      <td>37.765050</td>\n",
       "    </tr>\n",
       "    <tr>\n",
       "      <th>284739</th>\n",
       "      <td>2011-06-19 23:10:00</td>\n",
       "      <td>SUSPICIOUS OCC</td>\n",
       "      <td>INVESTIGATIVE DETENTION</td>\n",
       "      <td>Sunday</td>\n",
       "      <td>MISSION</td>\n",
       "      <td>NONE</td>\n",
       "      <td>3000 Block of 16TH ST</td>\n",
       "      <td>-122.420070</td>\n",
       "      <td>37.764972</td>\n",
       "    </tr>\n",
       "  </tbody>\n",
       "</table>\n",
       "</div>"
      ],
      "text/plain": [
       "                     Dates        Category                 Descript DayOfWeek  \\\n",
       "222561 2012-05-20 12:00:00    NON-CRIMINAL            LOST PROPERTY    Sunday   \n",
       "653807 2006-02-06 16:31:00  OTHER OFFENSES        TRAFFIC VIOLATION    Monday   \n",
       "284739 2011-06-19 23:10:00  SUSPICIOUS OCC  INVESTIGATIVE DETENTION    Sunday   \n",
       "\n",
       "       PdDistrict     Resolution                Address           X          Y  \n",
       "222561   SOUTHERN           NONE     3RD ST / HOWARD ST -122.400474  37.785029  \n",
       "653807    MISSION  ARREST, CITED   MISSION ST / 16TH ST -122.419672  37.765050  \n",
       "284739    MISSION           NONE  3000 Block of 16TH ST -122.420070  37.764972  "
      ]
     },
     "execution_count": 3,
     "metadata": {},
     "output_type": "execute_result"
    }
   ],
   "source": [
    "train_df.sample(3)"
   ]
  },
  {
   "cell_type": "code",
   "execution_count": 4,
   "metadata": {
    "ExecuteTime": {
     "end_time": "2019-02-14T18:29:49.061792Z",
     "start_time": "2019-02-14T18:29:48.968761Z"
    }
   },
   "outputs": [
    {
     "data": {
      "text/html": [
       "<div>\n",
       "<style>\n",
       "    .dataframe thead tr:only-child th {\n",
       "        text-align: right;\n",
       "    }\n",
       "\n",
       "    .dataframe thead th {\n",
       "        text-align: left;\n",
       "    }\n",
       "\n",
       "    .dataframe tbody tr th {\n",
       "        vertical-align: top;\n",
       "    }\n",
       "</style>\n",
       "<table border=\"1\" class=\"dataframe\">\n",
       "  <thead>\n",
       "    <tr style=\"text-align: right;\">\n",
       "      <th></th>\n",
       "      <th>Id</th>\n",
       "      <th>Dates</th>\n",
       "      <th>DayOfWeek</th>\n",
       "      <th>PdDistrict</th>\n",
       "      <th>Address</th>\n",
       "      <th>X</th>\n",
       "      <th>Y</th>\n",
       "    </tr>\n",
       "  </thead>\n",
       "  <tbody>\n",
       "    <tr>\n",
       "      <th>147545</th>\n",
       "      <td>147545</td>\n",
       "      <td>2013-06-06 23:18:00</td>\n",
       "      <td>Thursday</td>\n",
       "      <td>MISSION</td>\n",
       "      <td>SOUTH VAN NESS AV / 22ND ST</td>\n",
       "      <td>-122.416569</td>\n",
       "      <td>37.755569</td>\n",
       "    </tr>\n",
       "    <tr>\n",
       "      <th>29822</th>\n",
       "      <td>29822</td>\n",
       "      <td>2014-12-21 16:30:00</td>\n",
       "      <td>Sunday</td>\n",
       "      <td>TENDERLOIN</td>\n",
       "      <td>200 Block of MASON ST</td>\n",
       "      <td>-122.409524</td>\n",
       "      <td>37.785760</td>\n",
       "    </tr>\n",
       "    <tr>\n",
       "      <th>177770</th>\n",
       "      <td>177770</td>\n",
       "      <td>2013-01-16 04:23:00</td>\n",
       "      <td>Wednesday</td>\n",
       "      <td>TENDERLOIN</td>\n",
       "      <td>0 Block of MCALLISTER ST</td>\n",
       "      <td>-122.412597</td>\n",
       "      <td>37.781119</td>\n",
       "    </tr>\n",
       "  </tbody>\n",
       "</table>\n",
       "</div>"
      ],
      "text/plain": [
       "            Id               Dates  DayOfWeek  PdDistrict  \\\n",
       "147545  147545 2013-06-06 23:18:00   Thursday     MISSION   \n",
       "29822    29822 2014-12-21 16:30:00     Sunday  TENDERLOIN   \n",
       "177770  177770 2013-01-16 04:23:00  Wednesday  TENDERLOIN   \n",
       "\n",
       "                            Address           X          Y  \n",
       "147545  SOUTH VAN NESS AV / 22ND ST -122.416569  37.755569  \n",
       "29822         200 Block of MASON ST -122.409524  37.785760  \n",
       "177770     0 Block of MCALLISTER ST -122.412597  37.781119  "
      ]
     },
     "execution_count": 4,
     "metadata": {},
     "output_type": "execute_result"
    }
   ],
   "source": [
    "test_df.sample(3)"
   ]
  },
  {
   "cell_type": "code",
   "execution_count": 5,
   "metadata": {
    "ExecuteTime": {
     "end_time": "2019-02-14T18:29:49.083838Z",
     "start_time": "2019-02-14T18:29:49.065529Z"
    },
    "collapsed": true
   },
   "outputs": [],
   "source": [
    "def engineer_dates_col(df):\n",
    "    dates_col   = df['Dates']\n",
    "    dates_col   = pd.to_datetime(dates_col)\n",
    "    df['Year']  = dates_col.dt.year\n",
    "    df['Month'] = dates_col.dt.month\n",
    "    df['IsDay'] = dates_col.dt.hour.apply(lambda h: 1 if (h > 6 and h < 20) else 0)\n",
    "    df['MonthSin'] = np.sin((df['Month']*2*np.pi)/12)\n",
    "    df['MonthCos'] = np.cos((df['Month']*2*np.pi)/12)\n",
    "    return df"
   ]
  },
  {
   "cell_type": "code",
   "execution_count": 6,
   "metadata": {
    "ExecuteTime": {
     "end_time": "2019-02-14T18:29:49.100933Z",
     "start_time": "2019-02-14T18:29:49.086803Z"
    },
    "collapsed": true
   },
   "outputs": [],
   "source": [
    "def engineer_dayofweek_col(df):\n",
    "    days_int = df['DayOfWeek'].map({\n",
    "        'Monday': 1,\n",
    "        'Tuesday': 2,\n",
    "        'Wednesday': 3,\n",
    "        'Thursday': 4,\n",
    "        'Friday': 5,\n",
    "        'Saturday': 6,\n",
    "        'Sunday': 7,\n",
    "    })\n",
    "    df['DayOfWeekSin']= np.sin((days_int*2*np.pi)/7)\n",
    "    df['DayOfWeekCos']= np.cos((days_int*2*np.pi)/7)\n",
    "    return df"
   ]
  },
  {
   "cell_type": "code",
   "execution_count": 7,
   "metadata": {
    "ExecuteTime": {
     "end_time": "2019-02-14T18:29:49.111407Z",
     "start_time": "2019-02-14T18:29:49.105010Z"
    },
    "collapsed": true
   },
   "outputs": [],
   "source": [
    "def engineer_category_col(df):\n",
    "    le = LabelEncoder()\n",
    "    df['Category'] = pd.Series(le.fit_transform(df['Category']))\n",
    "    return df"
   ]
  },
  {
   "cell_type": "code",
   "execution_count": 8,
   "metadata": {
    "ExecuteTime": {
     "end_time": "2019-02-14T18:29:49.123005Z",
     "start_time": "2019-02-14T18:29:49.115283Z"
    },
    "collapsed": true
   },
   "outputs": [],
   "source": [
    "def engineer_pddistrict_col(df):\n",
    "    le = LabelEncoder()\n",
    "    df['PdDistrict'] = pd.Series(le.fit_transform(df['PdDistrict']))\n",
    "    return df"
   ]
  },
  {
   "cell_type": "code",
   "execution_count": 9,
   "metadata": {
    "ExecuteTime": {
     "end_time": "2019-02-14T18:29:49.137044Z",
     "start_time": "2019-02-14T18:29:49.127584Z"
    },
    "collapsed": true
   },
   "outputs": [],
   "source": [
    "def engineer_all_cols(df, encode_category=False):\n",
    "    df = engineer_dates_col(df)\n",
    "    df = engineer_dayofweek_col(df)\n",
    "    df = engineer_pddistrict_col(df)\n",
    "    if encode_category:\n",
    "        df = engineer_category_col(df)\n",
    "    return df"
   ]
  },
  {
   "cell_type": "code",
   "execution_count": 10,
   "metadata": {
    "ExecuteTime": {
     "end_time": "2019-02-14T18:29:55.072642Z",
     "start_time": "2019-02-14T18:29:49.142115Z"
    },
    "collapsed": true
   },
   "outputs": [],
   "source": [
    "train_df = engineer_all_cols(train_df, encode_category=True)\n",
    "test_df  = engineer_all_cols(test_df)"
   ]
  },
  {
   "cell_type": "code",
   "execution_count": 11,
   "metadata": {
    "ExecuteTime": {
     "end_time": "2019-02-14T18:29:55.648202Z",
     "start_time": "2019-02-14T18:29:55.075015Z"
    }
   },
   "outputs": [
    {
     "data": {
      "text/html": [
       "<div>\n",
       "<style>\n",
       "    .dataframe thead tr:only-child th {\n",
       "        text-align: right;\n",
       "    }\n",
       "\n",
       "    .dataframe thead th {\n",
       "        text-align: left;\n",
       "    }\n",
       "\n",
       "    .dataframe tbody tr th {\n",
       "        vertical-align: top;\n",
       "    }\n",
       "</style>\n",
       "<table border=\"1\" class=\"dataframe\">\n",
       "  <thead>\n",
       "    <tr style=\"text-align: right;\">\n",
       "      <th></th>\n",
       "      <th>Dates</th>\n",
       "      <th>Category</th>\n",
       "      <th>Descript</th>\n",
       "      <th>DayOfWeek</th>\n",
       "      <th>PdDistrict</th>\n",
       "      <th>Resolution</th>\n",
       "      <th>Address</th>\n",
       "      <th>X</th>\n",
       "      <th>Y</th>\n",
       "      <th>Year</th>\n",
       "      <th>Month</th>\n",
       "      <th>IsDay</th>\n",
       "      <th>MonthSin</th>\n",
       "      <th>MonthCos</th>\n",
       "      <th>DayOfWeekSin</th>\n",
       "      <th>DayOfWeekCos</th>\n",
       "    </tr>\n",
       "  </thead>\n",
       "  <tbody>\n",
       "    <tr>\n",
       "      <th>255342</th>\n",
       "      <td>2011-12-02 12:50:00</td>\n",
       "      <td>1</td>\n",
       "      <td>BATTERY</td>\n",
       "      <td>Friday</td>\n",
       "      <td>9</td>\n",
       "      <td>ARREST, BOOKED</td>\n",
       "      <td>500 Block of ELLIS ST</td>\n",
       "      <td>-122.415414</td>\n",
       "      <td>37.784477</td>\n",
       "      <td>2011</td>\n",
       "      <td>12</td>\n",
       "      <td>1</td>\n",
       "      <td>-2.449294e-16</td>\n",
       "      <td>1.000000</td>\n",
       "      <td>-0.974928</td>\n",
       "      <td>-0.222521</td>\n",
       "    </tr>\n",
       "    <tr>\n",
       "      <th>298152</th>\n",
       "      <td>2011-04-09 01:20:00</td>\n",
       "      <td>5</td>\n",
       "      <td>MAINTAINING A PUBLIC NUISANCE</td>\n",
       "      <td>Saturday</td>\n",
       "      <td>3</td>\n",
       "      <td>ARREST, BOOKED</td>\n",
       "      <td>500 Block of CAPP ST</td>\n",
       "      <td>-122.417818</td>\n",
       "      <td>37.757888</td>\n",
       "      <td>2011</td>\n",
       "      <td>4</td>\n",
       "      <td>0</td>\n",
       "      <td>8.660254e-01</td>\n",
       "      <td>-0.500000</td>\n",
       "      <td>-0.781831</td>\n",
       "      <td>0.623490</td>\n",
       "    </tr>\n",
       "    <tr>\n",
       "      <th>358351</th>\n",
       "      <td>2010-05-21 10:00:00</td>\n",
       "      <td>16</td>\n",
       "      <td>GRAND THEFT FROM A BUILDING</td>\n",
       "      <td>Friday</td>\n",
       "      <td>0</td>\n",
       "      <td>NONE</td>\n",
       "      <td>700 Block of INNES AV</td>\n",
       "      <td>-122.372926</td>\n",
       "      <td>37.730460</td>\n",
       "      <td>2010</td>\n",
       "      <td>5</td>\n",
       "      <td>1</td>\n",
       "      <td>5.000000e-01</td>\n",
       "      <td>-0.866025</td>\n",
       "      <td>-0.974928</td>\n",
       "      <td>-0.222521</td>\n",
       "    </tr>\n",
       "  </tbody>\n",
       "</table>\n",
       "</div>"
      ],
      "text/plain": [
       "                     Dates  Category                       Descript DayOfWeek  \\\n",
       "255342 2011-12-02 12:50:00         1                        BATTERY    Friday   \n",
       "298152 2011-04-09 01:20:00         5  MAINTAINING A PUBLIC NUISANCE  Saturday   \n",
       "358351 2010-05-21 10:00:00        16    GRAND THEFT FROM A BUILDING    Friday   \n",
       "\n",
       "        PdDistrict      Resolution                Address           X  \\\n",
       "255342           9  ARREST, BOOKED  500 Block of ELLIS ST -122.415414   \n",
       "298152           3  ARREST, BOOKED   500 Block of CAPP ST -122.417818   \n",
       "358351           0            NONE  700 Block of INNES AV -122.372926   \n",
       "\n",
       "                Y  Year  Month  IsDay      MonthSin  MonthCos  DayOfWeekSin  \\\n",
       "255342  37.784477  2011     12      1 -2.449294e-16  1.000000     -0.974928   \n",
       "298152  37.757888  2011      4      0  8.660254e-01 -0.500000     -0.781831   \n",
       "358351  37.730460  2010      5      1  5.000000e-01 -0.866025     -0.974928   \n",
       "\n",
       "        DayOfWeekCos  \n",
       "255342     -0.222521  \n",
       "298152      0.623490  \n",
       "358351     -0.222521  "
      ]
     },
     "execution_count": 11,
     "metadata": {},
     "output_type": "execute_result"
    }
   ],
   "source": [
    "train_df.sample(3)"
   ]
  },
  {
   "cell_type": "code",
   "execution_count": 12,
   "metadata": {
    "ExecuteTime": {
     "end_time": "2019-02-14T18:29:56.071314Z",
     "start_time": "2019-02-14T18:29:55.651907Z"
    }
   },
   "outputs": [
    {
     "data": {
      "text/html": [
       "<div>\n",
       "<style>\n",
       "    .dataframe thead tr:only-child th {\n",
       "        text-align: right;\n",
       "    }\n",
       "\n",
       "    .dataframe thead th {\n",
       "        text-align: left;\n",
       "    }\n",
       "\n",
       "    .dataframe tbody tr th {\n",
       "        vertical-align: top;\n",
       "    }\n",
       "</style>\n",
       "<table border=\"1\" class=\"dataframe\">\n",
       "  <thead>\n",
       "    <tr style=\"text-align: right;\">\n",
       "      <th></th>\n",
       "      <th>Id</th>\n",
       "      <th>Dates</th>\n",
       "      <th>DayOfWeek</th>\n",
       "      <th>PdDistrict</th>\n",
       "      <th>Address</th>\n",
       "      <th>X</th>\n",
       "      <th>Y</th>\n",
       "      <th>Year</th>\n",
       "      <th>Month</th>\n",
       "      <th>IsDay</th>\n",
       "      <th>MonthSin</th>\n",
       "      <th>MonthCos</th>\n",
       "      <th>DayOfWeekSin</th>\n",
       "      <th>DayOfWeekCos</th>\n",
       "    </tr>\n",
       "  </thead>\n",
       "  <tbody>\n",
       "    <tr>\n",
       "      <th>442017</th>\n",
       "      <td>442017</td>\n",
       "      <td>2009-02-28 23:30:00</td>\n",
       "      <td>Saturday</td>\n",
       "      <td>7</td>\n",
       "      <td>0 Block of TANDANGSORA ST</td>\n",
       "      <td>-122.399982</td>\n",
       "      <td>37.781719</td>\n",
       "      <td>2009</td>\n",
       "      <td>2</td>\n",
       "      <td>0</td>\n",
       "      <td>0.866025</td>\n",
       "      <td>0.500000</td>\n",
       "      <td>-7.818315e-01</td>\n",
       "      <td>0.62349</td>\n",
       "    </tr>\n",
       "    <tr>\n",
       "      <th>533871</th>\n",
       "      <td>533871</td>\n",
       "      <td>2007-11-10 20:30:00</td>\n",
       "      <td>Saturday</td>\n",
       "      <td>8</td>\n",
       "      <td>1900 Block of 36TH AV</td>\n",
       "      <td>-122.494424</td>\n",
       "      <td>37.750622</td>\n",
       "      <td>2007</td>\n",
       "      <td>11</td>\n",
       "      <td>0</td>\n",
       "      <td>-0.500000</td>\n",
       "      <td>0.866025</td>\n",
       "      <td>-7.818315e-01</td>\n",
       "      <td>0.62349</td>\n",
       "    </tr>\n",
       "    <tr>\n",
       "      <th>469322</th>\n",
       "      <td>469322</td>\n",
       "      <td>2008-10-12 01:55:00</td>\n",
       "      <td>Sunday</td>\n",
       "      <td>5</td>\n",
       "      <td>FULTON ST / MASONIC AV</td>\n",
       "      <td>-122.446473</td>\n",
       "      <td>37.775802</td>\n",
       "      <td>2008</td>\n",
       "      <td>10</td>\n",
       "      <td>0</td>\n",
       "      <td>-0.866025</td>\n",
       "      <td>0.500000</td>\n",
       "      <td>-2.449294e-16</td>\n",
       "      <td>1.00000</td>\n",
       "    </tr>\n",
       "  </tbody>\n",
       "</table>\n",
       "</div>"
      ],
      "text/plain": [
       "            Id               Dates DayOfWeek  PdDistrict  \\\n",
       "442017  442017 2009-02-28 23:30:00  Saturday           7   \n",
       "533871  533871 2007-11-10 20:30:00  Saturday           8   \n",
       "469322  469322 2008-10-12 01:55:00    Sunday           5   \n",
       "\n",
       "                          Address           X          Y  Year  Month  IsDay  \\\n",
       "442017  0 Block of TANDANGSORA ST -122.399982  37.781719  2009      2      0   \n",
       "533871      1900 Block of 36TH AV -122.494424  37.750622  2007     11      0   \n",
       "469322     FULTON ST / MASONIC AV -122.446473  37.775802  2008     10      0   \n",
       "\n",
       "        MonthSin  MonthCos  DayOfWeekSin  DayOfWeekCos  \n",
       "442017  0.866025  0.500000 -7.818315e-01       0.62349  \n",
       "533871 -0.500000  0.866025 -7.818315e-01       0.62349  \n",
       "469322 -0.866025  0.500000 -2.449294e-16       1.00000  "
      ]
     },
     "execution_count": 12,
     "metadata": {},
     "output_type": "execute_result"
    }
   ],
   "source": [
    "test_df.sample(3)"
   ]
  },
  {
   "cell_type": "code",
   "execution_count": 13,
   "metadata": {
    "ExecuteTime": {
     "end_time": "2019-02-14T18:30:40.775486Z",
     "start_time": "2019-02-14T18:29:56.078568Z"
    }
   },
   "outputs": [
    {
     "name": "stdout",
     "output_type": "stream",
     "text": [
      "Done Outputing !\n"
     ]
    }
   ],
   "source": [
    "train_df.to_csv('./data/inter/train_clean.csv', index=False)\n",
    "test_df.to_csv('./data/inter/test_clean.csv', index=False)\n",
    "print('Done Outputing !')"
   ]
  }
 ],
 "metadata": {
  "kernelspec": {
   "display_name": "Python 3",
   "language": "python",
   "name": "python3"
  },
  "language_info": {
   "codemirror_mode": {
    "name": "ipython",
    "version": 3
   },
   "file_extension": ".py",
   "mimetype": "text/x-python",
   "name": "python",
   "nbconvert_exporter": "python",
   "pygments_lexer": "ipython3",
   "version": "3.6.1"
  }
 },
 "nbformat": 4,
 "nbformat_minor": 2
}
