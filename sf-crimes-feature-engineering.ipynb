{
 "cells": [
  {
   "cell_type": "code",
   "execution_count": 1,
   "metadata": {
    "ExecuteTime": {
     "end_time": "2019-02-14T17:24:16.289169Z",
     "start_time": "2019-02-14T17:24:13.726942Z"
    },
    "collapsed": true
   },
   "outputs": [],
   "source": [
    "import pandas as pd\n",
    "import numpy as np"
   ]
  },
  {
   "cell_type": "code",
   "execution_count": 2,
   "metadata": {
    "ExecuteTime": {
     "end_time": "2019-02-14T17:24:22.870153Z",
     "start_time": "2019-02-14T17:24:16.291862Z"
    }
   },
   "outputs": [],
   "source": [
    "train_df = pd.read_csv('./data/train.csv', parse_dates=['Dates'])\n",
    "test_df = pd.read_csv('./data/test.csv', parse_dates=['Dates'])"
   ]
  },
  {
   "cell_type": "code",
   "execution_count": 3,
   "metadata": {
    "ExecuteTime": {
     "end_time": "2019-02-14T17:24:22.946712Z",
     "start_time": "2019-02-14T17:24:22.872540Z"
    }
   },
   "outputs": [
    {
     "data": {
      "text/html": [
       "<div>\n",
       "<style>\n",
       "    .dataframe thead tr:only-child th {\n",
       "        text-align: right;\n",
       "    }\n",
       "\n",
       "    .dataframe thead th {\n",
       "        text-align: left;\n",
       "    }\n",
       "\n",
       "    .dataframe tbody tr th {\n",
       "        vertical-align: top;\n",
       "    }\n",
       "</style>\n",
       "<table border=\"1\" class=\"dataframe\">\n",
       "  <thead>\n",
       "    <tr style=\"text-align: right;\">\n",
       "      <th></th>\n",
       "      <th>Dates</th>\n",
       "      <th>Category</th>\n",
       "      <th>Descript</th>\n",
       "      <th>DayOfWeek</th>\n",
       "      <th>PdDistrict</th>\n",
       "      <th>Resolution</th>\n",
       "      <th>Address</th>\n",
       "      <th>X</th>\n",
       "      <th>Y</th>\n",
       "    </tr>\n",
       "  </thead>\n",
       "  <tbody>\n",
       "    <tr>\n",
       "      <th>460158</th>\n",
       "      <td>2008-11-14 14:30:00</td>\n",
       "      <td>FORGERY/COUNTERFEITING</td>\n",
       "      <td>CHECKS, FORGERY (FELONY)</td>\n",
       "      <td>Friday</td>\n",
       "      <td>CENTRAL</td>\n",
       "      <td>NONE</td>\n",
       "      <td>700 Block of GRANT AV</td>\n",
       "      <td>-122.406246</td>\n",
       "      <td>37.793611</td>\n",
       "    </tr>\n",
       "    <tr>\n",
       "      <th>122414</th>\n",
       "      <td>2013-09-22 09:00:00</td>\n",
       "      <td>OTHER OFFENSES</td>\n",
       "      <td>LOST/STOLEN LICENSE PLATE</td>\n",
       "      <td>Sunday</td>\n",
       "      <td>CENTRAL</td>\n",
       "      <td>NONE</td>\n",
       "      <td>800 Block of WASHINGTON ST</td>\n",
       "      <td>-122.407793</td>\n",
       "      <td>37.795033</td>\n",
       "    </tr>\n",
       "    <tr>\n",
       "      <th>566612</th>\n",
       "      <td>2007-05-15 08:00:00</td>\n",
       "      <td>NON-CRIMINAL</td>\n",
       "      <td>LOST PROPERTY</td>\n",
       "      <td>Tuesday</td>\n",
       "      <td>MISSION</td>\n",
       "      <td>NONE</td>\n",
       "      <td>26TH ST / MISSION ST</td>\n",
       "      <td>-122.418137</td>\n",
       "      <td>37.749041</td>\n",
       "    </tr>\n",
       "  </tbody>\n",
       "</table>\n",
       "</div>"
      ],
      "text/plain": [
       "                     Dates                Category                   Descript  \\\n",
       "460158 2008-11-14 14:30:00  FORGERY/COUNTERFEITING   CHECKS, FORGERY (FELONY)   \n",
       "122414 2013-09-22 09:00:00          OTHER OFFENSES  LOST/STOLEN LICENSE PLATE   \n",
       "566612 2007-05-15 08:00:00            NON-CRIMINAL              LOST PROPERTY   \n",
       "\n",
       "       DayOfWeek PdDistrict Resolution                     Address  \\\n",
       "460158    Friday    CENTRAL       NONE       700 Block of GRANT AV   \n",
       "122414    Sunday    CENTRAL       NONE  800 Block of WASHINGTON ST   \n",
       "566612   Tuesday    MISSION       NONE        26TH ST / MISSION ST   \n",
       "\n",
       "                 X          Y  \n",
       "460158 -122.406246  37.793611  \n",
       "122414 -122.407793  37.795033  \n",
       "566612 -122.418137  37.749041  "
      ]
     },
     "execution_count": 3,
     "metadata": {},
     "output_type": "execute_result"
    }
   ],
   "source": [
    "train_df.sample(3)"
   ]
  },
  {
   "cell_type": "code",
   "execution_count": 4,
   "metadata": {
    "ExecuteTime": {
     "end_time": "2019-02-14T17:24:23.033201Z",
     "start_time": "2019-02-14T17:24:22.949170Z"
    }
   },
   "outputs": [
    {
     "data": {
      "text/html": [
       "<div>\n",
       "<style>\n",
       "    .dataframe thead tr:only-child th {\n",
       "        text-align: right;\n",
       "    }\n",
       "\n",
       "    .dataframe thead th {\n",
       "        text-align: left;\n",
       "    }\n",
       "\n",
       "    .dataframe tbody tr th {\n",
       "        vertical-align: top;\n",
       "    }\n",
       "</style>\n",
       "<table border=\"1\" class=\"dataframe\">\n",
       "  <thead>\n",
       "    <tr style=\"text-align: right;\">\n",
       "      <th></th>\n",
       "      <th>Id</th>\n",
       "      <th>Dates</th>\n",
       "      <th>DayOfWeek</th>\n",
       "      <th>PdDistrict</th>\n",
       "      <th>Address</th>\n",
       "      <th>X</th>\n",
       "      <th>Y</th>\n",
       "    </tr>\n",
       "  </thead>\n",
       "  <tbody>\n",
       "    <tr>\n",
       "      <th>443486</th>\n",
       "      <td>443486</td>\n",
       "      <td>2009-02-25 13:29:00</td>\n",
       "      <td>Wednesday</td>\n",
       "      <td>SOUTHERN</td>\n",
       "      <td>800 Block of HARRISON ST</td>\n",
       "      <td>-122.400800</td>\n",
       "      <td>37.779934</td>\n",
       "    </tr>\n",
       "    <tr>\n",
       "      <th>385478</th>\n",
       "      <td>385478</td>\n",
       "      <td>2009-12-18 17:37:00</td>\n",
       "      <td>Friday</td>\n",
       "      <td>INGLESIDE</td>\n",
       "      <td>GENEVA AV / PARIS ST</td>\n",
       "      <td>-122.439438</td>\n",
       "      <td>37.715674</td>\n",
       "    </tr>\n",
       "    <tr>\n",
       "      <th>74302</th>\n",
       "      <td>74302</td>\n",
       "      <td>2014-05-22 19:00:00</td>\n",
       "      <td>Thursday</td>\n",
       "      <td>CENTRAL</td>\n",
       "      <td>THE EMBARCADERONORTH ST / WASHINGTON ST</td>\n",
       "      <td>-122.395330</td>\n",
       "      <td>37.796665</td>\n",
       "    </tr>\n",
       "  </tbody>\n",
       "</table>\n",
       "</div>"
      ],
      "text/plain": [
       "            Id               Dates  DayOfWeek PdDistrict  \\\n",
       "443486  443486 2009-02-25 13:29:00  Wednesday   SOUTHERN   \n",
       "385478  385478 2009-12-18 17:37:00     Friday  INGLESIDE   \n",
       "74302    74302 2014-05-22 19:00:00   Thursday    CENTRAL   \n",
       "\n",
       "                                        Address           X          Y  \n",
       "443486                 800 Block of HARRISON ST -122.400800  37.779934  \n",
       "385478                     GENEVA AV / PARIS ST -122.439438  37.715674  \n",
       "74302   THE EMBARCADERONORTH ST / WASHINGTON ST -122.395330  37.796665  "
      ]
     },
     "execution_count": 4,
     "metadata": {},
     "output_type": "execute_result"
    }
   ],
   "source": [
    "test_df.sample(3)"
   ]
  },
  {
   "cell_type": "code",
   "execution_count": 5,
   "metadata": {
    "ExecuteTime": {
     "end_time": "2019-02-14T17:24:23.074750Z",
     "start_time": "2019-02-14T17:24:23.036854Z"
    },
    "collapsed": true
   },
   "outputs": [],
   "source": [
    "def engineer_dates_col(df):\n",
    "    dates_col   = df['Dates']\n",
    "    dates_col   = pd.to_datetime(dates_col)\n",
    "    df['Year']  = dates_col.dt.year\n",
    "    df['Month'] = dates_col.dt.month\n",
    "    df['IsDay'] = dates_col.dt.hour.apply(lambda h: 1 if (h > 6 and h < 20) else 0)\n",
    "    df['MonthSin'] = np.sin((df['Month']*2*np.pi)/12)\n",
    "    df['MonthCos'] = np.cos((df['Month']*2*np.pi)/12)\n",
    "    return df"
   ]
  },
  {
   "cell_type": "code",
   "execution_count": 6,
   "metadata": {
    "ExecuteTime": {
     "end_time": "2019-02-14T17:24:23.090861Z",
     "start_time": "2019-02-14T17:24:23.078512Z"
    },
    "collapsed": true
   },
   "outputs": [],
   "source": [
    "def engineer_dayofweek_col(df):\n",
    "    days_int = df['DayOfWeek'].map({\n",
    "        'Monday': 1,\n",
    "        'Tuesday': 2,\n",
    "        'Wednesday': 3,\n",
    "        'Thursday': 4,\n",
    "        'Friday': 5,\n",
    "        'Saturday': 6,\n",
    "        'Sunday': 7,\n",
    "    })\n",
    "    df['DayOfWeekSin']= np.sin((days_int*2*np.pi)/7)\n",
    "    df['DayOfWeekCos']= np.cos((days_int*2*np.pi)/7)\n",
    "    return df"
   ]
  },
  {
   "cell_type": "code",
   "execution_count": 7,
   "metadata": {
    "ExecuteTime": {
     "end_time": "2019-02-14T17:24:23.100106Z",
     "start_time": "2019-02-14T17:24:23.093889Z"
    },
    "collapsed": true
   },
   "outputs": [],
   "source": [
    "def engineer_category_col(df):\n",
    "    return pd.get_dummies(df, columns=['Category'])"
   ]
  },
  {
   "cell_type": "code",
   "execution_count": 8,
   "metadata": {
    "ExecuteTime": {
     "end_time": "2019-02-14T17:24:26.096507Z",
     "start_time": "2019-02-14T17:24:23.104388Z"
    },
    "collapsed": true
   },
   "outputs": [],
   "source": [
    "from sklearn.preprocessing import LabelEncoder\n",
    "def engineer_pddistrict_col(df):\n",
    "    le = LabelEncoder()\n",
    "    le.fit(df['PdDistrict'])\n",
    "    df['PdDistrict'] = pd.Series(le.transform(df['PdDistrict']))\n",
    "    return df"
   ]
  },
  {
   "cell_type": "code",
   "execution_count": 9,
   "metadata": {
    "ExecuteTime": {
     "end_time": "2019-02-14T17:24:26.114916Z",
     "start_time": "2019-02-14T17:24:26.100818Z"
    },
    "collapsed": true
   },
   "outputs": [],
   "source": [
    "def engineer_all_cols(df, encode_category=False):\n",
    "    df = engineer_dates_col(df)\n",
    "    df = engineer_dayofweek_col(df)\n",
    "    df = engineer_pddistrict_col(df)\n",
    "    if encode_category:\n",
    "        df = engineer_category_col(df)\n",
    "    return df"
   ]
  },
  {
   "cell_type": "code",
   "execution_count": 10,
   "metadata": {
    "ExecuteTime": {
     "end_time": "2019-02-14T17:24:33.728920Z",
     "start_time": "2019-02-14T17:24:26.119109Z"
    }
   },
   "outputs": [],
   "source": [
    "train_df = engineer_all_cols(train_df, encode_category=True)\n",
    "test_df  = engineer_all_cols(test_df)"
   ]
  },
  {
   "cell_type": "code",
   "execution_count": 11,
   "metadata": {
    "ExecuteTime": {
     "end_time": "2019-02-14T17:24:34.029438Z",
     "start_time": "2019-02-14T17:24:33.731027Z"
    }
   },
   "outputs": [
    {
     "data": {
      "text/html": [
       "<div>\n",
       "<style>\n",
       "    .dataframe thead tr:only-child th {\n",
       "        text-align: right;\n",
       "    }\n",
       "\n",
       "    .dataframe thead th {\n",
       "        text-align: left;\n",
       "    }\n",
       "\n",
       "    .dataframe tbody tr th {\n",
       "        vertical-align: top;\n",
       "    }\n",
       "</style>\n",
       "<table border=\"1\" class=\"dataframe\">\n",
       "  <thead>\n",
       "    <tr style=\"text-align: right;\">\n",
       "      <th></th>\n",
       "      <th>Dates</th>\n",
       "      <th>Descript</th>\n",
       "      <th>DayOfWeek</th>\n",
       "      <th>PdDistrict</th>\n",
       "      <th>Resolution</th>\n",
       "      <th>Address</th>\n",
       "      <th>X</th>\n",
       "      <th>Y</th>\n",
       "      <th>Year</th>\n",
       "      <th>Month</th>\n",
       "      <th>...</th>\n",
       "      <th>Category_SEX OFFENSES NON FORCIBLE</th>\n",
       "      <th>Category_STOLEN PROPERTY</th>\n",
       "      <th>Category_SUICIDE</th>\n",
       "      <th>Category_SUSPICIOUS OCC</th>\n",
       "      <th>Category_TREA</th>\n",
       "      <th>Category_TRESPASS</th>\n",
       "      <th>Category_VANDALISM</th>\n",
       "      <th>Category_VEHICLE THEFT</th>\n",
       "      <th>Category_WARRANTS</th>\n",
       "      <th>Category_WEAPON LAWS</th>\n",
       "    </tr>\n",
       "  </thead>\n",
       "  <tbody>\n",
       "    <tr>\n",
       "      <th>458426</th>\n",
       "      <td>2008-11-25 16:11:00</td>\n",
       "      <td>BURGLARY OF STORE, UNLAWFUL ENTRY</td>\n",
       "      <td>Tuesday</td>\n",
       "      <td>9</td>\n",
       "      <td>NONE</td>\n",
       "      <td>0 Block of GRANT AV</td>\n",
       "      <td>-122.404997</td>\n",
       "      <td>37.787196</td>\n",
       "      <td>2008</td>\n",
       "      <td>11</td>\n",
       "      <td>...</td>\n",
       "      <td>0</td>\n",
       "      <td>0</td>\n",
       "      <td>0</td>\n",
       "      <td>0</td>\n",
       "      <td>0</td>\n",
       "      <td>0</td>\n",
       "      <td>0</td>\n",
       "      <td>0</td>\n",
       "      <td>0</td>\n",
       "      <td>0</td>\n",
       "    </tr>\n",
       "    <tr>\n",
       "      <th>307047</th>\n",
       "      <td>2011-02-22 15:50:00</td>\n",
       "      <td>DRIVERS LICENSE, SUSPENDED OR REVOKED</td>\n",
       "      <td>Tuesday</td>\n",
       "      <td>0</td>\n",
       "      <td>ARREST, CITED</td>\n",
       "      <td>3RD ST / KIRKWOOD AV</td>\n",
       "      <td>-122.389588</td>\n",
       "      <td>37.737957</td>\n",
       "      <td>2011</td>\n",
       "      <td>2</td>\n",
       "      <td>...</td>\n",
       "      <td>0</td>\n",
       "      <td>0</td>\n",
       "      <td>0</td>\n",
       "      <td>0</td>\n",
       "      <td>0</td>\n",
       "      <td>0</td>\n",
       "      <td>0</td>\n",
       "      <td>0</td>\n",
       "      <td>0</td>\n",
       "      <td>0</td>\n",
       "    </tr>\n",
       "    <tr>\n",
       "      <th>428529</th>\n",
       "      <td>2009-04-30 14:00:00</td>\n",
       "      <td>STOLEN AUTOMOBILE</td>\n",
       "      <td>Thursday</td>\n",
       "      <td>8</td>\n",
       "      <td>NONE</td>\n",
       "      <td>RIVERA ST / 31ST AV</td>\n",
       "      <td>-122.488805</td>\n",
       "      <td>37.746211</td>\n",
       "      <td>2009</td>\n",
       "      <td>4</td>\n",
       "      <td>...</td>\n",
       "      <td>0</td>\n",
       "      <td>0</td>\n",
       "      <td>0</td>\n",
       "      <td>0</td>\n",
       "      <td>0</td>\n",
       "      <td>0</td>\n",
       "      <td>0</td>\n",
       "      <td>1</td>\n",
       "      <td>0</td>\n",
       "      <td>0</td>\n",
       "    </tr>\n",
       "  </tbody>\n",
       "</table>\n",
       "<p>3 rows × 54 columns</p>\n",
       "</div>"
      ],
      "text/plain": [
       "                     Dates                               Descript DayOfWeek  \\\n",
       "458426 2008-11-25 16:11:00      BURGLARY OF STORE, UNLAWFUL ENTRY   Tuesday   \n",
       "307047 2011-02-22 15:50:00  DRIVERS LICENSE, SUSPENDED OR REVOKED   Tuesday   \n",
       "428529 2009-04-30 14:00:00                      STOLEN AUTOMOBILE  Thursday   \n",
       "\n",
       "        PdDistrict     Resolution               Address           X  \\\n",
       "458426           9           NONE   0 Block of GRANT AV -122.404997   \n",
       "307047           0  ARREST, CITED  3RD ST / KIRKWOOD AV -122.389588   \n",
       "428529           8           NONE   RIVERA ST / 31ST AV -122.488805   \n",
       "\n",
       "                Y  Year  Month          ...           \\\n",
       "458426  37.787196  2008     11          ...            \n",
       "307047  37.737957  2011      2          ...            \n",
       "428529  37.746211  2009      4          ...            \n",
       "\n",
       "        Category_SEX OFFENSES NON FORCIBLE  Category_STOLEN PROPERTY  \\\n",
       "458426                                   0                         0   \n",
       "307047                                   0                         0   \n",
       "428529                                   0                         0   \n",
       "\n",
       "        Category_SUICIDE  Category_SUSPICIOUS OCC  Category_TREA  \\\n",
       "458426                 0                        0              0   \n",
       "307047                 0                        0              0   \n",
       "428529                 0                        0              0   \n",
       "\n",
       "        Category_TRESPASS  Category_VANDALISM  Category_VEHICLE THEFT  \\\n",
       "458426                  0                   0                       0   \n",
       "307047                  0                   0                       0   \n",
       "428529                  0                   0                       1   \n",
       "\n",
       "        Category_WARRANTS  Category_WEAPON LAWS  \n",
       "458426                  0                     0  \n",
       "307047                  0                     0  \n",
       "428529                  0                     0  \n",
       "\n",
       "[3 rows x 54 columns]"
      ]
     },
     "execution_count": 11,
     "metadata": {},
     "output_type": "execute_result"
    }
   ],
   "source": [
    "train_df.sample(3)"
   ]
  },
  {
   "cell_type": "code",
   "execution_count": 12,
   "metadata": {
    "ExecuteTime": {
     "end_time": "2019-02-14T17:24:34.348458Z",
     "start_time": "2019-02-14T17:24:34.033900Z"
    }
   },
   "outputs": [
    {
     "data": {
      "text/html": [
       "<div>\n",
       "<style>\n",
       "    .dataframe thead tr:only-child th {\n",
       "        text-align: right;\n",
       "    }\n",
       "\n",
       "    .dataframe thead th {\n",
       "        text-align: left;\n",
       "    }\n",
       "\n",
       "    .dataframe tbody tr th {\n",
       "        vertical-align: top;\n",
       "    }\n",
       "</style>\n",
       "<table border=\"1\" class=\"dataframe\">\n",
       "  <thead>\n",
       "    <tr style=\"text-align: right;\">\n",
       "      <th></th>\n",
       "      <th>Id</th>\n",
       "      <th>Dates</th>\n",
       "      <th>DayOfWeek</th>\n",
       "      <th>PdDistrict</th>\n",
       "      <th>Address</th>\n",
       "      <th>X</th>\n",
       "      <th>Y</th>\n",
       "      <th>Year</th>\n",
       "      <th>Month</th>\n",
       "      <th>IsDay</th>\n",
       "      <th>MonthSin</th>\n",
       "      <th>MonthCos</th>\n",
       "      <th>DayOfWeekSin</th>\n",
       "      <th>DayOfWeekCos</th>\n",
       "    </tr>\n",
       "  </thead>\n",
       "  <tbody>\n",
       "    <tr>\n",
       "      <th>792665</th>\n",
       "      <td>792665</td>\n",
       "      <td>2004-03-14 16:00:00</td>\n",
       "      <td>Sunday</td>\n",
       "      <td>0</td>\n",
       "      <td>3RD ST / WILLIAMS AV</td>\n",
       "      <td>-122.392625</td>\n",
       "      <td>37.729280</td>\n",
       "      <td>2004</td>\n",
       "      <td>3</td>\n",
       "      <td>1</td>\n",
       "      <td>1.000000e+00</td>\n",
       "      <td>6.123234e-17</td>\n",
       "      <td>-2.449294e-16</td>\n",
       "      <td>1.000000</td>\n",
       "    </tr>\n",
       "    <tr>\n",
       "      <th>530336</th>\n",
       "      <td>530336</td>\n",
       "      <td>2007-12-04 12:18:00</td>\n",
       "      <td>Tuesday</td>\n",
       "      <td>0</td>\n",
       "      <td>JERROLD AV / BAY SHORE BL</td>\n",
       "      <td>-122.403564</td>\n",
       "      <td>37.747761</td>\n",
       "      <td>2007</td>\n",
       "      <td>12</td>\n",
       "      <td>1</td>\n",
       "      <td>-2.449294e-16</td>\n",
       "      <td>1.000000e+00</td>\n",
       "      <td>9.749279e-01</td>\n",
       "      <td>-0.222521</td>\n",
       "    </tr>\n",
       "    <tr>\n",
       "      <th>200388</th>\n",
       "      <td>200388</td>\n",
       "      <td>2012-09-24 16:00:00</td>\n",
       "      <td>Monday</td>\n",
       "      <td>7</td>\n",
       "      <td>THE EMBARCADEROSOUTH ST / BRANNAN ST</td>\n",
       "      <td>-122.388190</td>\n",
       "      <td>37.784773</td>\n",
       "      <td>2012</td>\n",
       "      <td>9</td>\n",
       "      <td>1</td>\n",
       "      <td>-1.000000e+00</td>\n",
       "      <td>-1.836970e-16</td>\n",
       "      <td>7.818315e-01</td>\n",
       "      <td>0.623490</td>\n",
       "    </tr>\n",
       "  </tbody>\n",
       "</table>\n",
       "</div>"
      ],
      "text/plain": [
       "            Id               Dates DayOfWeek  PdDistrict  \\\n",
       "792665  792665 2004-03-14 16:00:00    Sunday           0   \n",
       "530336  530336 2007-12-04 12:18:00   Tuesday           0   \n",
       "200388  200388 2012-09-24 16:00:00    Monday           7   \n",
       "\n",
       "                                     Address           X          Y  Year  \\\n",
       "792665                  3RD ST / WILLIAMS AV -122.392625  37.729280  2004   \n",
       "530336             JERROLD AV / BAY SHORE BL -122.403564  37.747761  2007   \n",
       "200388  THE EMBARCADEROSOUTH ST / BRANNAN ST -122.388190  37.784773  2012   \n",
       "\n",
       "        Month  IsDay      MonthSin      MonthCos  DayOfWeekSin  DayOfWeekCos  \n",
       "792665      3      1  1.000000e+00  6.123234e-17 -2.449294e-16      1.000000  \n",
       "530336     12      1 -2.449294e-16  1.000000e+00  9.749279e-01     -0.222521  \n",
       "200388      9      1 -1.000000e+00 -1.836970e-16  7.818315e-01      0.623490  "
      ]
     },
     "execution_count": 12,
     "metadata": {},
     "output_type": "execute_result"
    }
   ],
   "source": [
    "test_df.sample(3)"
   ]
  },
  {
   "cell_type": "code",
   "execution_count": 13,
   "metadata": {
    "ExecuteTime": {
     "end_time": "2019-02-14T17:26:00.185108Z",
     "start_time": "2019-02-14T17:24:34.351633Z"
    }
   },
   "outputs": [
    {
     "name": "stdout",
     "output_type": "stream",
     "text": [
      "Done Outputing !\n"
     ]
    }
   ],
   "source": [
    "train_df.to_csv('./data/inter/train_clean.csv', index=False)\n",
    "test_df.to_csv('./data/inter/test_clean.csv', index=False)\n",
    "print('Done Outputing !')"
   ]
  }
 ],
 "metadata": {
  "kernelspec": {
   "display_name": "Python 3",
   "language": "python",
   "name": "python3"
  },
  "language_info": {
   "codemirror_mode": {
    "name": "ipython",
    "version": 3
   },
   "file_extension": ".py",
   "mimetype": "text/x-python",
   "name": "python",
   "nbconvert_exporter": "python",
   "pygments_lexer": "ipython3",
   "version": "3.6.1"
  }
 },
 "nbformat": 4,
 "nbformat_minor": 2
}
